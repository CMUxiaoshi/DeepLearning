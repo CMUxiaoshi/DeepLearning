{
 "cells": [
  {
   "cell_type": "code",
   "execution_count": 1,
   "id": "3e25d072-2967-405e-826f-e141fbf430a9",
   "metadata": {},
   "outputs": [
    {
     "name": "stdout",
     "output_type": "stream",
     "text": [
      "Device:  cuda\n"
     ]
    }
   ],
   "source": [
    "# !pip install wandb torchsummary pandas scikit-learn --quiet\n",
    "import torch\n",
    "from torchsummary import summary\n",
    "import torchvision # This library is used for image-based operations (Augmentations)\n",
    "import os\n",
    "import gc\n",
    "from tqdm import tqdm\n",
    "from PIL import Image\n",
    "import numpy as np\n",
    "import pandas as pd\n",
    "from sklearn.metrics import accuracy_score\n",
    "import glob\n",
    "import wandb\n",
    "import matplotlib.pyplot as plt\n",
    "import math\n",
    "import torch.nn.functional as F\n",
    "DEVICE = 'cuda' if torch.cuda.is_available() else 'cpu'\n",
    "print(\"Device: \", DEVICE)"
   ]
  },
  {
   "cell_type": "code",
   "execution_count": null,
   "id": "d2174d37-a4aa-4bc3-b96d-49b556b0236a",
   "metadata": {},
   "outputs": [],
   "source": [
    "# TODO: Use the same Kaggle code from HW1P2\n",
    "!pip install --upgrade --force-reinstall --no-deps kaggle==1.5.8\n",
    "!mkdir /root/.kaggle\n",
    "\n",
    "with open(\"/root/.kaggle/kaggle.json\", \"w+\") as f:\n",
    "    f.write('{\"username\":\"xiaocmumsppm\", \"key\":\"6a25da7cd718a7252a65bb3a7658930a\"}')\n",
    "    # Put your kaggle username & key here\n",
    "\n",
    "!chmod 600 /root/.kaggle/kaggle.json"
   ]
  },
  {
   "cell_type": "code",
   "execution_count": 4,
   "id": "d5916245-014e-4d73-b957-7947d84ca4de",
   "metadata": {},
   "outputs": [],
   "source": [
    "# !mkdir '/root/autodl-tmp/data'\n",
    "\n",
    "# !kaggle competitions download -c 11785-hw2p2-face-recognition\n",
    "!unzip -qo '/root/autodl-tmp/11785-hw2p2-face-recognition.zip' -d '/root/autodl-tmp'\n",
    "\n",
    "# !kaggle competitions download -c 11785-hw2p2-face-verification\n",
    "!unzip -qo '/root/autodl-tmp/11785-hw2p2-face-verification.zip' -d '/root/autodl-tmp'"
   ]
  },
  {
   "cell_type": "code",
   "execution_count": 2,
   "id": "93ec7757-b28c-4bbd-aabe-279266bb9499",
   "metadata": {},
   "outputs": [
    {
     "name": "stdout",
     "output_type": "stream",
     "text": [
      "Wed Mar 13 07:55:05 2024       \n",
      "+---------------------------------------------------------------------------------------+\n",
      "| NVIDIA-SMI 535.146.02             Driver Version: 535.146.02   CUDA Version: 12.2     |\n",
      "|-----------------------------------------+----------------------+----------------------+\n",
      "| GPU  Name                 Persistence-M | Bus-Id        Disp.A | Volatile Uncorr. ECC |\n",
      "| Fan  Temp   Perf          Pwr:Usage/Cap |         Memory-Usage | GPU-Util  Compute M. |\n",
      "|                                         |                      |               MIG M. |\n",
      "|=========================================+======================+======================|\n",
      "|   0  NVIDIA GeForce RTX 4090        On  | 00000000:16:00.0 Off |                  Off |\n",
      "| 30%   27C    P8              15W / 450W |      3MiB / 24564MiB |      0%      Default |\n",
      "|                                         |                      |                  N/A |\n",
      "+-----------------------------------------+----------------------+----------------------+\n",
      "|   1  NVIDIA GeForce RTX 4090        On  | 00000000:27:00.0 Off |                  Off |\n",
      "| 30%   29C    P8              19W / 450W |      3MiB / 24564MiB |      0%      Default |\n",
      "|                                         |                      |                  N/A |\n",
      "+-----------------------------------------+----------------------+----------------------+\n",
      "|   2  NVIDIA GeForce RTX 4090        On  | 00000000:38:00.0 Off |                  Off |\n",
      "| 30%   40C    P8              14W / 450W |      3MiB / 24564MiB |      0%      Default |\n",
      "|                                         |                      |                  N/A |\n",
      "+-----------------------------------------+----------------------+----------------------+\n",
      "|   3  NVIDIA GeForce RTX 4090        On  | 00000000:5A:00.0 Off |                  Off |\n",
      "| 30%   29C    P8              21W / 450W |      3MiB / 24564MiB |      0%      Default |\n",
      "|                                         |                      |                  N/A |\n",
      "+-----------------------------------------+----------------------+----------------------+\n",
      "|   4  NVIDIA GeForce RTX 4090        On  | 00000000:98:00.0 Off |                  Off |\n",
      "| 30%   31C    P8              20W / 450W |      3MiB / 24564MiB |      0%      Default |\n",
      "|                                         |                      |                  N/A |\n",
      "+-----------------------------------------+----------------------+----------------------+\n",
      "|   5  NVIDIA GeForce RTX 4090        On  | 00000000:A8:00.0 Off |                  Off |\n",
      "| 30%   30C    P8              14W / 450W |      3MiB / 24564MiB |      0%      Default |\n",
      "|                                         |                      |                  N/A |\n",
      "+-----------------------------------------+----------------------+----------------------+\n",
      "|   6  NVIDIA GeForce RTX 4090        On  | 00000000:B8:00.0 Off |                  Off |\n",
      "| 30%   27C    P8              12W / 450W |      3MiB / 24564MiB |      0%      Default |\n",
      "|                                         |                      |                  N/A |\n",
      "+-----------------------------------------+----------------------+----------------------+\n",
      "|   7  NVIDIA GeForce RTX 4090        On  | 00000000:D8:00.0 Off |                  Off |\n",
      "| 30%   28C    P8              20W / 450W |      3MiB / 24564MiB |      0%      Default |\n",
      "|                                         |                      |                  N/A |\n",
      "+-----------------------------------------+----------------------+----------------------+\n",
      "                                                                                         \n",
      "+---------------------------------------------------------------------------------------+\n",
      "| Processes:                                                                            |\n",
      "|  GPU   GI   CI        PID   Type   Process name                            GPU Memory |\n",
      "|        ID   ID                                                             Usage      |\n",
      "|=======================================================================================|\n",
      "|  No running processes found                                                           |\n",
      "+---------------------------------------------------------------------------------------+\n"
     ]
    }
   ],
   "source": [
    "!nvidia-smi # Run this to see what GPU you have"
   ]
  },
  {
   "cell_type": "code",
   "execution_count": 2,
   "id": "e0249dc4-2106-4e64-a5b6-bd03565cdc41",
   "metadata": {},
   "outputs": [],
   "source": [
    "config = {\n",
    "    'batch_size': 256, # Increase this if your GPU can handle it\n",
    "    'lr': 1e-3,\n",
    "    'epochs': 200, # 20 epochs is recommended ONLY for the early submission - you will have to train for much longer typically.\n",
    "    # Include other parameters as needed.\n",
    "}"
   ]
  },
  {
   "cell_type": "code",
   "execution_count": 3,
   "id": "49bc42b7-188c-41f4-a22c-09b17f9de1d8",
   "metadata": {},
   "outputs": [],
   "source": [
    "# --------------------------------------------------- #\n",
    "\n",
    "# Data paths\n",
    "\n",
    "DATA_DIR    = \"/root/autodl-tmp/11-785-s24-hw2p2-classification\" # TODO: Path where you have downloaded the classificaation data\n",
    "TRAIN_DIR   = os.path.join(DATA_DIR, \"train\")\n",
    "VAL_DIR     = os.path.join(DATA_DIR, \"dev\")\n",
    "TEST_DIR    = os.path.join(DATA_DIR, \"test\")\n",
    "\n",
    "# --------------------------------------------------- #\n",
    "\n",
    "# Transformations/augmentations of the Train dataset\n",
    "\n",
    "\"\"\"\n",
    "Refer https://pytorch.org/vision/stable/transforms.html\n",
    "Implementing the right train transforms/augmentation methods is key to improving performance.\n",
    "Most torchvision transforms are done on PIL images. So you convert it into a tensor at the end with ToTensor()\n",
    "But there are some transforms which are performed after ToTensor() : e.g - Normalization\n",
    "#Normalization Tip - Do not blindly use normalization that is not suitable for this dataset\n",
    "\"\"\"\n",
    "\n",
    "train_transforms = torchvision.transforms.Compose([\n",
    "    torchvision.transforms.RandomHorizontalFlip(),  \n",
    "    torchvision.transforms.ColorJitter(brightness=0.2, contrast=0.2, saturation=0.2), \n",
    "    torchvision.transforms.RandomPerspective(distortion_scale=0.3, p=0.3),\n",
    "    torchvision.transforms.RandomAffine(degrees=(-10, 10), translate=(0.1, 0.1), scale=(0.9, 1.1)), \n",
    "\n",
    "    torchvision.transforms.ToTensor(),\n",
    "    torchvision.transforms.Normalize(mean=[0.5103, 0.4014, 0.3508], std=[0.3077, 0.2701, 0.2591])\n",
    "    ]) # TODO: Specify transformations/augmentations performed on the train dataset\n",
    "\n",
    "# --------------------------------------------------- #\n",
    "\n",
    "# Transformations/augmentations of the Val dataset\n",
    "\n",
    "\"\"\"\n",
    "You should NOT have data augmentation on the validation set. Why?\n",
    "\"\"\"\n",
    "\n",
    "valid_transforms = torchvision.transforms.Compose([\n",
    "    torchvision.transforms.ToTensor(),\n",
    "    torchvision.transforms.Normalize(mean=[0.5103, 0.4014, 0.3508], std=[0.3077, 0.2701, 0.2591])\n",
    "    ]) # TODO: Specify transformations performed on the val dataset\n",
    "\n",
    "# --------------------------------------------------- #\n",
    "\n",
    "# Initializing the train and val datasets\n",
    "\n",
    "train_dataset   = torchvision.datasets.ImageFolder(TRAIN_DIR, transform = train_transforms)\n",
    "valid_dataset   = torchvision.datasets.ImageFolder(VAL_DIR, transform = valid_transforms)\n",
    "\n",
    "# --------------------------------------------------- #\n",
    "\n",
    "# Initializing the train and val dataloaders\n",
    "\n",
    "train_loader = torch.utils.data.DataLoader(dataset       = train_dataset,\n",
    "                                           batch_size    = config['batch_size'],\n",
    "                                           shuffle        = True,\n",
    "                                           num_workers = 8, # Uncomment this line if you want to increase your num workers\n",
    "                                           pin_memory = True\n",
    "                                           )\n",
    "\n",
    "valid_loader = torch.utils.data.DataLoader(dataset       = valid_dataset,\n",
    "                                           batch_size    = 1024,\n",
    "                                           shuffle        = False,\n",
    "                                           num_workers = 128, # Uncomment this line if you want to increase your num workers\n",
    "                                           )"
   ]
  },
  {
   "cell_type": "code",
   "execution_count": 4,
   "id": "56a41bdd-ac22-4784-9b15-e7ba5913d216",
   "metadata": {},
   "outputs": [],
   "source": [
    "# --------------------------------------------------- #\n",
    "\n",
    "# Test dataset class\n",
    "\n",
    "\"\"\"\n",
    "You can do this with ImageFolder as well, but it requires some tweaking\n",
    "\"\"\"\n",
    "\n",
    "class TestDataset(torch.utils.data.Dataset):\n",
    "\n",
    "    def __init__(self, data_dir, transforms):\n",
    "        self.data_dir   = data_dir\n",
    "        self.transforms = transforms\n",
    "\n",
    "        # This one-liner basically generates a sorted list of full paths to each image in the test directory\n",
    "        self.img_paths  = list(map(lambda fname: os.path.join(self.data_dir, fname), sorted(os.listdir(self.data_dir))))\n",
    "\n",
    "    def __len__(self):\n",
    "        return len(self.img_paths)\n",
    "\n",
    "    def __getitem__(self, idx):\n",
    "        return self.transforms(Image.open(self.img_paths[idx]))\n",
    "\n",
    "# --------------------------------------------------- #\n",
    "\n",
    "# Initializing the test dataset\n",
    "\n",
    "\"\"\"\n",
    "Why are we using val_transforms for Test Data?\n",
    "\"\"\"\n",
    "\n",
    "test_dataset = TestDataset(TEST_DIR, transforms = valid_transforms)\n",
    "\n",
    "# --------------------------------------------------- #\n",
    "\n",
    "# Initializing the test dataloader\n",
    "\n",
    "test_loader = torch.utils.data.DataLoader(dataset    = test_dataset,\n",
    "                                          batch_size = 1024,\n",
    "                                          shuffle     = False,\n",
    "                                          drop_last  = False,\n",
    "                                          num_workers = 128,\n",
    "                                          # Uncomment this line if you want to increase your num workers\n",
    "                                          )"
   ]
  },
  {
   "cell_type": "code",
   "execution_count": 5,
   "id": "490d3ee2-55ef-40af-85cb-723901200459",
   "metadata": {},
   "outputs": [
    {
     "name": "stdout",
     "output_type": "stream",
     "text": [
      "Number of classes    :  7001\n",
      "No. of train images  :  140020\n",
      "Shape of image       :  torch.Size([3, 224, 224])\n",
      "Batch size           :  256\n",
      "Train batches        :  547\n",
      "Val batches          :  35\n"
     ]
    }
   ],
   "source": [
    "print(\"Number of classes    : \", len(train_dataset.classes))\n",
    "print(\"No. of train images  : \", train_dataset.__len__())\n",
    "print(\"Shape of image       : \", train_dataset[0][0].shape)\n",
    "print(\"Batch size           : \", config['batch_size'])\n",
    "print(\"Train batches        : \", train_loader.__len__())\n",
    "print(\"Val batches          : \", valid_loader.__len__())"
   ]
  },
  {
   "cell_type": "code",
   "execution_count": 6,
   "id": "b61d8b60-cc68-4f74-adab-c7020ed3e02b",
   "metadata": {},
   "outputs": [
    {
     "name": "stdout",
     "output_type": "stream",
     "text": [
      "----------------------------------------------------------------\n",
      "        Layer (type)               Output Shape         Param #\n",
      "================================================================\n",
      "            Conv2d-1          [-1, 188, 56, 56]           9,212\n",
      "            Conv2d-2          [-1, 188, 56, 56]           9,212\n",
      "         LayerNorm-3          [-1, 188, 56, 56]             376\n",
      "         LayerNorm-4          [-1, 188, 56, 56]             376\n",
      "            Conv2d-5          [-1, 188, 56, 56]           9,400\n",
      "            Conv2d-6          [-1, 188, 56, 56]           9,400\n",
      "         LayerNorm-7          [-1, 56, 56, 188]             376\n",
      "         LayerNorm-8          [-1, 56, 56, 188]             376\n",
      "            Linear-9          [-1, 56, 56, 752]         142,128\n",
      "           Linear-10          [-1, 56, 56, 752]         142,128\n",
      "             GELU-11          [-1, 56, 56, 752]               0\n",
      "             GELU-12          [-1, 56, 56, 752]               0\n",
      "           Linear-13          [-1, 56, 56, 188]         141,564\n",
      "           Linear-14          [-1, 56, 56, 188]         141,564\n",
      "         DropPath-15          [-1, 188, 56, 56]               0\n",
      "         DropPath-16          [-1, 188, 56, 56]               0\n",
      "            Block-17          [-1, 188, 56, 56]               0\n",
      "            Block-18          [-1, 188, 56, 56]               0\n",
      "           Conv2d-19          [-1, 188, 56, 56]           9,400\n",
      "           Conv2d-20          [-1, 188, 56, 56]           9,400\n",
      "        LayerNorm-21          [-1, 56, 56, 188]             376\n",
      "        LayerNorm-22          [-1, 56, 56, 188]             376\n",
      "           Linear-23          [-1, 56, 56, 752]         142,128\n",
      "           Linear-24          [-1, 56, 56, 752]         142,128\n",
      "             GELU-25          [-1, 56, 56, 752]               0\n",
      "             GELU-26          [-1, 56, 56, 752]               0\n",
      "           Linear-27          [-1, 56, 56, 188]         141,564\n",
      "           Linear-28          [-1, 56, 56, 188]         141,564\n",
      "         DropPath-29          [-1, 188, 56, 56]               0\n",
      "            Block-30          [-1, 188, 56, 56]               0\n",
      "         DropPath-31          [-1, 188, 56, 56]               0\n",
      "            Block-32          [-1, 188, 56, 56]               0\n",
      "        LayerNorm-33          [-1, 188, 56, 56]             376\n",
      "        LayerNorm-34          [-1, 188, 56, 56]             376\n",
      "           Conv2d-35          [-1, 286, 28, 28]         215,358\n",
      "           Conv2d-36          [-1, 286, 28, 28]         215,358\n",
      "           Conv2d-37          [-1, 286, 28, 28]          14,300\n",
      "           Conv2d-38          [-1, 286, 28, 28]          14,300\n",
      "        LayerNorm-39          [-1, 28, 28, 286]             572\n",
      "        LayerNorm-40          [-1, 28, 28, 286]             572\n",
      "           Linear-41         [-1, 28, 28, 1144]         328,328\n",
      "           Linear-42         [-1, 28, 28, 1144]         328,328\n",
      "             GELU-43         [-1, 28, 28, 1144]               0\n",
      "           Linear-44          [-1, 28, 28, 286]         327,470\n",
      "             GELU-45         [-1, 28, 28, 1144]               0\n",
      "           Linear-46          [-1, 28, 28, 286]         327,470\n",
      "         DropPath-47          [-1, 286, 28, 28]               0\n",
      "            Block-48          [-1, 286, 28, 28]               0\n",
      "           Conv2d-49          [-1, 286, 28, 28]          14,300\n",
      "         DropPath-50          [-1, 286, 28, 28]               0\n",
      "        LayerNorm-51          [-1, 28, 28, 286]             572\n",
      "            Block-52          [-1, 286, 28, 28]               0\n",
      "           Conv2d-53          [-1, 286, 28, 28]          14,300\n",
      "           Linear-54         [-1, 28, 28, 1144]         328,328\n",
      "             GELU-55         [-1, 28, 28, 1144]               0\n",
      "           Linear-56          [-1, 28, 28, 286]         327,470\n",
      "        LayerNorm-57          [-1, 28, 28, 286]             572\n",
      "           Linear-58         [-1, 28, 28, 1144]         328,328\n",
      "             GELU-59         [-1, 28, 28, 1144]               0\n",
      "           Linear-60          [-1, 28, 28, 286]         327,470\n",
      "         DropPath-61          [-1, 286, 28, 28]               0\n",
      "            Block-62          [-1, 286, 28, 28]               0\n",
      "         DropPath-63          [-1, 286, 28, 28]               0\n",
      "            Block-64          [-1, 286, 28, 28]               0\n",
      "        LayerNorm-65          [-1, 286, 28, 28]             572\n",
      "        LayerNorm-66          [-1, 286, 28, 28]             572\n",
      "           Conv2d-67          [-1, 386, 14, 14]         441,970\n",
      "           Conv2d-68          [-1, 386, 14, 14]          19,300\n",
      "        LayerNorm-69          [-1, 14, 14, 386]             772\n",
      "           Linear-70         [-1, 14, 14, 1544]         597,528\n",
      "             GELU-71         [-1, 14, 14, 1544]               0\n",
      "           Linear-72          [-1, 14, 14, 386]         596,370\n",
      "         DropPath-73          [-1, 386, 14, 14]               0\n",
      "            Block-74          [-1, 386, 14, 14]               0\n",
      "           Conv2d-75          [-1, 386, 14, 14]          19,300\n",
      "        LayerNorm-76          [-1, 14, 14, 386]             772\n",
      "           Linear-77         [-1, 14, 14, 1544]         597,528\n",
      "             GELU-78         [-1, 14, 14, 1544]               0\n",
      "           Linear-79          [-1, 14, 14, 386]         596,370\n",
      "         DropPath-80          [-1, 386, 14, 14]               0\n",
      "            Block-81          [-1, 386, 14, 14]               0\n",
      "           Conv2d-82          [-1, 386, 14, 14]          19,300\n",
      "        LayerNorm-83          [-1, 14, 14, 386]             772\n",
      "           Linear-84         [-1, 14, 14, 1544]         597,528\n",
      "             GELU-85         [-1, 14, 14, 1544]               0\n",
      "           Linear-86          [-1, 14, 14, 386]         596,370\n",
      "         DropPath-87          [-1, 386, 14, 14]               0\n",
      "            Block-88          [-1, 386, 14, 14]               0\n",
      "        LayerNorm-89          [-1, 386, 14, 14]             772\n",
      "           Conv2d-90            [-1, 788, 7, 7]       1,217,460\n",
      "           Conv2d-91            [-1, 788, 7, 7]          39,400\n",
      "        LayerNorm-92            [-1, 7, 7, 788]           1,576\n",
      "           Linear-93           [-1, 7, 7, 3152]       2,486,928\n",
      "             GELU-94           [-1, 7, 7, 3152]               0\n",
      "           Linear-95            [-1, 7, 7, 788]       2,484,564\n",
      "         DropPath-96            [-1, 788, 7, 7]               0\n",
      "            Block-97            [-1, 788, 7, 7]               0\n",
      "AdaptiveAvgPool2d-98            [-1, 788, 1, 1]               0\n",
      "          Flatten-99                  [-1, 788]               0\n",
      "       LayerNorm-100                  [-1, 788]           1,576\n",
      "          Linear-101                 [-1, 7001]       5,523,789\n",
      "        ConvNeXt-102                 [-1, 7001]               0\n",
      "          Conv2d-103          [-1, 386, 14, 14]         441,970\n",
      "          Conv2d-104          [-1, 386, 14, 14]          19,300\n",
      "       LayerNorm-105          [-1, 14, 14, 386]             772\n",
      "          Linear-106         [-1, 14, 14, 1544]         597,528\n",
      "            GELU-107         [-1, 14, 14, 1544]               0\n",
      "          Linear-108          [-1, 14, 14, 386]         596,370\n",
      "        DropPath-109          [-1, 386, 14, 14]               0\n",
      "           Block-110          [-1, 386, 14, 14]               0\n",
      "          Conv2d-111          [-1, 386, 14, 14]          19,300\n",
      "       LayerNorm-112          [-1, 14, 14, 386]             772\n",
      "          Linear-113         [-1, 14, 14, 1544]         597,528\n",
      "            GELU-114         [-1, 14, 14, 1544]               0\n",
      "          Linear-115          [-1, 14, 14, 386]         596,370\n",
      "        DropPath-116          [-1, 386, 14, 14]               0\n",
      "           Block-117          [-1, 386, 14, 14]               0\n",
      "          Conv2d-118          [-1, 386, 14, 14]          19,300\n",
      "       LayerNorm-119          [-1, 14, 14, 386]             772\n",
      "          Linear-120         [-1, 14, 14, 1544]         597,528\n",
      "            GELU-121         [-1, 14, 14, 1544]               0\n",
      "          Linear-122          [-1, 14, 14, 386]         596,370\n",
      "        DropPath-123          [-1, 386, 14, 14]               0\n",
      "           Block-124          [-1, 386, 14, 14]               0\n",
      "       LayerNorm-125          [-1, 386, 14, 14]             772\n",
      "          Conv2d-126            [-1, 788, 7, 7]       1,217,460\n",
      "          Conv2d-127            [-1, 788, 7, 7]          39,400\n",
      "       LayerNorm-128            [-1, 7, 7, 788]           1,576\n",
      "          Linear-129           [-1, 7, 7, 3152]       2,486,928\n",
      "            GELU-130           [-1, 7, 7, 3152]               0\n",
      "          Linear-131            [-1, 7, 7, 788]       2,484,564\n",
      "        DropPath-132            [-1, 788, 7, 7]               0\n",
      "           Block-133            [-1, 788, 7, 7]               0\n",
      "AdaptiveAvgPool2d-134            [-1, 788, 1, 1]               0\n",
      "         Flatten-135                  [-1, 788]               0\n",
      "       LayerNorm-136                  [-1, 788]           1,576\n",
      "          Linear-137                 [-1, 7001]       5,523,789\n",
      "        ConvNeXt-138                 [-1, 7001]               0\n",
      "================================================================\n",
      "Total params: 35,988,230\n",
      "Trainable params: 35,988,230\n",
      "Non-trainable params: 0\n",
      "----------------------------------------------------------------\n",
      "Input size (MB): 0.57\n",
      "Forward/backward pass size (MB): 412.51\n",
      "Params size (MB): 137.28\n",
      "Estimated Total Size (MB): 550.37\n",
      "----------------------------------------------------------------\n"
     ]
    }
   ],
   "source": [
    "class LayerNorm(torch.nn.Module):\n",
    "    r\"\"\" LayerNorm that supports two data formats: channels_last (default) or channels_first. \n",
    "    The ordering of the dimensions in the inputs. channels_last corresponds to inputs with \n",
    "    shape (batch_size, height, width, channels) while channels_first corresponds to inputs \n",
    "    with shape (batch_size, channels, height, width).\n",
    "    \"\"\"\n",
    "    def __init__(self, normalized_shape, eps=1e-6, data_format=\"channels_last\"):\n",
    "        super().__init__()\n",
    "        self.weight = torch.nn.Parameter(torch.ones(normalized_shape))               # TODO: See if initializing weight to be 0 can improve model\n",
    "        self.bias = torch.nn.Parameter(torch.zeros(normalized_shape))\n",
    "        self.eps = eps\n",
    "        self.data_format = data_format\n",
    "        if self.data_format not in [\"channels_last\", \"channels_first\"]:\n",
    "            raise NotImplementedError \n",
    "        self.normalized_shape = (normalized_shape, )\n",
    "    \n",
    "    def forward(self, x):\n",
    "        if self.data_format == \"channels_last\":\n",
    "            return F.layer_norm(x, self.normalized_shape, self.weight, self.bias, self.eps)\n",
    "        elif self.data_format == \"channels_first\":\n",
    "            u = x.mean(1, keepdim=True)\n",
    "            s = (x - u).pow(2).mean(1, keepdim=True)\n",
    "            x = (x - u) / torch.sqrt(s + self.eps)\n",
    "            x = self.weight[:, None, None] * x + self.bias[:, None, None]\n",
    "            return x\n",
    "\n",
    "def drop_path(x, drop_prob: float = 0., training: bool = False):\n",
    "    \"\"\"Drop paths (Stochastic Depth) per sample (when applied in main path of residual blocks).\n",
    "\n",
    "    This is the same as the DropConnect impl I created for EfficientNet, etc networks, however,\n",
    "    the original name is misleading as 'Drop Connect' is a different form of dropout in a separate paper...\n",
    "    See discussion: https://github.com/tensorflow/tpu/issues/494#issuecomment-532968956 ... I've opted for\n",
    "    changing the layer and argument names to 'drop path' rather than mix DropConnect as a layer name and use\n",
    "    'survival rate' as the argument.\n",
    "\n",
    "    \"\"\"\n",
    "    if drop_prob == 0. or not training:\n",
    "        return x\n",
    "    keep_prob = 1 - drop_prob\n",
    "    shape = (x.shape[0],) + (1,) * (x.ndim - 1)  # work with diff dim tensors, not just 2D ConvNets\n",
    "    random_tensor = keep_prob + torch.rand(shape, dtype=x.dtype, device=x.device)\n",
    "    random_tensor.floor_()  # binarize\n",
    "    output = x.div(keep_prob) * random_tensor\n",
    "    return output\n",
    "\n",
    "\n",
    "class DropPath(torch.nn.Module):\n",
    "    \"\"\"Drop paths (Stochastic Depth) per sample  (when applied in main path of residual blocks).\n",
    "    \"\"\"\n",
    "    def __init__(self, drop_prob=None):\n",
    "        super(DropPath, self).__init__()\n",
    "        self.drop_prob = drop_prob\n",
    "\n",
    "    def forward(self, x):\n",
    "        return drop_path(x, self.drop_prob, self.training)\n",
    "\n",
    "class Block(torch.nn.Module):\n",
    "    r\"\"\" ConvNeXt Block. There are two equivalent implementations:\n",
    "    (1) DwConv -> LayerNorm (channels_first) -> 1x1 Conv -> GELU -> 1x1 Conv; all in (N, C, H, W)\n",
    "    (2) DwConv -> Permute to (N, H, W, C); LayerNorm (channels_last) -> Linear -> GELU -> Linear; Permute back\n",
    "    We use (2) as we find it slightly faster in PyTorch\n",
    "\n",
    "    Args:\n",
    "        dim (int): Number of input channels.\n",
    "        drop_path (float): Stochastic depth rate. Default: 0.0\n",
    "        layer_scale_init_value (float): Init value for Layer Scale. Default: 1e-6.\n",
    "    \"\"\"\n",
    "    def __init__(self, dim, drop_prob=0., layer_scale_init_value=1e-6):\n",
    "        super().__init__()\n",
    "        self.dwconv = torch.nn.Conv2d(dim, dim, kernel_size=7, padding=3, groups=dim) # depthwise conv\n",
    "        self.norm = LayerNorm(dim, eps=1e-6)\n",
    "        self.pwconv1 = torch.nn.Linear(dim, 4 * dim) # pointwise/1x1 convs, implemented with linear layers\n",
    "        self.act = torch.nn.GELU()\n",
    "        self.pwconv2 = torch.nn.Linear(4 * dim, dim)\n",
    "        self.gamma = torch.nn.Parameter(layer_scale_init_value * torch.ones((dim)), \n",
    "                                    requires_grad=True) if layer_scale_init_value > 0 else None\n",
    "        self.drop_path = DropPath(drop_prob) if drop_prob > 0. else torch.nn.Identity()\n",
    "\n",
    "    def forward(self, x):\n",
    "        input = x\n",
    "        x = self.dwconv(x)\n",
    "        x = x.permute(0, 2, 3, 1) # (N, C, H, W) -> (N, H, W, C)\n",
    "        x = self.norm(x)\n",
    "        x = self.pwconv1(x)\n",
    "        x = self.act(x)\n",
    "        x = self.pwconv2(x)\n",
    "        if self.gamma is not None:\n",
    "            x = self.gamma * x\n",
    "        x = x.permute(0, 3, 1, 2) # (N, H, W, C) -> (N, C, H, W)\n",
    "\n",
    "        x = input + self.drop_path(x)\n",
    "        return x\n",
    "    \n",
    "class ConvNeXt(torch.nn.Module):    # [96, 192, 384, 768]\n",
    "    def __init__(self, num_blocks=[2, 2, 3, 1], num_channels=[188, 286, 386, 788], num_classes=7001, layer_scale_init_value=1e-6):\n",
    "        super().__init__()\n",
    "    \n",
    "        stages = []\n",
    "        for i in range(len(num_blocks)):\n",
    "            for _ in range(num_blocks[i]):\n",
    "                stages.append([])\n",
    "                stages[i].append(Block(num_channels[i], layer_scale_init_value))\n",
    "                \n",
    "        self.stem = torch.nn.Sequential(\n",
    "            torch.nn.Conv2d(3, num_channels[0], kernel_size=4, stride=4), \n",
    "            LayerNorm(num_channels[0], data_format='channels_first')\n",
    "        )\n",
    "        self.stage0 = torch.nn.Sequential(*stages[0])\n",
    "        self.dimension0 = torch.nn.Sequential(\n",
    "            LayerNorm(num_channels[0], data_format='channels_first'),\n",
    "            torch.nn.Conv2d(num_channels[0], num_channels[1], kernel_size=2, stride=2)\n",
    "        )\n",
    "        self.stage1 = torch.nn.Sequential(*stages[1])\n",
    "        self.dimension1 = torch.nn.Sequential(\n",
    "            LayerNorm(num_channels[1], data_format='channels_first'),\n",
    "            torch.nn.Conv2d(num_channels[1], num_channels[2], kernel_size=2, stride=2)\n",
    "        )\n",
    "        self.stage2 = torch.nn.Sequential(*stages[2])\n",
    "        self.dimension2 = torch.nn.Sequential(\n",
    "            LayerNorm(num_channels[2], data_format='channels_first'),\n",
    "            torch.nn.Conv2d(num_channels[2], num_channels[3], kernel_size=2, stride=2)\n",
    "        )\n",
    "        self.stage3 = torch.nn.Sequential(*stages[3])\n",
    "        \n",
    "        self.one_pooling = torch.nn.AdaptiveAvgPool2d((1, 1))      \n",
    "        self.flatten = torch.nn.Flatten()\n",
    "        self.final_norm = torch.nn.LayerNorm(num_channels[-1], eps=1e-6)\n",
    "        \n",
    "        self.fc = torch.nn.Linear(num_channels[-1], num_classes)\n",
    "        \n",
    "    def forward(self, x, return_feats=False):\n",
    "        out = self.stem(x)\n",
    "        out = self.stage0(out)\n",
    "        out = self.dimension0(out)\n",
    "        out = self.stage1(out)\n",
    "        out = self.dimension1(out)\n",
    "        out = self.stage2(out)\n",
    "        out = self.dimension2(out)\n",
    "        out = self.stage3(out)\n",
    "        out = self.one_pooling(out)\n",
    "        out = self.flatten(out)\n",
    "        # if return_feats:\n",
    "        #     return out\n",
    "        out = self.final_norm(out)\n",
    "        if return_feats:\n",
    "            return out                  # TODO: See if this works better\n",
    "        out = self.fc(out)\n",
    "        return out\n",
    "    \n",
    "model = ConvNeXt()\n",
    "model = torch.nn.DataParallel(model)\n",
    "model.to('cuda')\n",
    "summary(model, (3, 224, 224))"
   ]
  },
  {
   "cell_type": "code",
   "execution_count": 7,
   "id": "cdde0be2-9375-4103-9df8-6af5b8f58098",
   "metadata": {},
   "outputs": [],
   "source": [
    "def add_weight_decay(net, l2_value, skip_list=()):\n",
    "    decay, no_decay = [], []\n",
    "    for name, param in net.named_parameters():\n",
    "        if not param.requires_grad: continue # frozen weights\t\t            \n",
    "        if len(param.shape) == 1 or name.endswith(\".bias\") or name in skip_list: no_decay.append(param)\n",
    "        else: decay.append(param)\n",
    "    return [{'params': no_decay, 'weight_decay': 0.}, {'params': decay, 'weight_decay': l2_value}]\n",
    "\n",
    "params = add_weight_decay(model, 0.02)\n",
    "\n",
    "# --------------------------------------------------- #\n",
    "# Defining Loss function\n",
    "# cross entropy loss\n",
    "criterion = torch.nn.CrossEntropyLoss(label_smoothing=0.1)\n",
    "\n",
    "# --------------------------------------------------- #\n",
    "\n",
    "# Defining Optimizer\n",
    "# SGD optimizer\n",
    "# optimizer = torch.optim.SGD(model.parameters(), lr = config['lr'], momentum = 0.9, weight_decay = 5e-4)\n",
    "# AdamW\n",
    "optimizer = torch.optim.AdamW(params, lr=config['lr'])\n",
    "\n",
    "# --------------------------------------------------- #\n",
    "\n",
    "# Defining Scheduler\n",
    "scheduler = torch.optim.lr_scheduler.ReduceLROnPlateau(optimizer, mode='min', patience=5, min_lr=1e-5)# TODO: Use a good scheduler such as ReduceLRonPlateau, StepLR, MultistepLR, CosineAnnealing, etc.\n",
    "\n",
    "# --------------------------------------------------- #\n",
    "\n",
    "# Initialising mixed-precision training. # Good news. We've already implemented FP16 (Mixed precision training) for you\n",
    "# It is useful only in the case of compatible GPUs such as T4/V100\n",
    "scaler = torch.cuda.amp.GradScaler()"
   ]
  },
  {
   "cell_type": "code",
   "execution_count": 8,
   "id": "55c12d7a-8d7c-417e-bef5-655bd8eac605",
   "metadata": {},
   "outputs": [],
   "source": [
    "def train(model, dataloader, optimizer, criterion):\n",
    "\n",
    "    model.train()\n",
    "\n",
    "    # Progress Bar\n",
    "    batch_bar   = tqdm(total=len(dataloader), dynamic_ncols=True, leave=False, position=0, desc='Train', ncols=5)\n",
    "\n",
    "    num_correct = 0\n",
    "    total_loss  = 0\n",
    "\n",
    "    for i, (images, labels) in enumerate(dataloader):\n",
    "\n",
    "        optimizer.zero_grad() # Zero gradients\n",
    "\n",
    "        images, labels = images.to(DEVICE), labels.to(DEVICE)\n",
    "\n",
    "        with torch.cuda.amp.autocast(): # This implements mixed precision. Thats it!\n",
    "            outputs = model(images)\n",
    "            loss    = criterion(outputs, labels)\n",
    "            # l2 regularization for the final layer\n",
    "            # l2_reg = torch.tensor(0.).to(DEVICE)\n",
    "            # for param in model.cls_layer.parameters():\n",
    "            #     l2_reg += torch.norm(param)\n",
    "            # loss += 0.0005 * l2_reg\n",
    "            \n",
    "        # Update no. of correct predictions & loss as we iterate\n",
    "        num_correct     += int((torch.argmax(outputs, axis=1) == labels).sum())\n",
    "        total_loss      += float(loss.item())\n",
    "\n",
    "        # tqdm lets you add some details so you can monitor training as you train.\n",
    "        batch_bar.set_postfix(\n",
    "            acc         = \"{:.04f}%\".format(100 * num_correct / (config['batch_size']*(i + 1))),\n",
    "            loss        = \"{:.04f}\".format(float(total_loss / (i + 1))),\n",
    "            num_correct = num_correct,\n",
    "            lr          = \"{:.04f}\".format(float(optimizer.param_groups[0]['lr']))\n",
    "        )\n",
    "\n",
    "        scaler.scale(loss).backward() # This is a replacement for loss.backward()\n",
    "        scaler.step(optimizer) # This is a replacement for optimizer.step()\n",
    "        scaler.update()\n",
    "\n",
    "        # TODO? Depending on your choice of scheduler,\n",
    "        # You may want to call some schdulers inside the train function. What are these?\n",
    "\n",
    "        batch_bar.update() # Update tqdm bar\n",
    "\n",
    "    batch_bar.close() # You need this to close the tqdm bar\n",
    "\n",
    "    acc         = 100 * num_correct / (config['batch_size']* len(dataloader))\n",
    "    total_loss  = float(total_loss / len(dataloader))\n",
    "\n",
    "    return acc, total_loss"
   ]
  },
  {
   "cell_type": "code",
   "execution_count": 9,
   "id": "1c84aec1-a296-48b7-928c-b5f0f1b9aa14",
   "metadata": {},
   "outputs": [],
   "source": [
    "def validate(model, dataloader, criterion):\n",
    "\n",
    "    model.eval()\n",
    "    batch_bar = tqdm(total=len(dataloader), dynamic_ncols=True, position=0, leave=False, desc='Val', ncols=5)\n",
    "\n",
    "    num_correct = 0.0\n",
    "    total_loss = 0.0\n",
    "\n",
    "    for i, (images, labels) in enumerate(dataloader):\n",
    "\n",
    "        # Move images to device\n",
    "        images, labels = images.to(DEVICE), labels.to(DEVICE)\n",
    "\n",
    "        # Get model outputs\n",
    "        with torch.inference_mode():\n",
    "            outputs = model(images)\n",
    "            loss = criterion(outputs, labels)\n",
    "            \n",
    "\n",
    "        num_correct += int((torch.argmax(outputs, axis=1) == labels).sum())\n",
    "        total_loss += float(loss.item())\n",
    "\n",
    "        batch_bar.set_postfix(\n",
    "            acc=\"{:.04f}%\".format(100 * num_correct / (1024 *(i + 1))),\n",
    "            loss=\"{:.04f}\".format(float(total_loss / (i + 1))),\n",
    "            num_correct=num_correct)\n",
    "\n",
    "        batch_bar.update()\n",
    "\n",
    "    batch_bar.close()\n",
    "    acc = 100 * num_correct / (1024 * len(dataloader))\n",
    "    total_loss = float(total_loss / len(dataloader))\n",
    "    return acc, total_loss"
   ]
  },
  {
   "cell_type": "code",
   "execution_count": 10,
   "id": "5e823dfd-cf97-405f-a612-efdcadf70355",
   "metadata": {},
   "outputs": [],
   "source": [
    "gc.collect() # These commands help you when you face CUDA OOM error\n",
    "torch.cuda.empty_cache()"
   ]
  },
  {
   "cell_type": "code",
   "execution_count": 11,
   "id": "94b1acdf-65ba-4fee-b1bb-27cc3d3def49",
   "metadata": {},
   "outputs": [
    {
     "name": "stderr",
     "output_type": "stream",
     "text": [
      "100%|██████████| 360/360 [00:00<00:00, 5208.77it/s]\n",
      "100%|██████████| 720/720 [00:00<00:00, 10726.74it/s]\n",
      "100%|██████████| 960/960 [00:00<00:00, 11893.67it/s]\n"
     ]
    }
   ],
   "source": [
    "# This obtains the list of known identities from the known folder\n",
    "known_regex = \"autodl-tmp/11-785-s24-hw2p2-verification/known/*/*\"\n",
    "# known_regex = \"C:\\\\Users\\\\sx119\\\\Desktop\\\\11785data\\\\data\\\\11-785-s24-hw2p2-verification\\\\known\\\\*\\\\*\"\n",
    "known_paths = [i.split('/')[-2] for i in sorted(glob.glob(known_regex))]\n",
    "# known_paths = [i.split('\\\\')[-2] for i in sorted(glob.glob(known_regex))]\n",
    "\n",
    "# Obtain a list of images from unknown folders\n",
    "unknown_dev_regex = \"autodl-tmp/11-785-s24-hw2p2-verification/unknown_dev/*\"\n",
    "# unknown_dev_regex = \"C:\\\\Users\\\\sx119\\\\Desktop\\\\11785data\\\\data\\\\11-785-s24-hw2p2-verification\\\\unknown_dev\\\\*\"\n",
    "unknown_test_regex = \"autodl-tmp/11-785-s24-hw2p2-verification/unknown_test/*\"\n",
    "# unknown_test_regex = \"C:\\\\Users\\\\sx119\\\\Desktop\\\\11785data\\\\data\\\\11-785-s24-hw2p2-verification\\\\unknown_test\\\\*\"\n",
    "\n",
    "# We load the images from known and unknown folders\n",
    "unknown_dev_images = [Image.open(p) for p in tqdm(sorted(glob.glob(unknown_dev_regex)))]\n",
    "unknown_test_images = [Image.open(p) for p in tqdm(sorted(glob.glob(unknown_test_regex)))]\n",
    "known_images = [Image.open(p) for p in tqdm(sorted(glob.glob(known_regex)))]\n",
    "\n",
    "# Why do you need only ToTensor() here?\n",
    "transforms = torchvision.transforms.Compose([\n",
    "    torchvision.transforms.ToTensor(), \n",
    "    torchvision.transforms.Normalize(mean=[0.5103, 0.4014, 0.3508], std=[0.3077, 0.2701, 0.2591])])\n",
    "\n",
    "unknown_dev_images = torch.stack([transforms(x) for x in unknown_dev_images])\n",
    "unknown_test_images = torch.stack([transforms(x) for x in unknown_test_images])\n",
    "known_images  = torch.stack([transforms(y) for y in known_images ])\n",
    "#Print your shapes here to understand what we have done\n",
    "\n",
    "# You can use other similarity metrics like Euclidean Distance if you wish\n",
    "similarity_metric = torch.nn.CosineSimilarity(dim= 1, eps= 1e-6)"
   ]
  },
  {
   "cell_type": "code",
   "execution_count": 12,
   "id": "e48d6edd-7898-4326-9646-ee9c8ffc94db",
   "metadata": {},
   "outputs": [],
   "source": [
    "def eval_verification(unknown_images, known_images, model, similarity, batch_size= config['batch_size'], mode='val'):\n",
    "\n",
    "    unknown_feats, known_feats = [], []\n",
    "\n",
    "    batch_bar = tqdm(total=len(unknown_images)//batch_size, dynamic_ncols=True, position=0, leave=False, desc=mode)\n",
    "    model.eval()\n",
    "\n",
    "    # We load the images as batches for memory optimization and avoiding CUDA OOM errors\n",
    "    for i in range(0, unknown_images.shape[0], batch_size):\n",
    "        unknown_batch = unknown_images[i:i+batch_size] # Slice a given portion upto batch_size\n",
    "\n",
    "        with torch.no_grad():\n",
    "            unknown_feat = model(unknown_batch.float().to(DEVICE), return_feats=True) #Get features from model\n",
    "        unknown_feats.append(unknown_feat)\n",
    "        batch_bar.update()\n",
    "\n",
    "    batch_bar.close()\n",
    "\n",
    "    batch_bar = tqdm(total=len(known_images)//batch_size, dynamic_ncols=True, position=0, leave=False, desc=mode)\n",
    "\n",
    "    for i in range(0, known_images.shape[0], batch_size):\n",
    "        known_batch = known_images[i:i+batch_size]\n",
    "        with torch.no_grad():\n",
    "              known_feat = model(known_batch.float().to(DEVICE), return_feats=True)\n",
    "\n",
    "        known_feats.append(known_feat)\n",
    "        batch_bar.update()\n",
    "\n",
    "    batch_bar.close()\n",
    "\n",
    "    # Concatenate all the batches\n",
    "    unknown_feats = torch.cat(unknown_feats, dim=0)\n",
    "    known_feats = torch.cat(known_feats, dim=0)\n",
    "\n",
    "    similarity_values = torch.stack([similarity(unknown_feats, known_feature) for known_feature in known_feats])\n",
    "    # Print the inner list comprehension in a separate cell - what is really happening?\n",
    "\n",
    "    max_similarity_values, predictions = similarity_values.max(0) #Why are we doing an max here, where are the return values?\n",
    "    max_similarity_values, predictions = max_similarity_values.cpu().numpy(), predictions.cpu().numpy()\n",
    "\n",
    "\n",
    "    # Note that in unknown identities, there are identities without correspondence in known identities.\n",
    "    # Therefore, these identities should be not similar to all the known identities, i.e. max similarity will be below a certain\n",
    "    # threshold compared with those identities with correspondence.\n",
    "\n",
    "    # In early submission, you can ignore identities without correspondence, simply taking identity with max similarity value\n",
    "    pred_id_strings = [known_paths[i] for i in predictions] # Map argmax indices to identity strings\n",
    "\n",
    "    # After early submission, remove the previous line and uncomment the following code\n",
    "\n",
    "    threshold = 0.35 # You can change this threshold\n",
    "    NO_CORRESPONDENCE_LABEL = 'n000000'\n",
    "    pred_id_strings = []\n",
    "    for idx, prediction in enumerate(predictions):\n",
    "        if max_similarity_values[idx] < threshold: # why < ? Thank about what is your similarity metric\n",
    "            pred_id_strings.append(NO_CORRESPONDENCE_LABEL)\n",
    "        else:\n",
    "            pred_id_strings.append(known_paths[prediction])\n",
    "\n",
    "    if mode == 'val':\n",
    "      # true_ids = pd.read_csv('C:\\\\Users\\\\sx119\\\\Desktop\\\\11785data\\\\data\\\\11-785-s24-hw2p2-verification\\\\verification_dev.csv')['label'].tolist()\n",
    "      true_ids = pd.read_csv('autodl-tmp/11-785-s24-hw2p2-verification/verification_dev.csv')['label'].tolist()\n",
    "      accuracy = 100 * accuracy_score(pred_id_strings, true_ids)\n",
    "      #print(\"Verification Accuracy = {}\".format(accuracy))\n",
    "      return accuracy, pred_id_strings\n",
    "\n",
    "    elif mode == 'test':\n",
    "      return pred_id_strings"
   ]
  },
  {
   "cell_type": "code",
   "execution_count": 13,
   "id": "96e6053f-551d-4a77-adad-b231870a6c03",
   "metadata": {},
   "outputs": [],
   "source": [
    "gc.collect() # These commands help you when you face CUDA OOM error\n",
    "torch.cuda.empty_cache()"
   ]
  },
  {
   "cell_type": "code",
   "execution_count": 14,
   "id": "e8db2ca6-8372-4641-940b-f42a194caae8",
   "metadata": {},
   "outputs": [
    {
     "name": "stderr",
     "output_type": "stream",
     "text": [
      "Failed to detect the name of this notebook, you can set it manually with the WANDB_NOTEBOOK_NAME environment variable to enable code saving.\n",
      "\u001b[34m\u001b[1mwandb\u001b[0m: Currently logged in as: \u001b[33mcmuxiaoshi\u001b[0m (\u001b[33m11785hw2\u001b[0m). Use \u001b[1m`wandb login --relogin`\u001b[0m to force relogin\n",
      "\u001b[34m\u001b[1mwandb\u001b[0m: \u001b[33mWARNING\u001b[0m If you're specifying your api key in code, ensure this code is not shared publicly.\n",
      "\u001b[34m\u001b[1mwandb\u001b[0m: \u001b[33mWARNING\u001b[0m Consider setting the WANDB_API_KEY environment variable, or running `wandb login` from the command line.\n",
      "\u001b[34m\u001b[1mwandb\u001b[0m: Appending key for api.wandb.ai to your netrc file: /root/.netrc\n"
     ]
    },
    {
     "data": {
      "text/plain": [
       "True"
      ]
     },
     "execution_count": 14,
     "metadata": {},
     "output_type": "execute_result"
    }
   ],
   "source": [
    "wandb.login(key=\"55110248ba20ab2e47033c657a7fccb4fae4a83d\") # API Key is in your wandb account, under settings (wandb.ai/settings)"
   ]
  },
  {
   "cell_type": "code",
   "execution_count": 15,
   "id": "72468447-c4ac-4a72-ab28-fbac4587328c",
   "metadata": {},
   "outputs": [
    {
     "data": {
      "application/vnd.jupyter.widget-view+json": {
       "model_id": "6787773770244cdaa5fcd39700f0e2fa",
       "version_major": 2,
       "version_minor": 0
      },
      "text/plain": [
       "VBox(children=(Label(value='Waiting for wandb.init()...\\r'), FloatProgress(value=0.011112335334635444, max=1.0…"
      ]
     },
     "metadata": {},
     "output_type": "display_data"
    },
    {
     "data": {
      "text/html": [
       "Tracking run with wandb version 0.16.4"
      ],
      "text/plain": [
       "<IPython.core.display.HTML object>"
      ]
     },
     "metadata": {},
     "output_type": "display_data"
    },
    {
     "data": {
      "text/html": [
       "Run data is saved locally in <code>/root/wandb/run-20240313_134529-99bst2em</code>"
      ],
      "text/plain": [
       "<IPython.core.display.HTML object>"
      ]
     },
     "metadata": {},
     "output_type": "display_data"
    },
    {
     "data": {
      "text/html": [
       "Syncing run <strong><a href='https://wandb.ai/11785hw2/hw2p2-ablations/runs/99bst2em' target=\"_blank\">Convnext_version9</a></strong> to <a href='https://wandb.ai/11785hw2/hw2p2-ablations' target=\"_blank\">Weights & Biases</a> (<a href='https://wandb.me/run' target=\"_blank\">docs</a>)<br/>"
      ],
      "text/plain": [
       "<IPython.core.display.HTML object>"
      ]
     },
     "metadata": {},
     "output_type": "display_data"
    },
    {
     "data": {
      "text/html": [
       " View project at <a href='https://wandb.ai/11785hw2/hw2p2-ablations' target=\"_blank\">https://wandb.ai/11785hw2/hw2p2-ablations</a>"
      ],
      "text/plain": [
       "<IPython.core.display.HTML object>"
      ]
     },
     "metadata": {},
     "output_type": "display_data"
    },
    {
     "data": {
      "text/html": [
       " View run at <a href='https://wandb.ai/11785hw2/hw2p2-ablations/runs/99bst2em' target=\"_blank\">https://wandb.ai/11785hw2/hw2p2-ablations/runs/99bst2em</a>"
      ],
      "text/plain": [
       "<IPython.core.display.HTML object>"
      ]
     },
     "metadata": {},
     "output_type": "display_data"
    }
   ],
   "source": [
    "# Create your wandb run\n",
    "\n",
    "run = wandb.init(\n",
    "    name = \"Convnext_version9\", ## Wandb creates random run names if you skip this field\n",
    "    reinit = True, ### Allows reinitalizing runs when you re-run this cell\n",
    "    # run_id = ### Insert specific run id here if you want to resume a previous run\n",
    "    # resume = \"must\" ### You need this to resume previous runs, but comment out reinit = True when using this\n",
    "    project = \"hw2p2-ablations\", ### Project should be created in your wandb account\n",
    "    config = config ### Wandb Config for your run\n",
    ")"
   ]
  },
  {
   "cell_type": "code",
   "execution_count": 16,
   "id": "818d3907-79a2-4996-81ca-52ffda328a6c",
   "metadata": {},
   "outputs": [
    {
     "name": "stdout",
     "output_type": "stream",
     "text": [
      "\n",
      "Epoch 1/200\n"
     ]
    },
    {
     "name": "stderr",
     "output_type": "stream",
     "text": [
      "                                                                                                             \r"
     ]
    },
    {
     "name": "stdout",
     "output_type": "stream",
     "text": [
      "\n",
      "Epoch 1/200: \n",
      "Train Acc (Classification) 0.0171%\t Train Loss (Classification) 8.9322\t Learning Rate 0.0010\n"
     ]
    },
    {
     "name": "stderr",
     "output_type": "stream",
     "text": [
      "                                                                                              \r"
     ]
    },
    {
     "name": "stdout",
     "output_type": "stream",
     "text": [
      "Val Acc (Classification) 0.0307%\t Val Loss (Classification) 8.8069\n"
     ]
    },
    {
     "name": "stderr",
     "output_type": "stream",
     "text": [
      "                                                  \r"
     ]
    },
    {
     "name": "stdout",
     "output_type": "stream",
     "text": [
      "Val Acc (Verification) 0.2778%\t \n",
      "Saved best classification model\n",
      "Saved verification model\n",
      "\n",
      "Epoch 2/200\n"
     ]
    },
    {
     "name": "stderr",
     "output_type": "stream",
     "text": [
      "                                                                                                             \r"
     ]
    },
    {
     "name": "stdout",
     "output_type": "stream",
     "text": [
      "\n",
      "Epoch 2/200: \n",
      "Train Acc (Classification) 0.0543%\t Train Loss (Classification) 8.6866\t Learning Rate 0.0010\n"
     ]
    },
    {
     "name": "stderr",
     "output_type": "stream",
     "text": [
      "                                                                                              \r"
     ]
    },
    {
     "name": "stdout",
     "output_type": "stream",
     "text": [
      "Val Acc (Classification) 0.1702%\t Val Loss (Classification) 8.4753\n"
     ]
    },
    {
     "name": "stderr",
     "output_type": "stream",
     "text": [
      "                                                  \r"
     ]
    },
    {
     "name": "stdout",
     "output_type": "stream",
     "text": [
      "Val Acc (Verification) 1.3889%\t \n",
      "Saved best classification model\n",
      "Saved verification model\n",
      "\n",
      "Epoch 3/200\n"
     ]
    },
    {
     "name": "stderr",
     "output_type": "stream",
     "text": [
      "                                                                                                              \r"
     ]
    },
    {
     "name": "stdout",
     "output_type": "stream",
     "text": [
      "\n",
      "Epoch 3/200: \n",
      "Train Acc (Classification) 0.2235%\t Train Loss (Classification) 8.2837\t Learning Rate 0.0010\n"
     ]
    },
    {
     "name": "stderr",
     "output_type": "stream",
     "text": [
      "                                                                                               \r"
     ]
    },
    {
     "name": "stdout",
     "output_type": "stream",
     "text": [
      "Val Acc (Classification) 0.4632%\t Val Loss (Classification) 8.0166\n"
     ]
    },
    {
     "name": "stderr",
     "output_type": "stream",
     "text": [
      "                                                  \r"
     ]
    },
    {
     "name": "stdout",
     "output_type": "stream",
     "text": [
      "Val Acc (Verification) 1.9444%\t \n",
      "Saved best classification model\n",
      "Saved verification model\n",
      "\n",
      "Epoch 4/200\n"
     ]
    },
    {
     "name": "stderr",
     "output_type": "stream",
     "text": [
      "                                                                                                               \r"
     ]
    },
    {
     "name": "stdout",
     "output_type": "stream",
     "text": [
      "\n",
      "Epoch 4/200: \n",
      "Train Acc (Classification) 0.9248%\t Train Loss (Classification) 7.7040\t Learning Rate 0.0010\n"
     ]
    },
    {
     "name": "stderr",
     "output_type": "stream",
     "text": [
      "                                                                                               \r"
     ]
    },
    {
     "name": "stdout",
     "output_type": "stream",
     "text": [
      "Val Acc (Classification) 1.7327%\t Val Loss (Classification) 7.4005\n"
     ]
    },
    {
     "name": "stderr",
     "output_type": "stream",
     "text": [
      "                                                  \r"
     ]
    },
    {
     "name": "stdout",
     "output_type": "stream",
     "text": [
      "Val Acc (Verification) 3.3333%\t \n",
      "Saved best classification model\n",
      "Saved verification model\n",
      "\n",
      "Epoch 5/200\n"
     ]
    },
    {
     "name": "stderr",
     "output_type": "stream",
     "text": [
      "Train:  18%|█▊        | 98/547 [00:16<00:58,  7.62it/s, acc=2.5608%, loss=7.2029, lr=0.0010, num_correct=649]wandb: Network error (TransientError), entering retry loop.\n",
      "                                                                                                               \r"
     ]
    },
    {
     "name": "stdout",
     "output_type": "stream",
     "text": [
      "\n",
      "Epoch 5/200: \n",
      "Train Acc (Classification) 3.4464%\t Train Loss (Classification) 7.0482\t Learning Rate 0.0010\n"
     ]
    },
    {
     "name": "stderr",
     "output_type": "stream",
     "text": [
      "                                                                                                  \r"
     ]
    },
    {
     "name": "stdout",
     "output_type": "stream",
     "text": [
      "Val Acc (Classification) 5.9124%\t Val Loss (Classification) 6.7249\n"
     ]
    },
    {
     "name": "stderr",
     "output_type": "stream",
     "text": [
      "                                                  \r"
     ]
    },
    {
     "name": "stdout",
     "output_type": "stream",
     "text": [
      "Val Acc (Verification) 6.3889%\t \n",
      "Saved best classification model\n",
      "Saved verification model\n",
      "\n",
      "Epoch 6/200\n"
     ]
    },
    {
     "name": "stderr",
     "output_type": "stream",
     "text": [
      "                                                                                                                \r"
     ]
    },
    {
     "name": "stdout",
     "output_type": "stream",
     "text": [
      "\n",
      "Epoch 6/200: \n",
      "Train Acc (Classification) 8.8580%\t Train Loss (Classification) 6.3584\t Learning Rate 0.0010\n"
     ]
    },
    {
     "name": "stderr",
     "output_type": "stream",
     "text": [
      "                                                                                                   \r"
     ]
    },
    {
     "name": "stdout",
     "output_type": "stream",
     "text": [
      "Val Acc (Classification) 11.0156%\t Val Loss (Classification) 6.2680\n"
     ]
    },
    {
     "name": "stderr",
     "output_type": "stream",
     "text": [
      "                                                  \r"
     ]
    },
    {
     "name": "stdout",
     "output_type": "stream",
     "text": [
      "Val Acc (Verification) 8.3333%\t \n",
      "Saved best classification model\n",
      "Saved verification model\n",
      "\n",
      "Epoch 7/200\n"
     ]
    },
    {
     "name": "stderr",
     "output_type": "stream",
     "text": [
      "                                                                                                                 \r"
     ]
    },
    {
     "name": "stdout",
     "output_type": "stream",
     "text": [
      "\n",
      "Epoch 7/200: \n",
      "Train Acc (Classification) 17.4160%\t Train Loss (Classification) 5.7129\t Learning Rate 0.0010\n"
     ]
    },
    {
     "name": "stderr",
     "output_type": "stream",
     "text": [
      "                                                                                                   \r"
     ]
    },
    {
     "name": "stdout",
     "output_type": "stream",
     "text": [
      "Val Acc (Classification) 18.3398%\t Val Loss (Classification) 5.7314\n"
     ]
    },
    {
     "name": "stderr",
     "output_type": "stream",
     "text": [
      "                                                  \r"
     ]
    },
    {
     "name": "stdout",
     "output_type": "stream",
     "text": [
      "Val Acc (Verification) 11.1111%\t \n",
      "Saved best classification model\n",
      "Saved verification model\n",
      "\n",
      "Epoch 8/200\n"
     ]
    },
    {
     "name": "stderr",
     "output_type": "stream",
     "text": [
      "                                                                                                                 \r"
     ]
    },
    {
     "name": "stdout",
     "output_type": "stream",
     "text": [
      "\n",
      "Epoch 8/200: \n",
      "Train Acc (Classification) 27.0324%\t Train Loss (Classification) 5.1239\t Learning Rate 0.0010\n"
     ]
    },
    {
     "name": "stderr",
     "output_type": "stream",
     "text": [
      "                                                                                                   \r"
     ]
    },
    {
     "name": "stdout",
     "output_type": "stream",
     "text": [
      "Val Acc (Classification) 27.4916%\t Val Loss (Classification) 5.1968\n"
     ]
    },
    {
     "name": "stderr",
     "output_type": "stream",
     "text": [
      "                                                  \r"
     ]
    },
    {
     "name": "stdout",
     "output_type": "stream",
     "text": [
      "Val Acc (Verification) 15.5556%\t \n",
      "Saved best classification model\n",
      "Saved verification model\n",
      "\n",
      "Epoch 9/200\n"
     ]
    },
    {
     "name": "stderr",
     "output_type": "stream",
     "text": [
      "                                                                                                                 \r"
     ]
    },
    {
     "name": "stdout",
     "output_type": "stream",
     "text": [
      "\n",
      "Epoch 9/200: \n",
      "Train Acc (Classification) 37.2950%\t Train Loss (Classification) 4.5796\t Learning Rate 0.0010\n"
     ]
    },
    {
     "name": "stderr",
     "output_type": "stream",
     "text": [
      "                                                                                                    \r"
     ]
    },
    {
     "name": "stdout",
     "output_type": "stream",
     "text": [
      "Val Acc (Classification) 35.5106%\t Val Loss (Classification) 4.7381\n"
     ]
    },
    {
     "name": "stderr",
     "output_type": "stream",
     "text": [
      "                                                  \r"
     ]
    },
    {
     "name": "stdout",
     "output_type": "stream",
     "text": [
      "Val Acc (Verification) 15.5556%\t \n",
      "Saved best classification model\n",
      "Saved verification model\n",
      "\n",
      "Epoch 10/200\n"
     ]
    },
    {
     "name": "stderr",
     "output_type": "stream",
     "text": [
      "                                                                                                                 \r"
     ]
    },
    {
     "name": "stdout",
     "output_type": "stream",
     "text": [
      "\n",
      "Epoch 10/200: \n",
      "Train Acc (Classification) 47.0678%\t Train Loss (Classification) 4.1061\t Learning Rate 0.0010\n"
     ]
    },
    {
     "name": "stderr",
     "output_type": "stream",
     "text": [
      "                                                                                                    \r"
     ]
    },
    {
     "name": "stdout",
     "output_type": "stream",
     "text": [
      "Val Acc (Classification) 42.9018%\t Val Loss (Classification) 4.3688\n"
     ]
    },
    {
     "name": "stderr",
     "output_type": "stream",
     "text": [
      "                                                  \r"
     ]
    },
    {
     "name": "stdout",
     "output_type": "stream",
     "text": [
      "Val Acc (Verification) 20.8333%\t \n",
      "Saved best classification model\n",
      "Saved verification model\n",
      "\n",
      "Epoch 11/200\n"
     ]
    },
    {
     "name": "stderr",
     "output_type": "stream",
     "text": [
      "                                                                                                                 \r"
     ]
    },
    {
     "name": "stdout",
     "output_type": "stream",
     "text": [
      "\n",
      "Epoch 11/200: \n",
      "Train Acc (Classification) 55.1053%\t Train Loss (Classification) 3.7344\t Learning Rate 0.0010\n"
     ]
    },
    {
     "name": "stderr",
     "output_type": "stream",
     "text": [
      "                                                                                                    \r"
     ]
    },
    {
     "name": "stdout",
     "output_type": "stream",
     "text": [
      "Val Acc (Classification) 47.2489%\t Val Loss (Classification) 4.1349\n"
     ]
    },
    {
     "name": "stderr",
     "output_type": "stream",
     "text": [
      "                                                  \r"
     ]
    },
    {
     "name": "stdout",
     "output_type": "stream",
     "text": [
      "Val Acc (Verification) 20.5556%\t \n",
      "Saved best classification model\n",
      "\n",
      "Epoch 12/200\n"
     ]
    },
    {
     "name": "stderr",
     "output_type": "stream",
     "text": [
      "                                                                                                                 \r"
     ]
    },
    {
     "name": "stdout",
     "output_type": "stream",
     "text": [
      "\n",
      "Epoch 12/200: \n",
      "Train Acc (Classification) 61.7602%\t Train Loss (Classification) 3.4211\t Learning Rate 0.0010\n"
     ]
    },
    {
     "name": "stderr",
     "output_type": "stream",
     "text": [
      "                                                                                                    \r"
     ]
    },
    {
     "name": "stdout",
     "output_type": "stream",
     "text": [
      "Val Acc (Classification) 51.4118%\t Val Loss (Classification) 3.9377\n"
     ]
    },
    {
     "name": "stderr",
     "output_type": "stream",
     "text": [
      "                                                  \r"
     ]
    },
    {
     "name": "stdout",
     "output_type": "stream",
     "text": [
      "Val Acc (Verification) 23.0556%\t \n",
      "Saved best classification model\n",
      "Saved verification model\n",
      "\n",
      "Epoch 13/200\n"
     ]
    },
    {
     "name": "stderr",
     "output_type": "stream",
     "text": [
      "                                                                                                                 \r"
     ]
    },
    {
     "name": "stdout",
     "output_type": "stream",
     "text": [
      "\n",
      "Epoch 13/200: \n",
      "Train Acc (Classification) 67.2989%\t Train Loss (Classification) 3.1718\t Learning Rate 0.0010\n"
     ]
    },
    {
     "name": "stderr",
     "output_type": "stream",
     "text": [
      "                                                                                                    \r"
     ]
    },
    {
     "name": "stdout",
     "output_type": "stream",
     "text": [
      "Val Acc (Classification) 55.4129%\t Val Loss (Classification) 3.7539\n"
     ]
    },
    {
     "name": "stderr",
     "output_type": "stream",
     "text": [
      "                                                  \r"
     ]
    },
    {
     "name": "stdout",
     "output_type": "stream",
     "text": [
      "Val Acc (Verification) 24.7222%\t \n",
      "Saved best classification model\n",
      "Saved verification model\n",
      "\n",
      "Epoch 14/200\n"
     ]
    },
    {
     "name": "stderr",
     "output_type": "stream",
     "text": [
      "                                                                                                                  \r"
     ]
    },
    {
     "name": "stdout",
     "output_type": "stream",
     "text": [
      "\n",
      "Epoch 14/200: \n",
      "Train Acc (Classification) 72.1057%\t Train Loss (Classification) 2.9583\t Learning Rate 0.0010\n"
     ]
    },
    {
     "name": "stderr",
     "output_type": "stream",
     "text": [
      "                                                                                                    \r"
     ]
    },
    {
     "name": "stdout",
     "output_type": "stream",
     "text": [
      "Val Acc (Classification) 58.9035%\t Val Loss (Classification) 3.5915\n"
     ]
    },
    {
     "name": "stderr",
     "output_type": "stream",
     "text": [
      "                                                  \r"
     ]
    },
    {
     "name": "stdout",
     "output_type": "stream",
     "text": [
      "Val Acc (Verification) 26.1111%\t \n",
      "Saved best classification model\n",
      "Saved verification model\n",
      "\n",
      "Epoch 15/200\n"
     ]
    },
    {
     "name": "stderr",
     "output_type": "stream",
     "text": [
      "                                                                                                                  \r"
     ]
    },
    {
     "name": "stdout",
     "output_type": "stream",
     "text": [
      "\n",
      "Epoch 15/200: \n",
      "Train Acc (Classification) 76.0733%\t Train Loss (Classification) 2.7745\t Learning Rate 0.0010\n"
     ]
    },
    {
     "name": "stderr",
     "output_type": "stream",
     "text": [
      "                                                                                                    \r"
     ]
    },
    {
     "name": "stdout",
     "output_type": "stream",
     "text": [
      "Val Acc (Classification) 61.0156%\t Val Loss (Classification) 3.4777\n"
     ]
    },
    {
     "name": "stderr",
     "output_type": "stream",
     "text": [
      "                                                  \r"
     ]
    },
    {
     "name": "stdout",
     "output_type": "stream",
     "text": [
      "Val Acc (Verification) 26.3889%\t \n",
      "Saved best classification model\n",
      "Saved verification model\n",
      "\n",
      "Epoch 16/200\n"
     ]
    },
    {
     "name": "stderr",
     "output_type": "stream",
     "text": [
      "                                                                                                                  \r"
     ]
    },
    {
     "name": "stdout",
     "output_type": "stream",
     "text": [
      "\n",
      "Epoch 16/200: \n",
      "Train Acc (Classification) 79.7289%\t Train Loss (Classification) 2.6131\t Learning Rate 0.0010\n"
     ]
    },
    {
     "name": "stderr",
     "output_type": "stream",
     "text": [
      "                                                                                                    \r"
     ]
    },
    {
     "name": "stdout",
     "output_type": "stream",
     "text": [
      "Val Acc (Classification) 63.0246%\t Val Loss (Classification) 3.3917\n"
     ]
    },
    {
     "name": "stderr",
     "output_type": "stream",
     "text": [
      "                                                  \r"
     ]
    },
    {
     "name": "stdout",
     "output_type": "stream",
     "text": [
      "Val Acc (Verification) 26.1111%\t \n",
      "Saved best classification model\n",
      "\n",
      "Epoch 17/200\n"
     ]
    },
    {
     "name": "stderr",
     "output_type": "stream",
     "text": [
      "                                                                                                                  \r"
     ]
    },
    {
     "name": "stdout",
     "output_type": "stream",
     "text": [
      "\n",
      "Epoch 17/200: \n",
      "Train Acc (Classification) 82.8482%\t Train Loss (Classification) 2.4675\t Learning Rate 0.0010\n"
     ]
    },
    {
     "name": "stderr",
     "output_type": "stream",
     "text": [
      "                                                                                                    \r"
     ]
    },
    {
     "name": "stdout",
     "output_type": "stream",
     "text": [
      "Val Acc (Classification) 64.0792%\t Val Loss (Classification) 3.3479\n"
     ]
    },
    {
     "name": "stderr",
     "output_type": "stream",
     "text": [
      "                                                  \r"
     ]
    },
    {
     "name": "stdout",
     "output_type": "stream",
     "text": [
      "Val Acc (Verification) 28.0556%\t \n",
      "Saved best classification model\n",
      "Saved verification model\n",
      "\n",
      "Epoch 18/200\n"
     ]
    },
    {
     "name": "stderr",
     "output_type": "stream",
     "text": [
      "                                                                                                                  \r"
     ]
    },
    {
     "name": "stdout",
     "output_type": "stream",
     "text": [
      "\n",
      "Epoch 18/200: \n",
      "Train Acc (Classification) 85.6754%\t Train Loss (Classification) 2.3300\t Learning Rate 0.0010\n"
     ]
    },
    {
     "name": "stderr",
     "output_type": "stream",
     "text": [
      "                                                                                                    \r"
     ]
    },
    {
     "name": "stdout",
     "output_type": "stream",
     "text": [
      "Val Acc (Classification) 65.3265%\t Val Loss (Classification) 3.2986\n"
     ]
    },
    {
     "name": "stderr",
     "output_type": "stream",
     "text": [
      "                                                  \r"
     ]
    },
    {
     "name": "stdout",
     "output_type": "stream",
     "text": [
      "Val Acc (Verification) 29.4444%\t \n",
      "Saved best classification model\n",
      "Saved verification model\n",
      "\n",
      "Epoch 19/200\n"
     ]
    },
    {
     "name": "stderr",
     "output_type": "stream",
     "text": [
      "                                                                                                                  \r"
     ]
    },
    {
     "name": "stdout",
     "output_type": "stream",
     "text": [
      "\n",
      "Epoch 19/200: \n",
      "Train Acc (Classification) 88.2591%\t Train Loss (Classification) 2.2081\t Learning Rate 0.0010\n"
     ]
    },
    {
     "name": "stderr",
     "output_type": "stream",
     "text": [
      "                                                                                                    \r"
     ]
    },
    {
     "name": "stdout",
     "output_type": "stream",
     "text": [
      "Val Acc (Classification) 65.8203%\t Val Loss (Classification) 3.2947\n"
     ]
    },
    {
     "name": "stderr",
     "output_type": "stream",
     "text": [
      "                                                  \r"
     ]
    },
    {
     "name": "stdout",
     "output_type": "stream",
     "text": [
      "Val Acc (Verification) 29.1667%\t \n",
      "Saved best classification model\n",
      "\n",
      "Epoch 20/200\n"
     ]
    },
    {
     "name": "stderr",
     "output_type": "stream",
     "text": [
      "                                                                                                                  \r"
     ]
    },
    {
     "name": "stdout",
     "output_type": "stream",
     "text": [
      "\n",
      "Epoch 20/200: \n",
      "Train Acc (Classification) 90.4086%\t Train Loss (Classification) 2.1040\t Learning Rate 0.0010\n"
     ]
    },
    {
     "name": "stderr",
     "output_type": "stream",
     "text": [
      "                                                                                                    \r"
     ]
    },
    {
     "name": "stdout",
     "output_type": "stream",
     "text": [
      "Val Acc (Classification) 66.6546%\t Val Loss (Classification) 3.2735\n"
     ]
    },
    {
     "name": "stderr",
     "output_type": "stream",
     "text": [
      "                                                  \r"
     ]
    },
    {
     "name": "stdout",
     "output_type": "stream",
     "text": [
      "Val Acc (Verification) 28.6111%\t \n",
      "Saved best classification model\n",
      "\n",
      "Epoch 21/200\n"
     ]
    },
    {
     "name": "stderr",
     "output_type": "stream",
     "text": [
      "                                                                                                                  \r"
     ]
    },
    {
     "name": "stdout",
     "output_type": "stream",
     "text": [
      "\n",
      "Epoch 21/200: \n",
      "Train Acc (Classification) 92.4817%\t Train Loss (Classification) 2.0007\t Learning Rate 0.0010\n"
     ]
    },
    {
     "name": "stderr",
     "output_type": "stream",
     "text": [
      "                                                                                                    \r"
     ]
    },
    {
     "name": "stdout",
     "output_type": "stream",
     "text": [
      "Val Acc (Classification) 67.9269%\t Val Loss (Classification) 3.2114\n"
     ]
    },
    {
     "name": "stderr",
     "output_type": "stream",
     "text": [
      "                                                  \r"
     ]
    },
    {
     "name": "stdout",
     "output_type": "stream",
     "text": [
      "Val Acc (Verification) 32.5000%\t \n",
      "Saved best classification model\n",
      "Saved verification model\n",
      "\n",
      "Epoch 22/200\n"
     ]
    },
    {
     "name": "stderr",
     "output_type": "stream",
     "text": [
      "                                                                                                                  \r"
     ]
    },
    {
     "name": "stdout",
     "output_type": "stream",
     "text": [
      "\n",
      "Epoch 22/200: \n",
      "Train Acc (Classification) 94.4034%\t Train Loss (Classification) 1.9067\t Learning Rate 0.0010\n"
     ]
    },
    {
     "name": "stderr",
     "output_type": "stream",
     "text": [
      "                                                                                                    \r"
     ]
    },
    {
     "name": "stdout",
     "output_type": "stream",
     "text": [
      "Val Acc (Classification) 68.6802%\t Val Loss (Classification) 3.1842\n"
     ]
    },
    {
     "name": "stderr",
     "output_type": "stream",
     "text": [
      "                                                  \r"
     ]
    },
    {
     "name": "stdout",
     "output_type": "stream",
     "text": [
      "Val Acc (Verification) 33.0556%\t \n",
      "Saved best classification model\n",
      "Saved verification model\n",
      "\n",
      "Epoch 23/200\n"
     ]
    },
    {
     "name": "stderr",
     "output_type": "stream",
     "text": [
      "                                                                                                                  \r"
     ]
    },
    {
     "name": "stdout",
     "output_type": "stream",
     "text": [
      "\n",
      "Epoch 23/200: \n",
      "Train Acc (Classification) 96.0066%\t Train Loss (Classification) 1.8302\t Learning Rate 0.0010\n"
     ]
    },
    {
     "name": "stderr",
     "output_type": "stream",
     "text": [
      "                                                                                                    \r"
     ]
    },
    {
     "name": "stdout",
     "output_type": "stream",
     "text": [
      "Val Acc (Classification) 69.1769%\t Val Loss (Classification) 3.1723\n"
     ]
    },
    {
     "name": "stderr",
     "output_type": "stream",
     "text": [
      "                                                  \r"
     ]
    },
    {
     "name": "stdout",
     "output_type": "stream",
     "text": [
      "Val Acc (Verification) 31.1111%\t \n",
      "Saved best classification model\n",
      "\n",
      "Epoch 24/200\n"
     ]
    },
    {
     "name": "stderr",
     "output_type": "stream",
     "text": [
      "                                                                                                                  \r"
     ]
    },
    {
     "name": "stdout",
     "output_type": "stream",
     "text": [
      "\n",
      "Epoch 24/200: \n",
      "Train Acc (Classification) 96.9828%\t Train Loss (Classification) 1.7733\t Learning Rate 0.0010\n"
     ]
    },
    {
     "name": "stderr",
     "output_type": "stream",
     "text": [
      "                                                                                                    \r"
     ]
    },
    {
     "name": "stdout",
     "output_type": "stream",
     "text": [
      "Val Acc (Classification) 70.1479%\t Val Loss (Classification) 3.1194\n"
     ]
    },
    {
     "name": "stderr",
     "output_type": "stream",
     "text": [
      "                                                  \r"
     ]
    },
    {
     "name": "stdout",
     "output_type": "stream",
     "text": [
      "Val Acc (Verification) 31.6667%\t \n",
      "Saved best classification model\n",
      "\n",
      "Epoch 25/200\n"
     ]
    },
    {
     "name": "stderr",
     "output_type": "stream",
     "text": [
      "                                                                                                                  \r"
     ]
    },
    {
     "name": "stdout",
     "output_type": "stream",
     "text": [
      "\n",
      "Epoch 25/200: \n",
      "Train Acc (Classification) 97.9133%\t Train Loss (Classification) 1.7204\t Learning Rate 0.0010\n"
     ]
    },
    {
     "name": "stderr",
     "output_type": "stream",
     "text": [
      "                                                                                                    \r"
     ]
    },
    {
     "name": "stdout",
     "output_type": "stream",
     "text": [
      "Val Acc (Classification) 70.6250%\t Val Loss (Classification) 3.0872\n"
     ]
    },
    {
     "name": "stderr",
     "output_type": "stream",
     "text": [
      "                                                  \r"
     ]
    },
    {
     "name": "stdout",
     "output_type": "stream",
     "text": [
      "Val Acc (Verification) 33.3333%\t \n",
      "Saved best classification model\n",
      "Saved verification model\n",
      "\n",
      "Epoch 26/200\n"
     ]
    },
    {
     "name": "stderr",
     "output_type": "stream",
     "text": [
      "                                                                                                                  \r"
     ]
    },
    {
     "name": "stdout",
     "output_type": "stream",
     "text": [
      "\n",
      "Epoch 26/200: \n",
      "Train Acc (Classification) 98.2947%\t Train Loss (Classification) 1.6845\t Learning Rate 0.0010\n"
     ]
    },
    {
     "name": "stderr",
     "output_type": "stream",
     "text": [
      "                                                                                                    \r"
     ]
    },
    {
     "name": "stdout",
     "output_type": "stream",
     "text": [
      "Val Acc (Classification) 71.8555%\t Val Loss (Classification) 3.0379\n"
     ]
    },
    {
     "name": "stderr",
     "output_type": "stream",
     "text": [
      "                                                  \r"
     ]
    },
    {
     "name": "stdout",
     "output_type": "stream",
     "text": [
      "Val Acc (Verification) 33.6111%\t \n",
      "Saved best classification model\n",
      "Saved verification model\n",
      "\n",
      "Epoch 27/200\n"
     ]
    },
    {
     "name": "stderr",
     "output_type": "stream",
     "text": [
      "                                                                                                                  \r"
     ]
    },
    {
     "name": "stdout",
     "output_type": "stream",
     "text": [
      "\n",
      "Epoch 27/200: \n",
      "Train Acc (Classification) 98.6053%\t Train Loss (Classification) 1.6549\t Learning Rate 0.0010\n"
     ]
    },
    {
     "name": "stderr",
     "output_type": "stream",
     "text": [
      "                                                                                                    \r"
     ]
    },
    {
     "name": "stdout",
     "output_type": "stream",
     "text": [
      "Val Acc (Classification) 72.1735%\t Val Loss (Classification) 2.9847\n"
     ]
    },
    {
     "name": "stderr",
     "output_type": "stream",
     "text": [
      "                                                  \r"
     ]
    },
    {
     "name": "stdout",
     "output_type": "stream",
     "text": [
      "Val Acc (Verification) 32.5000%\t \n",
      "Saved best classification model\n",
      "\n",
      "Epoch 28/200\n"
     ]
    },
    {
     "name": "stderr",
     "output_type": "stream",
     "text": [
      "                                                                                                                  \r"
     ]
    },
    {
     "name": "stdout",
     "output_type": "stream",
     "text": [
      "\n",
      "Epoch 28/200: \n",
      "Train Acc (Classification) 98.9731%\t Train Loss (Classification) 1.6235\t Learning Rate 0.0010\n"
     ]
    },
    {
     "name": "stderr",
     "output_type": "stream",
     "text": [
      "                                                                                                    \r"
     ]
    },
    {
     "name": "stdout",
     "output_type": "stream",
     "text": [
      "Val Acc (Classification) 71.7829%\t Val Loss (Classification) 3.0112\n"
     ]
    },
    {
     "name": "stderr",
     "output_type": "stream",
     "text": [
      "                                                  \r"
     ]
    },
    {
     "name": "stdout",
     "output_type": "stream",
     "text": [
      "Val Acc (Verification) 33.8889%\t \n",
      "Saved best classification model\n",
      "Saved verification model\n",
      "\n",
      "Epoch 29/200\n"
     ]
    },
    {
     "name": "stderr",
     "output_type": "stream",
     "text": [
      "                                                                                                                  \r"
     ]
    },
    {
     "name": "stdout",
     "output_type": "stream",
     "text": [
      "\n",
      "Epoch 29/200: \n",
      "Train Acc (Classification) 99.0824%\t Train Loss (Classification) 1.6034\t Learning Rate 0.0010\n"
     ]
    },
    {
     "name": "stderr",
     "output_type": "stream",
     "text": [
      "                                                                                                    \r"
     ]
    },
    {
     "name": "stdout",
     "output_type": "stream",
     "text": [
      "Val Acc (Classification) 72.9604%\t Val Loss (Classification) 2.9406\n"
     ]
    },
    {
     "name": "stderr",
     "output_type": "stream",
     "text": [
      "                                                  \r"
     ]
    },
    {
     "name": "stdout",
     "output_type": "stream",
     "text": [
      "Val Acc (Verification) 31.9444%\t \n",
      "Saved best classification model\n",
      "\n",
      "Epoch 30/200\n"
     ]
    },
    {
     "name": "stderr",
     "output_type": "stream",
     "text": [
      "                                                                                                                  \r"
     ]
    },
    {
     "name": "stdout",
     "output_type": "stream",
     "text": [
      "\n",
      "Epoch 30/200: \n",
      "Train Acc (Classification) 99.3087%\t Train Loss (Classification) 1.5794\t Learning Rate 0.0010\n"
     ]
    },
    {
     "name": "stderr",
     "output_type": "stream",
     "text": [
      "                                                                                                    \r"
     ]
    },
    {
     "name": "stdout",
     "output_type": "stream",
     "text": [
      "Val Acc (Classification) 73.6579%\t Val Loss (Classification) 2.9152\n"
     ]
    },
    {
     "name": "stderr",
     "output_type": "stream",
     "text": [
      "                                                  \r"
     ]
    },
    {
     "name": "stdout",
     "output_type": "stream",
     "text": [
      "Val Acc (Verification) 34.1667%\t \n",
      "Saved best classification model\n",
      "Saved verification model\n",
      "\n",
      "Epoch 31/200\n"
     ]
    },
    {
     "name": "stderr",
     "output_type": "stream",
     "text": [
      "                                                                                                                  \r"
     ]
    },
    {
     "name": "stdout",
     "output_type": "stream",
     "text": [
      "\n",
      "Epoch 31/200: \n",
      "Train Acc (Classification) 99.3523%\t Train Loss (Classification) 1.5632\t Learning Rate 0.0010\n"
     ]
    },
    {
     "name": "stderr",
     "output_type": "stream",
     "text": [
      "                                                                                                    \r"
     ]
    },
    {
     "name": "stdout",
     "output_type": "stream",
     "text": [
      "Val Acc (Classification) 73.1948%\t Val Loss (Classification) 2.9193\n"
     ]
    },
    {
     "name": "stderr",
     "output_type": "stream",
     "text": [
      "                                                  \r"
     ]
    },
    {
     "name": "stdout",
     "output_type": "stream",
     "text": [
      "Val Acc (Verification) 35.5556%\t \n",
      "Saved best classification model\n",
      "Saved verification model\n",
      "\n",
      "Epoch 32/200\n"
     ]
    },
    {
     "name": "stderr",
     "output_type": "stream",
     "text": [
      "                                                                                                                  \r"
     ]
    },
    {
     "name": "stdout",
     "output_type": "stream",
     "text": [
      "\n",
      "Epoch 32/200: \n",
      "Train Acc (Classification) 99.4751%\t Train Loss (Classification) 1.5475\t Learning Rate 0.0010\n"
     ]
    },
    {
     "name": "stderr",
     "output_type": "stream",
     "text": [
      "                                                                                                    \r"
     ]
    },
    {
     "name": "stdout",
     "output_type": "stream",
     "text": [
      "Val Acc (Classification) 74.0932%\t Val Loss (Classification) 2.8765\n"
     ]
    },
    {
     "name": "stderr",
     "output_type": "stream",
     "text": [
      "                                                  \r"
     ]
    },
    {
     "name": "stdout",
     "output_type": "stream",
     "text": [
      "Val Acc (Verification) 34.4444%\t \n",
      "Saved best classification model\n",
      "\n",
      "Epoch 33/200\n"
     ]
    },
    {
     "name": "stderr",
     "output_type": "stream",
     "text": [
      "                                                                                                                  \r"
     ]
    },
    {
     "name": "stdout",
     "output_type": "stream",
     "text": [
      "\n",
      "Epoch 33/200: \n",
      "Train Acc (Classification) 99.5715%\t Train Loss (Classification) 1.5304\t Learning Rate 0.0010\n"
     ]
    },
    {
     "name": "stderr",
     "output_type": "stream",
     "text": [
      "                                                                                                    \r"
     ]
    },
    {
     "name": "stdout",
     "output_type": "stream",
     "text": [
      "Val Acc (Classification) 73.8867%\t Val Loss (Classification) 2.8878\n"
     ]
    },
    {
     "name": "stderr",
     "output_type": "stream",
     "text": [
      "                                                  \r"
     ]
    },
    {
     "name": "stdout",
     "output_type": "stream",
     "text": [
      "Val Acc (Verification) 35.5556%\t \n",
      "Saved best classification model\n",
      "Saved verification model\n",
      "\n",
      "Epoch 34/200\n"
     ]
    },
    {
     "name": "stderr",
     "output_type": "stream",
     "text": [
      "                                                                                                                  \r"
     ]
    },
    {
     "name": "stdout",
     "output_type": "stream",
     "text": [
      "\n",
      "Epoch 34/200: \n",
      "Train Acc (Classification) 99.6365%\t Train Loss (Classification) 1.5159\t Learning Rate 0.0010\n"
     ]
    },
    {
     "name": "stderr",
     "output_type": "stream",
     "text": [
      "                                                                                                    \r"
     ]
    },
    {
     "name": "stdout",
     "output_type": "stream",
     "text": [
      "Val Acc (Classification) 74.6512%\t Val Loss (Classification) 2.8439\n"
     ]
    },
    {
     "name": "stderr",
     "output_type": "stream",
     "text": [
      "                                                  \r"
     ]
    },
    {
     "name": "stdout",
     "output_type": "stream",
     "text": [
      "Val Acc (Verification) 36.6667%\t \n",
      "Saved best classification model\n",
      "Saved verification model\n",
      "\n",
      "Epoch 35/200\n"
     ]
    },
    {
     "name": "stderr",
     "output_type": "stream",
     "text": [
      "                                                                                                                  \r"
     ]
    },
    {
     "name": "stdout",
     "output_type": "stream",
     "text": [
      "\n",
      "Epoch 35/200: \n",
      "Train Acc (Classification) 99.6729%\t Train Loss (Classification) 1.5070\t Learning Rate 0.0010\n"
     ]
    },
    {
     "name": "stderr",
     "output_type": "stream",
     "text": [
      "                                                                                                    \r"
     ]
    },
    {
     "name": "stdout",
     "output_type": "stream",
     "text": [
      "Val Acc (Classification) 74.9275%\t Val Loss (Classification) 2.8206\n"
     ]
    },
    {
     "name": "stderr",
     "output_type": "stream",
     "text": [
      "                                                  \r"
     ]
    },
    {
     "name": "stdout",
     "output_type": "stream",
     "text": [
      "Val Acc (Verification) 36.6667%\t \n",
      "Saved best classification model\n",
      "Saved verification model\n",
      "\n",
      "Epoch 36/200\n"
     ]
    },
    {
     "name": "stderr",
     "output_type": "stream",
     "text": [
      "                                                                                                                  \r"
     ]
    },
    {
     "name": "stdout",
     "output_type": "stream",
     "text": [
      "\n",
      "Epoch 36/200: \n",
      "Train Acc (Classification) 99.7265%\t Train Loss (Classification) 1.4937\t Learning Rate 0.0010\n"
     ]
    },
    {
     "name": "stderr",
     "output_type": "stream",
     "text": [
      "                                                                                                    \r"
     ]
    },
    {
     "name": "stdout",
     "output_type": "stream",
     "text": [
      "Val Acc (Classification) 75.1256%\t Val Loss (Classification) 2.8371\n"
     ]
    },
    {
     "name": "stderr",
     "output_type": "stream",
     "text": [
      "                                                  \r"
     ]
    },
    {
     "name": "stdout",
     "output_type": "stream",
     "text": [
      "Val Acc (Verification) 34.7222%\t \n",
      "Saved best classification model\n",
      "\n",
      "Epoch 37/200\n"
     ]
    },
    {
     "name": "stderr",
     "output_type": "stream",
     "text": [
      "                                                                                                                  \r"
     ]
    },
    {
     "name": "stdout",
     "output_type": "stream",
     "text": [
      "\n",
      "Epoch 37/200: \n",
      "Train Acc (Classification) 99.7536%\t Train Loss (Classification) 1.4848\t Learning Rate 0.0010\n"
     ]
    },
    {
     "name": "stderr",
     "output_type": "stream",
     "text": [
      "                                                                                                    \r"
     ]
    },
    {
     "name": "stdout",
     "output_type": "stream",
     "text": [
      "Val Acc (Classification) 75.3906%\t Val Loss (Classification) 2.7906\n"
     ]
    },
    {
     "name": "stderr",
     "output_type": "stream",
     "text": [
      "                                                  \r"
     ]
    },
    {
     "name": "stdout",
     "output_type": "stream",
     "text": [
      "Val Acc (Verification) 34.7222%\t \n",
      "Saved best classification model\n",
      "\n",
      "Epoch 38/200\n"
     ]
    },
    {
     "name": "stderr",
     "output_type": "stream",
     "text": [
      "                                                                                                                  \r"
     ]
    },
    {
     "name": "stdout",
     "output_type": "stream",
     "text": [
      "\n",
      "Epoch 38/200: \n",
      "Train Acc (Classification) 99.7651%\t Train Loss (Classification) 1.4739\t Learning Rate 0.0010\n"
     ]
    },
    {
     "name": "stderr",
     "output_type": "stream",
     "text": [
      "                                                                                                    \r"
     ]
    },
    {
     "name": "stdout",
     "output_type": "stream",
     "text": [
      "Val Acc (Classification) 76.0770%\t Val Loss (Classification) 2.7662\n"
     ]
    },
    {
     "name": "stderr",
     "output_type": "stream",
     "text": [
      "                                                  \r"
     ]
    },
    {
     "name": "stdout",
     "output_type": "stream",
     "text": [
      "Val Acc (Verification) 39.1667%\t \n",
      "Saved best classification model\n",
      "Saved verification model\n",
      "\n",
      "Epoch 39/200\n"
     ]
    },
    {
     "name": "stderr",
     "output_type": "stream",
     "text": [
      "                                                                                                                  \r"
     ]
    },
    {
     "name": "stdout",
     "output_type": "stream",
     "text": [
      "\n",
      "Epoch 39/200: \n",
      "Train Acc (Classification) 99.8222%\t Train Loss (Classification) 1.4653\t Learning Rate 0.0010\n"
     ]
    },
    {
     "name": "stderr",
     "output_type": "stream",
     "text": [
      "                                                                                                    \r"
     ]
    },
    {
     "name": "stdout",
     "output_type": "stream",
     "text": [
      "Val Acc (Classification) 75.1981%\t Val Loss (Classification) 2.8020\n"
     ]
    },
    {
     "name": "stderr",
     "output_type": "stream",
     "text": [
      "                                                  \r"
     ]
    },
    {
     "name": "stdout",
     "output_type": "stream",
     "text": [
      "Val Acc (Verification) 36.9444%\t \n",
      "Saved best classification model\n",
      "\n",
      "Epoch 40/200\n"
     ]
    },
    {
     "name": "stderr",
     "output_type": "stream",
     "text": [
      "                                                                                                                  \r"
     ]
    },
    {
     "name": "stdout",
     "output_type": "stream",
     "text": [
      "\n",
      "Epoch 40/200: \n",
      "Train Acc (Classification) 99.8400%\t Train Loss (Classification) 1.4582\t Learning Rate 0.0010\n"
     ]
    },
    {
     "name": "stderr",
     "output_type": "stream",
     "text": [
      "                                                                                                    \r"
     ]
    },
    {
     "name": "stdout",
     "output_type": "stream",
     "text": [
      "Val Acc (Classification) 75.9905%\t Val Loss (Classification) 2.7772\n"
     ]
    },
    {
     "name": "stderr",
     "output_type": "stream",
     "text": [
      "                                                  \r"
     ]
    },
    {
     "name": "stdout",
     "output_type": "stream",
     "text": [
      "Val Acc (Verification) 37.7778%\t \n",
      "Saved best classification model\n",
      "\n",
      "Epoch 41/200\n"
     ]
    },
    {
     "name": "stderr",
     "output_type": "stream",
     "text": [
      "                                                                                                                  \r"
     ]
    },
    {
     "name": "stdout",
     "output_type": "stream",
     "text": [
      "\n",
      "Epoch 41/200: \n",
      "Train Acc (Classification) 99.8507%\t Train Loss (Classification) 1.4495\t Learning Rate 0.0010\n"
     ]
    },
    {
     "name": "stderr",
     "output_type": "stream",
     "text": [
      "                                                                                                    \r"
     ]
    },
    {
     "name": "stdout",
     "output_type": "stream",
     "text": [
      "Val Acc (Classification) 76.7467%\t Val Loss (Classification) 2.7329\n"
     ]
    },
    {
     "name": "stderr",
     "output_type": "stream",
     "text": [
      "                                                  \r"
     ]
    },
    {
     "name": "stdout",
     "output_type": "stream",
     "text": [
      "Val Acc (Verification) 38.0556%\t \n",
      "Saved best classification model\n",
      "\n",
      "Epoch 42/200\n"
     ]
    },
    {
     "name": "stderr",
     "output_type": "stream",
     "text": [
      "                                                                                                                  \r"
     ]
    },
    {
     "name": "stdout",
     "output_type": "stream",
     "text": [
      "\n",
      "Epoch 42/200: \n",
      "Train Acc (Classification) 99.8579%\t Train Loss (Classification) 1.4444\t Learning Rate 0.0010\n"
     ]
    },
    {
     "name": "stderr",
     "output_type": "stream",
     "text": [
      "                                                                                                    \r"
     ]
    },
    {
     "name": "stdout",
     "output_type": "stream",
     "text": [
      "Val Acc (Classification) 76.6881%\t Val Loss (Classification) 2.7267\n"
     ]
    },
    {
     "name": "stderr",
     "output_type": "stream",
     "text": [
      "                                                  \r"
     ]
    },
    {
     "name": "stdout",
     "output_type": "stream",
     "text": [
      "Val Acc (Verification) 39.7222%\t \n",
      "Saved best classification model\n",
      "Saved verification model\n",
      "\n",
      "Epoch 43/200\n"
     ]
    },
    {
     "name": "stderr",
     "output_type": "stream",
     "text": [
      "                                                                                                                  \r"
     ]
    },
    {
     "name": "stdout",
     "output_type": "stream",
     "text": [
      "\n",
      "Epoch 43/200: \n",
      "Train Acc (Classification) 99.8672%\t Train Loss (Classification) 1.4377\t Learning Rate 0.0010\n"
     ]
    },
    {
     "name": "stderr",
     "output_type": "stream",
     "text": [
      "                                                                                                    \r"
     ]
    },
    {
     "name": "stdout",
     "output_type": "stream",
     "text": [
      "Val Acc (Classification) 76.6044%\t Val Loss (Classification) 2.7389\n"
     ]
    },
    {
     "name": "stderr",
     "output_type": "stream",
     "text": [
      "                                                  \r"
     ]
    },
    {
     "name": "stdout",
     "output_type": "stream",
     "text": [
      "Val Acc (Verification) 38.8889%\t \n",
      "Saved best classification model\n",
      "\n",
      "Epoch 44/200\n"
     ]
    },
    {
     "name": "stderr",
     "output_type": "stream",
     "text": [
      "                                                                                                                  \r"
     ]
    },
    {
     "name": "stdout",
     "output_type": "stream",
     "text": [
      "\n",
      "Epoch 44/200: \n",
      "Train Acc (Classification) 99.8836%\t Train Loss (Classification) 1.4325\t Learning Rate 0.0010\n"
     ]
    },
    {
     "name": "stderr",
     "output_type": "stream",
     "text": [
      "                                                                                                    \r"
     ]
    },
    {
     "name": "stdout",
     "output_type": "stream",
     "text": [
      "Val Acc (Classification) 76.6713%\t Val Loss (Classification) 2.7513\n"
     ]
    },
    {
     "name": "stderr",
     "output_type": "stream",
     "text": [
      "                                                  \r"
     ]
    },
    {
     "name": "stdout",
     "output_type": "stream",
     "text": [
      "Val Acc (Verification) 37.7778%\t \n",
      "Saved best classification model\n",
      "\n",
      "Epoch 45/200\n"
     ]
    },
    {
     "name": "stderr",
     "output_type": "stream",
     "text": [
      "                                                                                                                  \r"
     ]
    },
    {
     "name": "stdout",
     "output_type": "stream",
     "text": [
      "\n",
      "Epoch 45/200: \n",
      "Train Acc (Classification) 99.9029%\t Train Loss (Classification) 1.4268\t Learning Rate 0.0010\n"
     ]
    },
    {
     "name": "stderr",
     "output_type": "stream",
     "text": [
      "                                                                                                    \r"
     ]
    },
    {
     "name": "stdout",
     "output_type": "stream",
     "text": [
      "Val Acc (Classification) 77.5056%\t Val Loss (Classification) 2.7301\n"
     ]
    },
    {
     "name": "stderr",
     "output_type": "stream",
     "text": [
      "                                                  \r"
     ]
    },
    {
     "name": "stdout",
     "output_type": "stream",
     "text": [
      "Val Acc (Verification) 38.3333%\t \n",
      "Saved best classification model\n",
      "\n",
      "Epoch 46/200\n"
     ]
    },
    {
     "name": "stderr",
     "output_type": "stream",
     "text": [
      "                                                                                                                  \r"
     ]
    },
    {
     "name": "stdout",
     "output_type": "stream",
     "text": [
      "\n",
      "Epoch 46/200: \n",
      "Train Acc (Classification) 99.8965%\t Train Loss (Classification) 1.4224\t Learning Rate 0.0010\n"
     ]
    },
    {
     "name": "stderr",
     "output_type": "stream",
     "text": [
      "                                                                                                    \r"
     ]
    },
    {
     "name": "stdout",
     "output_type": "stream",
     "text": [
      "Val Acc (Classification) 77.4526%\t Val Loss (Classification) 2.7148\n"
     ]
    },
    {
     "name": "stderr",
     "output_type": "stream",
     "text": [
      "                                                  \r"
     ]
    },
    {
     "name": "stdout",
     "output_type": "stream",
     "text": [
      "Val Acc (Verification) 38.8889%\t \n",
      "Saved best classification model\n",
      "\n",
      "Epoch 47/200\n"
     ]
    },
    {
     "name": "stderr",
     "output_type": "stream",
     "text": [
      "                                                                                                                  \r"
     ]
    },
    {
     "name": "stdout",
     "output_type": "stream",
     "text": [
      "\n",
      "Epoch 47/200: \n",
      "Train Acc (Classification) 99.9043%\t Train Loss (Classification) 1.4183\t Learning Rate 0.0010\n"
     ]
    },
    {
     "name": "stderr",
     "output_type": "stream",
     "text": [
      "                                                                                                    \r"
     ]
    },
    {
     "name": "stdout",
     "output_type": "stream",
     "text": [
      "Val Acc (Classification) 77.8711%\t Val Loss (Classification) 2.6965\n"
     ]
    },
    {
     "name": "stderr",
     "output_type": "stream",
     "text": [
      "                                                  \r"
     ]
    },
    {
     "name": "stdout",
     "output_type": "stream",
     "text": [
      "Val Acc (Verification) 38.0556%\t \n",
      "Saved best classification model\n",
      "\n",
      "Epoch 48/200\n"
     ]
    },
    {
     "name": "stderr",
     "output_type": "stream",
     "text": [
      "                                                                                                                  \r"
     ]
    },
    {
     "name": "stdout",
     "output_type": "stream",
     "text": [
      "\n",
      "Epoch 48/200: \n",
      "Train Acc (Classification) 99.9022%\t Train Loss (Classification) 1.4128\t Learning Rate 0.0010\n"
     ]
    },
    {
     "name": "stderr",
     "output_type": "stream",
     "text": [
      "                                                                                                    \r"
     ]
    },
    {
     "name": "stdout",
     "output_type": "stream",
     "text": [
      "Val Acc (Classification) 78.2143%\t Val Loss (Classification) 2.6740\n"
     ]
    },
    {
     "name": "stderr",
     "output_type": "stream",
     "text": [
      "                                                  \r"
     ]
    },
    {
     "name": "stdout",
     "output_type": "stream",
     "text": [
      "Val Acc (Verification) 38.0556%\t \n",
      "Saved best classification model\n",
      "\n",
      "Epoch 49/200\n"
     ]
    },
    {
     "name": "stderr",
     "output_type": "stream",
     "text": [
      "                                                                                                                  \r"
     ]
    },
    {
     "name": "stdout",
     "output_type": "stream",
     "text": [
      "\n",
      "Epoch 49/200: \n",
      "Train Acc (Classification) 99.9236%\t Train Loss (Classification) 1.4076\t Learning Rate 0.0010\n"
     ]
    },
    {
     "name": "stderr",
     "output_type": "stream",
     "text": [
      "                                                                                                    \r"
     ]
    },
    {
     "name": "stdout",
     "output_type": "stream",
     "text": [
      "Val Acc (Classification) 78.3538%\t Val Loss (Classification) 2.6863\n"
     ]
    },
    {
     "name": "stderr",
     "output_type": "stream",
     "text": [
      "                                                  \r"
     ]
    },
    {
     "name": "stdout",
     "output_type": "stream",
     "text": [
      "Val Acc (Verification) 37.2222%\t \n",
      "Saved best classification model\n",
      "\n",
      "Epoch 50/200\n"
     ]
    },
    {
     "name": "stderr",
     "output_type": "stream",
     "text": [
      "                                                                                                                  \r"
     ]
    },
    {
     "name": "stdout",
     "output_type": "stream",
     "text": [
      "\n",
      "Epoch 50/200: \n",
      "Train Acc (Classification) 99.9336%\t Train Loss (Classification) 1.4030\t Learning Rate 0.0010\n"
     ]
    },
    {
     "name": "stderr",
     "output_type": "stream",
     "text": [
      "                                                                                                    \r"
     ]
    },
    {
     "name": "stdout",
     "output_type": "stream",
     "text": [
      "Val Acc (Classification) 78.4459%\t Val Loss (Classification) 2.6713\n"
     ]
    },
    {
     "name": "stderr",
     "output_type": "stream",
     "text": [
      "                                                  \r"
     ]
    },
    {
     "name": "stdout",
     "output_type": "stream",
     "text": [
      "Val Acc (Verification) 40.0000%\t \n",
      "Saved best classification model\n",
      "Saved verification model\n",
      "\n",
      "Epoch 51/200\n"
     ]
    },
    {
     "name": "stderr",
     "output_type": "stream",
     "text": [
      "                                                                                                                  \r"
     ]
    },
    {
     "name": "stdout",
     "output_type": "stream",
     "text": [
      "\n",
      "Epoch 51/200: \n",
      "Train Acc (Classification) 99.9486%\t Train Loss (Classification) 1.3995\t Learning Rate 0.0010\n"
     ]
    },
    {
     "name": "stderr",
     "output_type": "stream",
     "text": [
      "                                                                                                    \r"
     ]
    },
    {
     "name": "stdout",
     "output_type": "stream",
     "text": [
      "Val Acc (Classification) 78.2952%\t Val Loss (Classification) 2.6779\n"
     ]
    },
    {
     "name": "stderr",
     "output_type": "stream",
     "text": [
      "                                                  \r"
     ]
    },
    {
     "name": "stdout",
     "output_type": "stream",
     "text": [
      "Val Acc (Verification) 38.3333%\t \n",
      "Saved best classification model\n",
      "\n",
      "Epoch 52/200\n"
     ]
    },
    {
     "name": "stderr",
     "output_type": "stream",
     "text": [
      "                                                                                                                  \r"
     ]
    },
    {
     "name": "stdout",
     "output_type": "stream",
     "text": [
      "\n",
      "Epoch 52/200: \n",
      "Train Acc (Classification) 99.9429%\t Train Loss (Classification) 1.3960\t Learning Rate 0.0010\n"
     ]
    },
    {
     "name": "stderr",
     "output_type": "stream",
     "text": [
      "                                                                                                    \r"
     ]
    },
    {
     "name": "stdout",
     "output_type": "stream",
     "text": [
      "Val Acc (Classification) 79.0290%\t Val Loss (Classification) 2.6574\n"
     ]
    },
    {
     "name": "stderr",
     "output_type": "stream",
     "text": [
      "                                                  \r"
     ]
    },
    {
     "name": "stdout",
     "output_type": "stream",
     "text": [
      "Val Acc (Verification) 39.1667%\t \n",
      "Saved best classification model\n",
      "\n",
      "Epoch 53/200\n"
     ]
    },
    {
     "name": "stderr",
     "output_type": "stream",
     "text": [
      "                                                                                                                  \r"
     ]
    },
    {
     "name": "stdout",
     "output_type": "stream",
     "text": [
      "\n",
      "Epoch 53/200: \n",
      "Train Acc (Classification) 99.9436%\t Train Loss (Classification) 1.3933\t Learning Rate 0.0010\n"
     ]
    },
    {
     "name": "stderr",
     "output_type": "stream",
     "text": [
      "                                                                                                    \r"
     ]
    },
    {
     "name": "stdout",
     "output_type": "stream",
     "text": [
      "Val Acc (Classification) 78.2199%\t Val Loss (Classification) 2.6764\n"
     ]
    },
    {
     "name": "stderr",
     "output_type": "stream",
     "text": [
      "                                                  \r"
     ]
    },
    {
     "name": "stdout",
     "output_type": "stream",
     "text": [
      "Val Acc (Verification) 39.7222%\t \n",
      "Saved best classification model\n",
      "\n",
      "Epoch 54/200\n"
     ]
    },
    {
     "name": "stderr",
     "output_type": "stream",
     "text": [
      "                                                                                                                  \r"
     ]
    },
    {
     "name": "stdout",
     "output_type": "stream",
     "text": [
      "\n",
      "Epoch 54/200: \n",
      "Train Acc (Classification) 99.9472%\t Train Loss (Classification) 1.3908\t Learning Rate 0.0010\n"
     ]
    },
    {
     "name": "stderr",
     "output_type": "stream",
     "text": [
      "                                                                                                    \r"
     ]
    },
    {
     "name": "stdout",
     "output_type": "stream",
     "text": [
      "Val Acc (Classification) 78.9704%\t Val Loss (Classification) 2.6527\n"
     ]
    },
    {
     "name": "stderr",
     "output_type": "stream",
     "text": [
      "                                                  \r"
     ]
    },
    {
     "name": "stdout",
     "output_type": "stream",
     "text": [
      "Val Acc (Verification) 41.6667%\t \n",
      "Saved best classification model\n",
      "Saved verification model\n",
      "\n",
      "Epoch 55/200\n"
     ]
    },
    {
     "name": "stderr",
     "output_type": "stream",
     "text": [
      "                                                                                                                  \r"
     ]
    },
    {
     "name": "stdout",
     "output_type": "stream",
     "text": [
      "\n",
      "Epoch 55/200: \n",
      "Train Acc (Classification) 99.9536%\t Train Loss (Classification) 1.3887\t Learning Rate 0.0010\n"
     ]
    },
    {
     "name": "stderr",
     "output_type": "stream",
     "text": [
      "                                                                                                    \r"
     ]
    },
    {
     "name": "stdout",
     "output_type": "stream",
     "text": [
      "Val Acc (Classification) 79.2718%\t Val Loss (Classification) 2.6392\n"
     ]
    },
    {
     "name": "stderr",
     "output_type": "stream",
     "text": [
      "                                                  \r"
     ]
    },
    {
     "name": "stdout",
     "output_type": "stream",
     "text": [
      "Val Acc (Verification) 39.7222%\t \n",
      "Saved best classification model\n",
      "\n",
      "Epoch 56/200\n"
     ]
    },
    {
     "name": "stderr",
     "output_type": "stream",
     "text": [
      "                                                                                                                  \r"
     ]
    },
    {
     "name": "stdout",
     "output_type": "stream",
     "text": [
      "\n",
      "Epoch 56/200: \n",
      "Train Acc (Classification) 99.9564%\t Train Loss (Classification) 1.3863\t Learning Rate 0.0010\n"
     ]
    },
    {
     "name": "stderr",
     "output_type": "stream",
     "text": [
      "                                                                                                    \r"
     ]
    },
    {
     "name": "stdout",
     "output_type": "stream",
     "text": [
      "Val Acc (Classification) 79.0541%\t Val Loss (Classification) 2.6409\n"
     ]
    },
    {
     "name": "stderr",
     "output_type": "stream",
     "text": [
      "                                                  \r"
     ]
    },
    {
     "name": "stdout",
     "output_type": "stream",
     "text": [
      "Val Acc (Verification) 40.8333%\t \n",
      "Saved best classification model\n",
      "\n",
      "Epoch 57/200\n"
     ]
    },
    {
     "name": "stderr",
     "output_type": "stream",
     "text": [
      "                                                                                                                  \r"
     ]
    },
    {
     "name": "stdout",
     "output_type": "stream",
     "text": [
      "\n",
      "Epoch 57/200: \n",
      "Train Acc (Classification) 99.9572%\t Train Loss (Classification) 1.3817\t Learning Rate 0.0010\n"
     ]
    },
    {
     "name": "stderr",
     "output_type": "stream",
     "text": [
      "                                                                                                    \r"
     ]
    },
    {
     "name": "stdout",
     "output_type": "stream",
     "text": [
      "Val Acc (Classification) 79.4922%\t Val Loss (Classification) 2.6250\n"
     ]
    },
    {
     "name": "stderr",
     "output_type": "stream",
     "text": [
      "                                                  \r"
     ]
    },
    {
     "name": "stdout",
     "output_type": "stream",
     "text": [
      "Val Acc (Verification) 39.4444%\t \n",
      "Saved best classification model\n",
      "\n",
      "Epoch 58/200\n"
     ]
    },
    {
     "name": "stderr",
     "output_type": "stream",
     "text": [
      "                                                                                                                  \r"
     ]
    },
    {
     "name": "stdout",
     "output_type": "stream",
     "text": [
      "\n",
      "Epoch 58/200: \n",
      "Train Acc (Classification) 99.9522%\t Train Loss (Classification) 1.3793\t Learning Rate 0.0010\n"
     ]
    },
    {
     "name": "stderr",
     "output_type": "stream",
     "text": [
      "                                                                                                    \r"
     ]
    },
    {
     "name": "stdout",
     "output_type": "stream",
     "text": [
      "Val Acc (Classification) 79.4141%\t Val Loss (Classification) 2.6317\n"
     ]
    },
    {
     "name": "stderr",
     "output_type": "stream",
     "text": [
      "                                                  \r"
     ]
    },
    {
     "name": "stdout",
     "output_type": "stream",
     "text": [
      "Val Acc (Verification) 37.5000%\t \n",
      "Saved best classification model\n",
      "\n",
      "Epoch 59/200\n"
     ]
    },
    {
     "name": "stderr",
     "output_type": "stream",
     "text": [
      "                                                                                                                  \r"
     ]
    },
    {
     "name": "stdout",
     "output_type": "stream",
     "text": [
      "\n",
      "Epoch 59/200: \n",
      "Train Acc (Classification) 99.9572%\t Train Loss (Classification) 1.3774\t Learning Rate 0.0010\n"
     ]
    },
    {
     "name": "stderr",
     "output_type": "stream",
     "text": [
      "                                                                                                    \r"
     ]
    },
    {
     "name": "stdout",
     "output_type": "stream",
     "text": [
      "Val Acc (Classification) 79.7963%\t Val Loss (Classification) 2.6015\n"
     ]
    },
    {
     "name": "stderr",
     "output_type": "stream",
     "text": [
      "                                                  \r"
     ]
    },
    {
     "name": "stdout",
     "output_type": "stream",
     "text": [
      "Val Acc (Verification) 40.2778%\t \n",
      "Saved best classification model\n",
      "\n",
      "Epoch 60/200\n"
     ]
    },
    {
     "name": "stderr",
     "output_type": "stream",
     "text": [
      "                                                                                                                  \r"
     ]
    },
    {
     "name": "stdout",
     "output_type": "stream",
     "text": [
      "\n",
      "Epoch 60/200: \n",
      "Train Acc (Classification) 99.9636%\t Train Loss (Classification) 1.3752\t Learning Rate 0.0010\n"
     ]
    },
    {
     "name": "stderr",
     "output_type": "stream",
     "text": [
      "                                                                                                    \r"
     ]
    },
    {
     "name": "stdout",
     "output_type": "stream",
     "text": [
      "Val Acc (Classification) 79.8689%\t Val Loss (Classification) 2.6161\n"
     ]
    },
    {
     "name": "stderr",
     "output_type": "stream",
     "text": [
      "                                                  \r"
     ]
    },
    {
     "name": "stdout",
     "output_type": "stream",
     "text": [
      "Val Acc (Verification) 39.1667%\t \n",
      "Saved best classification model\n",
      "\n",
      "Epoch 61/200\n"
     ]
    },
    {
     "name": "stderr",
     "output_type": "stream",
     "text": [
      "                                                                                                                  \r"
     ]
    },
    {
     "name": "stdout",
     "output_type": "stream",
     "text": [
      "\n",
      "Epoch 61/200: \n",
      "Train Acc (Classification) 99.9693%\t Train Loss (Classification) 1.3726\t Learning Rate 0.0010\n"
     ]
    },
    {
     "name": "stderr",
     "output_type": "stream",
     "text": [
      "                                                                                                    \r"
     ]
    },
    {
     "name": "stdout",
     "output_type": "stream",
     "text": [
      "Val Acc (Classification) 79.8689%\t Val Loss (Classification) 2.6134\n"
     ]
    },
    {
     "name": "stderr",
     "output_type": "stream",
     "text": [
      "                                                  \r"
     ]
    },
    {
     "name": "stdout",
     "output_type": "stream",
     "text": [
      "Val Acc (Verification) 38.8889%\t \n",
      "Saved best classification model\n",
      "\n",
      "Epoch 62/200\n"
     ]
    },
    {
     "name": "stderr",
     "output_type": "stream",
     "text": [
      "                                                                                                                  \r"
     ]
    },
    {
     "name": "stdout",
     "output_type": "stream",
     "text": [
      "\n",
      "Epoch 62/200: \n",
      "Train Acc (Classification) 99.9664%\t Train Loss (Classification) 1.3713\t Learning Rate 0.0010\n"
     ]
    },
    {
     "name": "stderr",
     "output_type": "stream",
     "text": [
      "                                                                                                    \r"
     ]
    },
    {
     "name": "stdout",
     "output_type": "stream",
     "text": [
      "Val Acc (Classification) 79.8940%\t Val Loss (Classification) 2.6225\n"
     ]
    },
    {
     "name": "stderr",
     "output_type": "stream",
     "text": [
      "                                                  \r"
     ]
    },
    {
     "name": "stdout",
     "output_type": "stream",
     "text": [
      "Val Acc (Verification) 40.5556%\t \n",
      "Saved best classification model\n",
      "\n",
      "Epoch 63/200\n"
     ]
    },
    {
     "name": "stderr",
     "output_type": "stream",
     "text": [
      "                                                                                                                  \r"
     ]
    },
    {
     "name": "stdout",
     "output_type": "stream",
     "text": [
      "\n",
      "Epoch 63/200: \n",
      "Train Acc (Classification) 99.9614%\t Train Loss (Classification) 1.3689\t Learning Rate 0.0010\n"
     ]
    },
    {
     "name": "stderr",
     "output_type": "stream",
     "text": [
      "                                                                                                    \r"
     ]
    },
    {
     "name": "stdout",
     "output_type": "stream",
     "text": [
      "Val Acc (Classification) 80.0502%\t Val Loss (Classification) 2.6126\n"
     ]
    },
    {
     "name": "stderr",
     "output_type": "stream",
     "text": [
      "                                                  \r"
     ]
    },
    {
     "name": "stdout",
     "output_type": "stream",
     "text": [
      "Val Acc (Verification) 39.7222%\t \n",
      "Saved best classification model\n",
      "\n",
      "Epoch 64/200\n"
     ]
    },
    {
     "name": "stderr",
     "output_type": "stream",
     "text": [
      "                                                                                                                  \r"
     ]
    },
    {
     "name": "stdout",
     "output_type": "stream",
     "text": [
      "\n",
      "Epoch 64/200: \n",
      "Train Acc (Classification) 99.9700%\t Train Loss (Classification) 1.3663\t Learning Rate 0.0010\n"
     ]
    },
    {
     "name": "stderr",
     "output_type": "stream",
     "text": [
      "                                                                                                    \r"
     ]
    },
    {
     "name": "stdout",
     "output_type": "stream",
     "text": [
      "Val Acc (Classification) 79.9665%\t Val Loss (Classification) 2.6138\n"
     ]
    },
    {
     "name": "stderr",
     "output_type": "stream",
     "text": [
      "                                                  \r"
     ]
    },
    {
     "name": "stdout",
     "output_type": "stream",
     "text": [
      "Val Acc (Verification) 40.2778%\t \n",
      "Saved best classification model\n",
      "\n",
      "Epoch 65/200\n"
     ]
    },
    {
     "name": "stderr",
     "output_type": "stream",
     "text": [
      "                                                                                                                  \r"
     ]
    },
    {
     "name": "stdout",
     "output_type": "stream",
     "text": [
      "\n",
      "Epoch 65/200: \n",
      "Train Acc (Classification) 99.9672%\t Train Loss (Classification) 1.3647\t Learning Rate 0.0010\n"
     ]
    },
    {
     "name": "stderr",
     "output_type": "stream",
     "text": [
      "                                                                                                    \r"
     ]
    },
    {
     "name": "stdout",
     "output_type": "stream",
     "text": [
      "Val Acc (Classification) 80.0307%\t Val Loss (Classification) 2.6145\n"
     ]
    },
    {
     "name": "stderr",
     "output_type": "stream",
     "text": [
      "                                                  \r"
     ]
    },
    {
     "name": "stdout",
     "output_type": "stream",
     "text": [
      "Val Acc (Verification) 41.9444%\t \n",
      "Saved best classification model\n",
      "Saved verification model\n",
      "\n",
      "Epoch 66/200\n"
     ]
    },
    {
     "name": "stderr",
     "output_type": "stream",
     "text": [
      "                                                                                                                  \r"
     ]
    },
    {
     "name": "stdout",
     "output_type": "stream",
     "text": [
      "\n",
      "Epoch 66/200: \n",
      "Train Acc (Classification) 99.9871%\t Train Loss (Classification) 1.3349\t Learning Rate 0.0001\n"
     ]
    },
    {
     "name": "stderr",
     "output_type": "stream",
     "text": [
      "                                                                                                    \r"
     ]
    },
    {
     "name": "stdout",
     "output_type": "stream",
     "text": [
      "Val Acc (Classification) 82.6200%\t Val Loss (Classification) 2.5710\n"
     ]
    },
    {
     "name": "stderr",
     "output_type": "stream",
     "text": [
      "                                                  \r"
     ]
    },
    {
     "name": "stdout",
     "output_type": "stream",
     "text": [
      "Val Acc (Verification) 40.5556%\t \n",
      "Saved best classification model\n",
      "\n",
      "Epoch 67/200\n"
     ]
    },
    {
     "name": "stderr",
     "output_type": "stream",
     "text": [
      "                                                                                                                  \r"
     ]
    },
    {
     "name": "stdout",
     "output_type": "stream",
     "text": [
      "\n",
      "Epoch 67/200: \n",
      "Train Acc (Classification) 99.9900%\t Train Loss (Classification) 1.3141\t Learning Rate 0.0001\n"
     ]
    },
    {
     "name": "stderr",
     "output_type": "stream",
     "text": [
      "                                                                                                    \r"
     ]
    },
    {
     "name": "stdout",
     "output_type": "stream",
     "text": [
      "Val Acc (Classification) 83.1390%\t Val Loss (Classification) 2.5659\n"
     ]
    },
    {
     "name": "stderr",
     "output_type": "stream",
     "text": [
      "                                                  \r"
     ]
    },
    {
     "name": "stdout",
     "output_type": "stream",
     "text": [
      "Val Acc (Verification) 41.3889%\t \n",
      "Saved best classification model\n",
      "\n",
      "Epoch 68/200\n"
     ]
    },
    {
     "name": "stderr",
     "output_type": "stream",
     "text": [
      "                                                                                                                   \r"
     ]
    },
    {
     "name": "stdout",
     "output_type": "stream",
     "text": [
      "\n",
      "Epoch 68/200: \n",
      "Train Acc (Classification) 99.9914%\t Train Loss (Classification) 1.3057\t Learning Rate 0.0001\n"
     ]
    },
    {
     "name": "stderr",
     "output_type": "stream",
     "text": [
      "                                                                                                    \r"
     ]
    },
    {
     "name": "stdout",
     "output_type": "stream",
     "text": [
      "Val Acc (Classification) 83.1892%\t Val Loss (Classification) 2.5797\n"
     ]
    },
    {
     "name": "stderr",
     "output_type": "stream",
     "text": [
      "                                                  \r"
     ]
    },
    {
     "name": "stdout",
     "output_type": "stream",
     "text": [
      "Val Acc (Verification) 41.1111%\t \n",
      "Saved best classification model\n",
      "\n",
      "Epoch 69/200\n"
     ]
    },
    {
     "name": "stderr",
     "output_type": "stream",
     "text": [
      "                                                                                                                  \r"
     ]
    },
    {
     "name": "stdout",
     "output_type": "stream",
     "text": [
      "\n",
      "Epoch 69/200: \n",
      "Train Acc (Classification) 99.9907%\t Train Loss (Classification) 1.2997\t Learning Rate 0.0001\n"
     ]
    },
    {
     "name": "stderr",
     "output_type": "stream",
     "text": [
      "                                                                                                    \r"
     ]
    },
    {
     "name": "stdout",
     "output_type": "stream",
     "text": [
      "Val Acc (Classification) 83.2840%\t Val Loss (Classification) 2.5772\n"
     ]
    },
    {
     "name": "stderr",
     "output_type": "stream",
     "text": [
      "                                                  \r"
     ]
    },
    {
     "name": "stdout",
     "output_type": "stream",
     "text": [
      "Val Acc (Verification) 41.3889%\t \n",
      "Saved best classification model\n",
      "\n",
      "Epoch 70/200\n"
     ]
    },
    {
     "name": "stderr",
     "output_type": "stream",
     "text": [
      "                                                                                                                   \r"
     ]
    },
    {
     "name": "stdout",
     "output_type": "stream",
     "text": [
      "\n",
      "Epoch 70/200: \n",
      "Train Acc (Classification) 99.9914%\t Train Loss (Classification) 1.2952\t Learning Rate 0.0001\n"
     ]
    },
    {
     "name": "stderr",
     "output_type": "stream",
     "text": [
      "                                                                                                    \r"
     ]
    },
    {
     "name": "stdout",
     "output_type": "stream",
     "text": [
      "Val Acc (Classification) 83.3733%\t Val Loss (Classification) 2.5754\n"
     ]
    },
    {
     "name": "stderr",
     "output_type": "stream",
     "text": [
      "                                                  \r"
     ]
    },
    {
     "name": "stdout",
     "output_type": "stream",
     "text": [
      "Val Acc (Verification) 41.6667%\t \n",
      "Saved best classification model\n",
      "\n",
      "Epoch 71/200\n"
     ]
    },
    {
     "name": "stderr",
     "output_type": "stream",
     "text": [
      "                                                                                                                   \r"
     ]
    },
    {
     "name": "stdout",
     "output_type": "stream",
     "text": [
      "\n",
      "Epoch 71/200: \n",
      "Train Acc (Classification) 99.9914%\t Train Loss (Classification) 1.2917\t Learning Rate 0.0001\n"
     ]
    },
    {
     "name": "stderr",
     "output_type": "stream",
     "text": [
      "                                                                                                    \r"
     ]
    },
    {
     "name": "stdout",
     "output_type": "stream",
     "text": [
      "Val Acc (Classification) 83.5017%\t Val Loss (Classification) 2.5679\n"
     ]
    },
    {
     "name": "stderr",
     "output_type": "stream",
     "text": [
      "                                                  \r"
     ]
    },
    {
     "name": "stdout",
     "output_type": "stream",
     "text": [
      "Val Acc (Verification) 41.3889%\t \n",
      "Saved best classification model\n",
      "\n",
      "Epoch 72/200\n"
     ]
    },
    {
     "name": "stderr",
     "output_type": "stream",
     "text": [
      "                                                                                                                  \r"
     ]
    },
    {
     "name": "stdout",
     "output_type": "stream",
     "text": [
      "\n",
      "Epoch 72/200: \n",
      "Train Acc (Classification) 99.9907%\t Train Loss (Classification) 1.2890\t Learning Rate 0.0001\n"
     ]
    },
    {
     "name": "stderr",
     "output_type": "stream",
     "text": [
      "                                                                                                    \r"
     ]
    },
    {
     "name": "stdout",
     "output_type": "stream",
     "text": [
      "Val Acc (Classification) 83.5631%\t Val Loss (Classification) 2.5750\n"
     ]
    },
    {
     "name": "stderr",
     "output_type": "stream",
     "text": [
      "                                                  \r"
     ]
    },
    {
     "name": "stdout",
     "output_type": "stream",
     "text": [
      "Val Acc (Verification) 41.3889%\t \n",
      "Saved best classification model\n",
      "\n",
      "Epoch 73/200\n"
     ]
    },
    {
     "name": "stderr",
     "output_type": "stream",
     "text": [
      "                                                                                                                   \r"
     ]
    },
    {
     "name": "stdout",
     "output_type": "stream",
     "text": [
      "\n",
      "Epoch 73/200: \n",
      "Train Acc (Classification) 99.9914%\t Train Loss (Classification) 1.2863\t Learning Rate 0.0001\n"
     ]
    },
    {
     "name": "stderr",
     "output_type": "stream",
     "text": [
      "                                                                                                    \r"
     ]
    },
    {
     "name": "stdout",
     "output_type": "stream",
     "text": [
      "Val Acc (Classification) 83.5240%\t Val Loss (Classification) 2.5838\n"
     ]
    },
    {
     "name": "stderr",
     "output_type": "stream",
     "text": [
      "                                                  \r"
     ]
    },
    {
     "name": "stdout",
     "output_type": "stream",
     "text": [
      "Val Acc (Verification) 41.6667%\t \n",
      "Saved best classification model\n",
      "\n",
      "Epoch 74/200\n"
     ]
    },
    {
     "name": "stderr",
     "output_type": "stream",
     "text": [
      "                                                                                                                   \r"
     ]
    },
    {
     "name": "stdout",
     "output_type": "stream",
     "text": [
      "\n",
      "Epoch 74/200: \n",
      "Train Acc (Classification) 99.9914%\t Train Loss (Classification) 1.2836\t Learning Rate 0.0000\n"
     ]
    },
    {
     "name": "stderr",
     "output_type": "stream",
     "text": [
      "                                                                                                    \r"
     ]
    },
    {
     "name": "stdout",
     "output_type": "stream",
     "text": [
      "Val Acc (Classification) 83.6747%\t Val Loss (Classification) 2.5935\n"
     ]
    },
    {
     "name": "stderr",
     "output_type": "stream",
     "text": [
      "                                                  \r"
     ]
    },
    {
     "name": "stdout",
     "output_type": "stream",
     "text": [
      "Val Acc (Verification) 41.1111%\t \n",
      "Saved best classification model\n",
      "\n",
      "Epoch 75/200\n"
     ]
    },
    {
     "name": "stderr",
     "output_type": "stream",
     "text": [
      "                                                                                                                   \r"
     ]
    },
    {
     "name": "stdout",
     "output_type": "stream",
     "text": [
      "\n",
      "Epoch 75/200: \n",
      "Train Acc (Classification) 99.9907%\t Train Loss (Classification) 1.2829\t Learning Rate 0.0000\n"
     ]
    },
    {
     "name": "stderr",
     "output_type": "stream",
     "text": [
      "                                                                                                    \r"
     ]
    },
    {
     "name": "stdout",
     "output_type": "stream",
     "text": [
      "Val Acc (Classification) 83.6440%\t Val Loss (Classification) 2.5925\n"
     ]
    },
    {
     "name": "stderr",
     "output_type": "stream",
     "text": [
      "                                                  \r"
     ]
    },
    {
     "name": "stdout",
     "output_type": "stream",
     "text": [
      "Val Acc (Verification) 41.1111%\t \n",
      "Saved best classification model\n",
      "\n",
      "Epoch 76/200\n"
     ]
    },
    {
     "name": "stderr",
     "output_type": "stream",
     "text": [
      "                                                                                                                   \r"
     ]
    },
    {
     "name": "stdout",
     "output_type": "stream",
     "text": [
      "\n",
      "Epoch 76/200: \n",
      "Train Acc (Classification) 99.9914%\t Train Loss (Classification) 1.2824\t Learning Rate 0.0000\n"
     ]
    },
    {
     "name": "stderr",
     "output_type": "stream",
     "text": [
      "                                                                                                    \r"
     ]
    },
    {
     "name": "stdout",
     "output_type": "stream",
     "text": [
      "Val Acc (Classification) 83.6747%\t Val Loss (Classification) 2.5904\n"
     ]
    },
    {
     "name": "stderr",
     "output_type": "stream",
     "text": [
      "                                                  \r"
     ]
    },
    {
     "name": "stdout",
     "output_type": "stream",
     "text": [
      "Val Acc (Verification) 41.6667%\t \n",
      "Saved best classification model\n",
      "\n",
      "Epoch 77/200\n"
     ]
    },
    {
     "name": "stderr",
     "output_type": "stream",
     "text": [
      "                                                                                                                   \r"
     ]
    },
    {
     "name": "stdout",
     "output_type": "stream",
     "text": [
      "\n",
      "Epoch 77/200: \n",
      "Train Acc (Classification) 99.9914%\t Train Loss (Classification) 1.2822\t Learning Rate 0.0000\n"
     ]
    },
    {
     "name": "stderr",
     "output_type": "stream",
     "text": [
      "                                                                                                    \r"
     ]
    },
    {
     "name": "stdout",
     "output_type": "stream",
     "text": [
      "Val Acc (Classification) 83.6719%\t Val Loss (Classification) 2.5912\n"
     ]
    },
    {
     "name": "stderr",
     "output_type": "stream",
     "text": [
      "                                                  \r"
     ]
    },
    {
     "name": "stdout",
     "output_type": "stream",
     "text": [
      "Val Acc (Verification) 41.3889%\t \n",
      "Saved best classification model\n",
      "\n",
      "Epoch 78/200\n"
     ]
    },
    {
     "name": "stderr",
     "output_type": "stream",
     "text": [
      "                                                                                                                   \r"
     ]
    },
    {
     "name": "stdout",
     "output_type": "stream",
     "text": [
      "\n",
      "Epoch 78/200: \n",
      "Train Acc (Classification) 99.9914%\t Train Loss (Classification) 1.2818\t Learning Rate 0.0000\n"
     ]
    },
    {
     "name": "stderr",
     "output_type": "stream",
     "text": [
      "                                                                                                    \r"
     ]
    },
    {
     "name": "stdout",
     "output_type": "stream",
     "text": [
      "Val Acc (Classification) 83.7054%\t Val Loss (Classification) 2.5931\n"
     ]
    },
    {
     "name": "stderr",
     "output_type": "stream",
     "text": [
      "                                                  \r"
     ]
    },
    {
     "name": "stdout",
     "output_type": "stream",
     "text": [
      "Val Acc (Verification) 41.1111%\t \n",
      "Saved best classification model\n",
      "\n",
      "Epoch 79/200\n"
     ]
    },
    {
     "name": "stderr",
     "output_type": "stream",
     "text": [
      "                                                                                                                   \r"
     ]
    },
    {
     "name": "stdout",
     "output_type": "stream",
     "text": [
      "\n",
      "Epoch 79/200: \n",
      "Train Acc (Classification) 99.9914%\t Train Loss (Classification) 1.2816\t Learning Rate 0.0000\n"
     ]
    },
    {
     "name": "stderr",
     "output_type": "stream",
     "text": [
      "                                                                                                    \r"
     ]
    },
    {
     "name": "stdout",
     "output_type": "stream",
     "text": [
      "Val Acc (Classification) 83.6579%\t Val Loss (Classification) 2.5942\n"
     ]
    },
    {
     "name": "stderr",
     "output_type": "stream",
     "text": [
      "                                                  \r"
     ]
    },
    {
     "name": "stdout",
     "output_type": "stream",
     "text": [
      "Val Acc (Verification) 40.8333%\t \n",
      "Saved best classification model\n",
      "\n",
      "Epoch 80/200\n"
     ]
    },
    {
     "name": "stderr",
     "output_type": "stream",
     "text": [
      "                                                                                                                   \r"
     ]
    },
    {
     "name": "stdout",
     "output_type": "stream",
     "text": [
      "\n",
      "Epoch 80/200: \n",
      "Train Acc (Classification) 99.9914%\t Train Loss (Classification) 1.2811\t Learning Rate 0.0000\n"
     ]
    },
    {
     "name": "stderr",
     "output_type": "stream",
     "text": [
      "                                                                                                    \r"
     ]
    },
    {
     "name": "stdout",
     "output_type": "stream",
     "text": [
      "Val Acc (Classification) 83.6802%\t Val Loss (Classification) 2.5943\n"
     ]
    },
    {
     "name": "stderr",
     "output_type": "stream",
     "text": [
      "                                                  \r"
     ]
    },
    {
     "name": "stdout",
     "output_type": "stream",
     "text": [
      "Val Acc (Verification) 41.3889%\t \n",
      "Saved best classification model\n",
      "\n",
      "Epoch 81/200\n"
     ]
    },
    {
     "name": "stderr",
     "output_type": "stream",
     "text": [
      "                                                                                                                   \r"
     ]
    },
    {
     "name": "stdout",
     "output_type": "stream",
     "text": [
      "\n",
      "Epoch 81/200: \n",
      "Train Acc (Classification) 99.9907%\t Train Loss (Classification) 1.2809\t Learning Rate 0.0000\n"
     ]
    },
    {
     "name": "stderr",
     "output_type": "stream",
     "text": [
      "                                                                                                    \r"
     ]
    },
    {
     "name": "stdout",
     "output_type": "stream",
     "text": [
      "Val Acc (Classification) 83.6607%\t Val Loss (Classification) 2.5963\n"
     ]
    },
    {
     "name": "stderr",
     "output_type": "stream",
     "text": [
      "                                                  \r"
     ]
    },
    {
     "name": "stdout",
     "output_type": "stream",
     "text": [
      "Val Acc (Verification) 41.6667%\t \n",
      "Saved best classification model\n",
      "\n",
      "Epoch 82/200\n"
     ]
    },
    {
     "name": "stderr",
     "output_type": "stream",
     "text": [
      "                                                                                                                  \r"
     ]
    },
    {
     "name": "stdout",
     "output_type": "stream",
     "text": [
      "\n",
      "Epoch 82/200: \n",
      "Train Acc (Classification) 99.9907%\t Train Loss (Classification) 1.2807\t Learning Rate 0.0000\n"
     ]
    },
    {
     "name": "stderr",
     "output_type": "stream",
     "text": [
      "                                                                                                    \r"
     ]
    },
    {
     "name": "stdout",
     "output_type": "stream",
     "text": [
      "Val Acc (Classification) 83.6635%\t Val Loss (Classification) 2.5959\n"
     ]
    },
    {
     "name": "stderr",
     "output_type": "stream",
     "text": [
      "                                                  \r"
     ]
    },
    {
     "name": "stdout",
     "output_type": "stream",
     "text": [
      "Val Acc (Verification) 40.8333%\t \n",
      "Saved best classification model\n",
      "\n",
      "Epoch 83/200\n"
     ]
    },
    {
     "name": "stderr",
     "output_type": "stream",
     "text": [
      "                                                                                                                   \r"
     ]
    },
    {
     "name": "stdout",
     "output_type": "stream",
     "text": [
      "\n",
      "Epoch 83/200: \n",
      "Train Acc (Classification) 99.9914%\t Train Loss (Classification) 1.2805\t Learning Rate 0.0000\n"
     ]
    },
    {
     "name": "stderr",
     "output_type": "stream",
     "text": [
      "                                                                                                    \r"
     ]
    },
    {
     "name": "stdout",
     "output_type": "stream",
     "text": [
      "Val Acc (Classification) 83.6496%\t Val Loss (Classification) 2.5949\n"
     ]
    },
    {
     "name": "stderr",
     "output_type": "stream",
     "text": [
      "                                                  \r"
     ]
    },
    {
     "name": "stdout",
     "output_type": "stream",
     "text": [
      "Val Acc (Verification) 40.5556%\t \n",
      "Saved best classification model\n",
      "\n",
      "Epoch 84/200\n"
     ]
    },
    {
     "name": "stderr",
     "output_type": "stream",
     "text": [
      "                                                                                                                   \r"
     ]
    },
    {
     "name": "stdout",
     "output_type": "stream",
     "text": [
      "\n",
      "Epoch 84/200: \n",
      "Train Acc (Classification) 99.9914%\t Train Loss (Classification) 1.2803\t Learning Rate 0.0000\n"
     ]
    },
    {
     "name": "stderr",
     "output_type": "stream",
     "text": [
      "                                                                                                    \r"
     ]
    },
    {
     "name": "stdout",
     "output_type": "stream",
     "text": [
      "Val Acc (Classification) 83.6970%\t Val Loss (Classification) 2.5963\n"
     ]
    },
    {
     "name": "stderr",
     "output_type": "stream",
     "text": [
      "                                                  \r"
     ]
    },
    {
     "name": "stdout",
     "output_type": "stream",
     "text": [
      "Val Acc (Verification) 41.3889%\t \n",
      "Saved best classification model\n",
      "\n",
      "Epoch 85/200\n"
     ]
    },
    {
     "name": "stderr",
     "output_type": "stream",
     "text": [
      "                                                                                                                   \r"
     ]
    },
    {
     "name": "stdout",
     "output_type": "stream",
     "text": [
      "\n",
      "Epoch 85/200: \n",
      "Train Acc (Classification) 99.9907%\t Train Loss (Classification) 1.2800\t Learning Rate 0.0000\n"
     ]
    },
    {
     "name": "stderr",
     "output_type": "stream",
     "text": [
      "                                                                                                    \r"
     ]
    },
    {
     "name": "stdout",
     "output_type": "stream",
     "text": [
      "Val Acc (Classification) 83.7054%\t Val Loss (Classification) 2.5945\n"
     ]
    },
    {
     "name": "stderr",
     "output_type": "stream",
     "text": [
      "                                                  \r"
     ]
    },
    {
     "name": "stdout",
     "output_type": "stream",
     "text": [
      "Val Acc (Verification) 41.3889%\t \n",
      "Saved best classification model\n",
      "\n",
      "Epoch 86/200\n"
     ]
    },
    {
     "name": "stderr",
     "output_type": "stream",
     "text": [
      "                                                                                                                   \r"
     ]
    },
    {
     "name": "stdout",
     "output_type": "stream",
     "text": [
      "\n",
      "Epoch 86/200: \n",
      "Train Acc (Classification) 99.9914%\t Train Loss (Classification) 1.2798\t Learning Rate 0.0000\n"
     ]
    },
    {
     "name": "stderr",
     "output_type": "stream",
     "text": [
      "                                                                                                    \r"
     ]
    },
    {
     "name": "stdout",
     "output_type": "stream",
     "text": [
      "Val Acc (Classification) 83.6886%\t Val Loss (Classification) 2.5939\n"
     ]
    },
    {
     "name": "stderr",
     "output_type": "stream",
     "text": [
      "                                                  \r"
     ]
    },
    {
     "name": "stdout",
     "output_type": "stream",
     "text": [
      "Val Acc (Verification) 41.6667%\t \n",
      "Saved best classification model\n",
      "\n",
      "Epoch 87/200\n"
     ]
    },
    {
     "name": "stderr",
     "output_type": "stream",
     "text": [
      "                                                                                                                   \r"
     ]
    },
    {
     "name": "stdout",
     "output_type": "stream",
     "text": [
      "\n",
      "Epoch 87/200: \n",
      "Train Acc (Classification) 99.9914%\t Train Loss (Classification) 1.2795\t Learning Rate 0.0000\n"
     ]
    },
    {
     "name": "stderr",
     "output_type": "stream",
     "text": [
      "                                                                                                    \r"
     ]
    },
    {
     "name": "stdout",
     "output_type": "stream",
     "text": [
      "Val Acc (Classification) 83.7054%\t Val Loss (Classification) 2.5949\n"
     ]
    },
    {
     "name": "stderr",
     "output_type": "stream",
     "text": [
      "                                                  \r"
     ]
    },
    {
     "name": "stdout",
     "output_type": "stream",
     "text": [
      "Val Acc (Verification) 41.6667%\t \n",
      "Saved best classification model\n",
      "\n",
      "Epoch 88/200\n"
     ]
    },
    {
     "name": "stderr",
     "output_type": "stream",
     "text": [
      "                                                                                                                   \r"
     ]
    },
    {
     "name": "stdout",
     "output_type": "stream",
     "text": [
      "\n",
      "Epoch 88/200: \n",
      "Train Acc (Classification) 99.9914%\t Train Loss (Classification) 1.2794\t Learning Rate 0.0000\n"
     ]
    },
    {
     "name": "stderr",
     "output_type": "stream",
     "text": [
      "                                                                                                    \r"
     ]
    },
    {
     "name": "stdout",
     "output_type": "stream",
     "text": [
      "Val Acc (Classification) 83.6998%\t Val Loss (Classification) 2.5952\n"
     ]
    },
    {
     "name": "stderr",
     "output_type": "stream",
     "text": [
      "                                                  \r"
     ]
    },
    {
     "name": "stdout",
     "output_type": "stream",
     "text": [
      "Val Acc (Verification) 41.6667%\t \n",
      "Saved best classification model\n",
      "\n",
      "Epoch 89/200\n"
     ]
    },
    {
     "name": "stderr",
     "output_type": "stream",
     "text": [
      "                                                                                                                   \r"
     ]
    },
    {
     "name": "stdout",
     "output_type": "stream",
     "text": [
      "\n",
      "Epoch 89/200: \n",
      "Train Acc (Classification) 99.9914%\t Train Loss (Classification) 1.2793\t Learning Rate 0.0000\n"
     ]
    },
    {
     "name": "stderr",
     "output_type": "stream",
     "text": [
      "                                                                                                    \r"
     ]
    },
    {
     "name": "stdout",
     "output_type": "stream",
     "text": [
      "Val Acc (Classification) 83.7109%\t Val Loss (Classification) 2.5994\n"
     ]
    },
    {
     "name": "stderr",
     "output_type": "stream",
     "text": [
      "                                                  \r"
     ]
    },
    {
     "name": "stdout",
     "output_type": "stream",
     "text": [
      "Val Acc (Verification) 40.5556%\t \n",
      "Saved best classification model\n",
      "\n",
      "Epoch 90/200\n"
     ]
    },
    {
     "name": "stderr",
     "output_type": "stream",
     "text": [
      "                                                                                                                  \r"
     ]
    },
    {
     "name": "stdout",
     "output_type": "stream",
     "text": [
      "\n",
      "Epoch 90/200: \n",
      "Train Acc (Classification) 99.9907%\t Train Loss (Classification) 1.2791\t Learning Rate 0.0000\n"
     ]
    },
    {
     "name": "stderr",
     "output_type": "stream",
     "text": [
      "                                                                                                    \r"
     ]
    },
    {
     "name": "stdout",
     "output_type": "stream",
     "text": [
      "Val Acc (Classification) 83.6858%\t Val Loss (Classification) 2.5992\n"
     ]
    },
    {
     "name": "stderr",
     "output_type": "stream",
     "text": [
      "                                                  \r"
     ]
    },
    {
     "name": "stdout",
     "output_type": "stream",
     "text": [
      "Val Acc (Verification) 40.2778%\t \n",
      "Saved best classification model\n",
      "\n",
      "Epoch 91/200\n"
     ]
    },
    {
     "name": "stderr",
     "output_type": "stream",
     "text": [
      "                                                                                                                   \r"
     ]
    },
    {
     "name": "stdout",
     "output_type": "stream",
     "text": [
      "\n",
      "Epoch 91/200: \n",
      "Train Acc (Classification) 99.9907%\t Train Loss (Classification) 1.2788\t Learning Rate 0.0000\n"
     ]
    },
    {
     "name": "stderr",
     "output_type": "stream",
     "text": [
      "                                                                                                    \r"
     ]
    },
    {
     "name": "stdout",
     "output_type": "stream",
     "text": [
      "Val Acc (Classification) 83.7054%\t Val Loss (Classification) 2.5959\n"
     ]
    },
    {
     "name": "stderr",
     "output_type": "stream",
     "text": [
      "                                                  \r"
     ]
    },
    {
     "name": "stdout",
     "output_type": "stream",
     "text": [
      "Val Acc (Verification) 41.1111%\t \n",
      "Saved best classification model\n",
      "\n",
      "Epoch 92/200\n"
     ]
    },
    {
     "name": "stderr",
     "output_type": "stream",
     "text": [
      "                                                                                                                   \r"
     ]
    },
    {
     "name": "stdout",
     "output_type": "stream",
     "text": [
      "\n",
      "Epoch 92/200: \n",
      "Train Acc (Classification) 99.9914%\t Train Loss (Classification) 1.2788\t Learning Rate 0.0000\n"
     ]
    },
    {
     "name": "stderr",
     "output_type": "stream",
     "text": [
      "                                                                                                    \r"
     ]
    },
    {
     "name": "stdout",
     "output_type": "stream",
     "text": [
      "Val Acc (Classification) 83.7249%\t Val Loss (Classification) 2.5979\n"
     ]
    },
    {
     "name": "stderr",
     "output_type": "stream",
     "text": [
      "                                                  \r"
     ]
    },
    {
     "name": "stdout",
     "output_type": "stream",
     "text": [
      "Val Acc (Verification) 40.5556%\t \n",
      "Saved best classification model\n",
      "\n",
      "Epoch 93/200\n"
     ]
    },
    {
     "name": "stderr",
     "output_type": "stream",
     "text": [
      "                                                                                                                   \r"
     ]
    },
    {
     "name": "stdout",
     "output_type": "stream",
     "text": [
      "\n",
      "Epoch 93/200: \n",
      "Train Acc (Classification) 99.9907%\t Train Loss (Classification) 1.2785\t Learning Rate 0.0000\n"
     ]
    },
    {
     "name": "stderr",
     "output_type": "stream",
     "text": [
      "                                                                                                    \r"
     ]
    },
    {
     "name": "stdout",
     "output_type": "stream",
     "text": [
      "Val Acc (Classification) 83.7472%\t Val Loss (Classification) 2.5965\n"
     ]
    },
    {
     "name": "stderr",
     "output_type": "stream",
     "text": [
      "                                                  \r"
     ]
    },
    {
     "name": "stdout",
     "output_type": "stream",
     "text": [
      "Val Acc (Verification) 41.1111%\t \n",
      "Saved best classification model\n",
      "\n",
      "Epoch 94/200\n"
     ]
    },
    {
     "name": "stderr",
     "output_type": "stream",
     "text": [
      "                                                                                                                  \r"
     ]
    },
    {
     "name": "stdout",
     "output_type": "stream",
     "text": [
      "\n",
      "Epoch 94/200: \n",
      "Train Acc (Classification) 99.9907%\t Train Loss (Classification) 1.2784\t Learning Rate 0.0000\n"
     ]
    },
    {
     "name": "stderr",
     "output_type": "stream",
     "text": [
      "                                                                                                    \r"
     ]
    },
    {
     "name": "stdout",
     "output_type": "stream",
     "text": [
      "Val Acc (Classification) 83.7165%\t Val Loss (Classification) 2.5978\n"
     ]
    },
    {
     "name": "stderr",
     "output_type": "stream",
     "text": [
      "                                                  \r"
     ]
    },
    {
     "name": "stdout",
     "output_type": "stream",
     "text": [
      "Val Acc (Verification) 40.5556%\t \n",
      "Saved best classification model\n",
      "\n",
      "Epoch 95/200\n"
     ]
    },
    {
     "name": "stderr",
     "output_type": "stream",
     "text": [
      "                                                                                                                   \r"
     ]
    },
    {
     "name": "stdout",
     "output_type": "stream",
     "text": [
      "\n",
      "Epoch 95/200: \n",
      "Train Acc (Classification) 99.9914%\t Train Loss (Classification) 1.2781\t Learning Rate 0.0000\n"
     ]
    },
    {
     "name": "stderr",
     "output_type": "stream",
     "text": [
      "                                                                                                    \r"
     ]
    },
    {
     "name": "stdout",
     "output_type": "stream",
     "text": [
      "Val Acc (Classification) 83.7333%\t Val Loss (Classification) 2.5971\n"
     ]
    },
    {
     "name": "stderr",
     "output_type": "stream",
     "text": [
      "                                                  \r"
     ]
    },
    {
     "name": "stdout",
     "output_type": "stream",
     "text": [
      "Val Acc (Verification) 40.5556%\t \n",
      "Saved best classification model\n",
      "\n",
      "Epoch 96/200\n"
     ]
    },
    {
     "name": "stderr",
     "output_type": "stream",
     "text": [
      "                                                                                                                  \r"
     ]
    },
    {
     "name": "stdout",
     "output_type": "stream",
     "text": [
      "\n",
      "Epoch 96/200: \n",
      "Train Acc (Classification) 99.9907%\t Train Loss (Classification) 1.2781\t Learning Rate 0.0000\n"
     ]
    },
    {
     "name": "stderr",
     "output_type": "stream",
     "text": [
      "                                                                                                    \r"
     ]
    },
    {
     "name": "stdout",
     "output_type": "stream",
     "text": [
      "Val Acc (Classification) 83.7360%\t Val Loss (Classification) 2.5962\n"
     ]
    },
    {
     "name": "stderr",
     "output_type": "stream",
     "text": [
      "                                                  \r"
     ]
    },
    {
     "name": "stdout",
     "output_type": "stream",
     "text": [
      "Val Acc (Verification) 40.8333%\t \n",
      "Saved best classification model\n",
      "\n",
      "Epoch 97/200\n"
     ]
    },
    {
     "name": "stderr",
     "output_type": "stream",
     "text": [
      "                                                                                                                  \r"
     ]
    },
    {
     "name": "stdout",
     "output_type": "stream",
     "text": [
      "\n",
      "Epoch 97/200: \n",
      "Train Acc (Classification) 99.9900%\t Train Loss (Classification) 1.2780\t Learning Rate 0.0000\n"
     ]
    },
    {
     "name": "stderr",
     "output_type": "stream",
     "text": [
      "                                                                                                    \r"
     ]
    },
    {
     "name": "stdout",
     "output_type": "stream",
     "text": [
      "Val Acc (Classification) 83.7416%\t Val Loss (Classification) 2.5950\n"
     ]
    },
    {
     "name": "stderr",
     "output_type": "stream",
     "text": [
      "                                                  \r"
     ]
    },
    {
     "name": "stdout",
     "output_type": "stream",
     "text": [
      "Val Acc (Verification) 40.5556%\t \n",
      "Saved best classification model\n",
      "\n",
      "Epoch 98/200\n"
     ]
    },
    {
     "name": "stderr",
     "output_type": "stream",
     "text": [
      "                                                                                                                   \r"
     ]
    },
    {
     "name": "stdout",
     "output_type": "stream",
     "text": [
      "\n",
      "Epoch 98/200: \n",
      "Train Acc (Classification) 99.9914%\t Train Loss (Classification) 1.2777\t Learning Rate 0.0000\n"
     ]
    },
    {
     "name": "stderr",
     "output_type": "stream",
     "text": [
      "                                                                                                    \r"
     ]
    },
    {
     "name": "stdout",
     "output_type": "stream",
     "text": [
      "Val Acc (Classification) 83.7556%\t Val Loss (Classification) 2.5984\n"
     ]
    },
    {
     "name": "stderr",
     "output_type": "stream",
     "text": [
      "                                                  \r"
     ]
    },
    {
     "name": "stdout",
     "output_type": "stream",
     "text": [
      "Val Acc (Verification) 40.8333%\t \n",
      "Saved best classification model\n",
      "\n",
      "Epoch 99/200\n"
     ]
    },
    {
     "name": "stderr",
     "output_type": "stream",
     "text": [
      "                                                                                                                   \r"
     ]
    },
    {
     "name": "stdout",
     "output_type": "stream",
     "text": [
      "\n",
      "Epoch 99/200: \n",
      "Train Acc (Classification) 99.9914%\t Train Loss (Classification) 1.2776\t Learning Rate 0.0000\n"
     ]
    },
    {
     "name": "stderr",
     "output_type": "stream",
     "text": [
      "                                                                                                    \r"
     ]
    },
    {
     "name": "stdout",
     "output_type": "stream",
     "text": [
      "Val Acc (Classification) 83.7640%\t Val Loss (Classification) 2.5982\n"
     ]
    },
    {
     "name": "stderr",
     "output_type": "stream",
     "text": [
      "                                                  \r"
     ]
    },
    {
     "name": "stdout",
     "output_type": "stream",
     "text": [
      "Val Acc (Verification) 40.8333%\t \n",
      "Saved best classification model\n",
      "\n",
      "Epoch 100/200\n"
     ]
    },
    {
     "name": "stderr",
     "output_type": "stream",
     "text": [
      "                                                                                                                  \r"
     ]
    },
    {
     "name": "stdout",
     "output_type": "stream",
     "text": [
      "\n",
      "Epoch 100/200: \n",
      "Train Acc (Classification) 99.9907%\t Train Loss (Classification) 1.2775\t Learning Rate 0.0000\n"
     ]
    },
    {
     "name": "stderr",
     "output_type": "stream",
     "text": [
      "                                                                                                    \r"
     ]
    },
    {
     "name": "stdout",
     "output_type": "stream",
     "text": [
      "Val Acc (Classification) 83.7640%\t Val Loss (Classification) 2.5978\n"
     ]
    },
    {
     "name": "stderr",
     "output_type": "stream",
     "text": [
      "                                                  \r"
     ]
    },
    {
     "name": "stdout",
     "output_type": "stream",
     "text": [
      "Val Acc (Verification) 40.8333%\t \n",
      "Saved best classification model\n",
      "\n",
      "Epoch 101/200\n"
     ]
    },
    {
     "name": "stderr",
     "output_type": "stream",
     "text": [
      "                                                                                                                  \r"
     ]
    },
    {
     "name": "stdout",
     "output_type": "stream",
     "text": [
      "\n",
      "Epoch 101/200: \n",
      "Train Acc (Classification) 99.9907%\t Train Loss (Classification) 1.2772\t Learning Rate 0.0000\n"
     ]
    },
    {
     "name": "stderr",
     "output_type": "stream",
     "text": [
      "                                                                                                    \r"
     ]
    },
    {
     "name": "stdout",
     "output_type": "stream",
     "text": [
      "Val Acc (Classification) 83.7360%\t Val Loss (Classification) 2.5986\n"
     ]
    },
    {
     "name": "stderr",
     "output_type": "stream",
     "text": [
      "                                                  \r"
     ]
    },
    {
     "name": "stdout",
     "output_type": "stream",
     "text": [
      "Val Acc (Verification) 40.8333%\t \n",
      "Saved best classification model\n",
      "\n",
      "Epoch 102/200\n"
     ]
    },
    {
     "name": "stderr",
     "output_type": "stream",
     "text": [
      "                                                                                                                   \r"
     ]
    },
    {
     "name": "stdout",
     "output_type": "stream",
     "text": [
      "\n",
      "Epoch 102/200: \n",
      "Train Acc (Classification) 99.9914%\t Train Loss (Classification) 1.2771\t Learning Rate 0.0000\n"
     ]
    },
    {
     "name": "stderr",
     "output_type": "stream",
     "text": [
      "                                                                                                    \r"
     ]
    },
    {
     "name": "stdout",
     "output_type": "stream",
     "text": [
      "Val Acc (Classification) 83.7919%\t Val Loss (Classification) 2.5986\n"
     ]
    },
    {
     "name": "stderr",
     "output_type": "stream",
     "text": [
      "                                                  \r"
     ]
    },
    {
     "name": "stdout",
     "output_type": "stream",
     "text": [
      "Val Acc (Verification) 40.5556%\t \n",
      "Saved best classification model\n",
      "\n",
      "Epoch 103/200\n"
     ]
    },
    {
     "name": "stderr",
     "output_type": "stream",
     "text": [
      "                                                                                                                   \r"
     ]
    },
    {
     "name": "stdout",
     "output_type": "stream",
     "text": [
      "\n",
      "Epoch 103/200: \n",
      "Train Acc (Classification) 99.9907%\t Train Loss (Classification) 1.2769\t Learning Rate 0.0000\n"
     ]
    },
    {
     "name": "stderr",
     "output_type": "stream",
     "text": [
      "                                                                                                    \r"
     ]
    },
    {
     "name": "stdout",
     "output_type": "stream",
     "text": [
      "Val Acc (Classification) 83.7695%\t Val Loss (Classification) 2.6002\n"
     ]
    },
    {
     "name": "stderr",
     "output_type": "stream",
     "text": [
      "                                                  \r"
     ]
    },
    {
     "name": "stdout",
     "output_type": "stream",
     "text": [
      "Val Acc (Verification) 40.8333%\t \n",
      "Saved best classification model\n",
      "\n",
      "Epoch 104/200\n"
     ]
    },
    {
     "name": "stderr",
     "output_type": "stream",
     "text": [
      "                                                                                                                  \r"
     ]
    },
    {
     "name": "stdout",
     "output_type": "stream",
     "text": [
      "\n",
      "Epoch 104/200: \n",
      "Train Acc (Classification) 99.9907%\t Train Loss (Classification) 1.2769\t Learning Rate 0.0000\n"
     ]
    },
    {
     "name": "stderr",
     "output_type": "stream",
     "text": [
      "                                                                                                    \r"
     ]
    },
    {
     "name": "stdout",
     "output_type": "stream",
     "text": [
      "Val Acc (Classification) 83.7584%\t Val Loss (Classification) 2.6017\n"
     ]
    },
    {
     "name": "stderr",
     "output_type": "stream",
     "text": [
      "                                                  \r"
     ]
    },
    {
     "name": "stdout",
     "output_type": "stream",
     "text": [
      "Val Acc (Verification) 40.2778%\t \n",
      "Saved best classification model\n",
      "\n",
      "Epoch 105/200\n"
     ]
    },
    {
     "name": "stderr",
     "output_type": "stream",
     "text": [
      "                                                                                                                   \r"
     ]
    },
    {
     "name": "stdout",
     "output_type": "stream",
     "text": [
      "\n",
      "Epoch 105/200: \n",
      "Train Acc (Classification) 99.9914%\t Train Loss (Classification) 1.2767\t Learning Rate 0.0000\n"
     ]
    },
    {
     "name": "stderr",
     "output_type": "stream",
     "text": [
      "                                                                                                    \r"
     ]
    },
    {
     "name": "stdout",
     "output_type": "stream",
     "text": [
      "Val Acc (Classification) 83.7723%\t Val Loss (Classification) 2.5991\n"
     ]
    },
    {
     "name": "stderr",
     "output_type": "stream",
     "text": [
      "                                                  \r"
     ]
    },
    {
     "name": "stdout",
     "output_type": "stream",
     "text": [
      "Val Acc (Verification) 40.5556%\t \n",
      "Saved best classification model\n",
      "\n",
      "Epoch 106/200\n"
     ]
    },
    {
     "name": "stderr",
     "output_type": "stream",
     "text": [
      "                                                                                                                   \r"
     ]
    },
    {
     "name": "stdout",
     "output_type": "stream",
     "text": [
      "\n",
      "Epoch 106/200: \n",
      "Train Acc (Classification) 99.9914%\t Train Loss (Classification) 1.2767\t Learning Rate 0.0000\n"
     ]
    },
    {
     "name": "stderr",
     "output_type": "stream",
     "text": [
      "                                                                                                    \r"
     ]
    },
    {
     "name": "stdout",
     "output_type": "stream",
     "text": [
      "Val Acc (Classification) 83.7556%\t Val Loss (Classification) 2.6014\n"
     ]
    },
    {
     "name": "stderr",
     "output_type": "stream",
     "text": [
      "                                                  \r"
     ]
    },
    {
     "name": "stdout",
     "output_type": "stream",
     "text": [
      "Val Acc (Verification) 40.8333%\t \n",
      "Saved best classification model\n",
      "\n",
      "Epoch 107/200\n"
     ]
    },
    {
     "name": "stderr",
     "output_type": "stream",
     "text": [
      "                                                                                                                   \r"
     ]
    },
    {
     "name": "stdout",
     "output_type": "stream",
     "text": [
      "\n",
      "Epoch 107/200: \n",
      "Train Acc (Classification) 99.9914%\t Train Loss (Classification) 1.2764\t Learning Rate 0.0000\n"
     ]
    },
    {
     "name": "stderr",
     "output_type": "stream",
     "text": [
      "                                                                                                    \r"
     ]
    },
    {
     "name": "stdout",
     "output_type": "stream",
     "text": [
      "Val Acc (Classification) 83.7444%\t Val Loss (Classification) 2.6017\n"
     ]
    },
    {
     "name": "stderr",
     "output_type": "stream",
     "text": [
      "                                                  \r"
     ]
    },
    {
     "name": "stdout",
     "output_type": "stream",
     "text": [
      "Val Acc (Verification) 40.2778%\t \n",
      "Saved best classification model\n",
      "\n",
      "Epoch 108/200\n"
     ]
    },
    {
     "name": "stderr",
     "output_type": "stream",
     "text": [
      "                                                                                                                  \r"
     ]
    },
    {
     "name": "stdout",
     "output_type": "stream",
     "text": [
      "\n",
      "Epoch 108/200: \n",
      "Train Acc (Classification) 99.9907%\t Train Loss (Classification) 1.2763\t Learning Rate 0.0000\n"
     ]
    },
    {
     "name": "stderr",
     "output_type": "stream",
     "text": [
      "                                                                                                    \r"
     ]
    },
    {
     "name": "stdout",
     "output_type": "stream",
     "text": [
      "Val Acc (Classification) 83.7612%\t Val Loss (Classification) 2.6007\n"
     ]
    },
    {
     "name": "stderr",
     "output_type": "stream",
     "text": [
      "                                                  \r"
     ]
    },
    {
     "name": "stdout",
     "output_type": "stream",
     "text": [
      "Val Acc (Verification) 40.2778%\t \n",
      "Saved best classification model\n",
      "\n",
      "Epoch 109/200\n"
     ]
    },
    {
     "name": "stderr",
     "output_type": "stream",
     "text": [
      "                                                                                                                   \r"
     ]
    },
    {
     "name": "stdout",
     "output_type": "stream",
     "text": [
      "\n",
      "Epoch 109/200: \n",
      "Train Acc (Classification) 99.9914%\t Train Loss (Classification) 1.2762\t Learning Rate 0.0000\n"
     ]
    },
    {
     "name": "stderr",
     "output_type": "stream",
     "text": [
      "                                                                                                    \r"
     ]
    },
    {
     "name": "stdout",
     "output_type": "stream",
     "text": [
      "Val Acc (Classification) 83.7667%\t Val Loss (Classification) 2.6018\n"
     ]
    },
    {
     "name": "stderr",
     "output_type": "stream",
     "text": [
      "                                                  \r"
     ]
    },
    {
     "name": "stdout",
     "output_type": "stream",
     "text": [
      "Val Acc (Verification) 40.0000%\t \n",
      "Saved best classification model\n",
      "\n",
      "Epoch 110/200\n"
     ]
    },
    {
     "name": "stderr",
     "output_type": "stream",
     "text": [
      "                                                                                                                   \r"
     ]
    },
    {
     "name": "stdout",
     "output_type": "stream",
     "text": [
      "\n",
      "Epoch 110/200: \n",
      "Train Acc (Classification) 99.9914%\t Train Loss (Classification) 1.2762\t Learning Rate 0.0000\n"
     ]
    },
    {
     "name": "stderr",
     "output_type": "stream",
     "text": [
      "                                                                                                    \r"
     ]
    },
    {
     "name": "stdout",
     "output_type": "stream",
     "text": [
      "Val Acc (Classification) 83.7751%\t Val Loss (Classification) 2.6004\n"
     ]
    },
    {
     "name": "stderr",
     "output_type": "stream",
     "text": [
      "                                                  \r"
     ]
    },
    {
     "name": "stdout",
     "output_type": "stream",
     "text": [
      "Val Acc (Verification) 40.2778%\t \n",
      "Saved best classification model\n",
      "\n",
      "Epoch 111/200\n"
     ]
    },
    {
     "name": "stderr",
     "output_type": "stream",
     "text": [
      "                                                                                                                   \r"
     ]
    },
    {
     "name": "stdout",
     "output_type": "stream",
     "text": [
      "\n",
      "Epoch 111/200: \n",
      "Train Acc (Classification) 99.9914%\t Train Loss (Classification) 1.2760\t Learning Rate 0.0000\n"
     ]
    },
    {
     "name": "stderr",
     "output_type": "stream",
     "text": [
      "                                                                                                    \r"
     ]
    },
    {
     "name": "stdout",
     "output_type": "stream",
     "text": [
      "Val Acc (Classification) 83.7695%\t Val Loss (Classification) 2.6023\n"
     ]
    },
    {
     "name": "stderr",
     "output_type": "stream",
     "text": [
      "                                                  \r"
     ]
    },
    {
     "name": "stdout",
     "output_type": "stream",
     "text": [
      "Val Acc (Verification) 40.5556%\t \n",
      "Saved best classification model\n",
      "\n",
      "Epoch 112/200\n"
     ]
    },
    {
     "name": "stderr",
     "output_type": "stream",
     "text": [
      "                                                                                                                   \r"
     ]
    },
    {
     "name": "stdout",
     "output_type": "stream",
     "text": [
      "\n",
      "Epoch 112/200: \n",
      "Train Acc (Classification) 99.9914%\t Train Loss (Classification) 1.2758\t Learning Rate 0.0000\n"
     ]
    },
    {
     "name": "stderr",
     "output_type": "stream",
     "text": [
      "                                                                                                    \r"
     ]
    },
    {
     "name": "stdout",
     "output_type": "stream",
     "text": [
      "Val Acc (Classification) 83.7919%\t Val Loss (Classification) 2.5995\n"
     ]
    },
    {
     "name": "stderr",
     "output_type": "stream",
     "text": [
      "                                                  \r"
     ]
    },
    {
     "name": "stdout",
     "output_type": "stream",
     "text": [
      "Val Acc (Verification) 40.5556%\t \n",
      "Saved best classification model\n",
      "\n",
      "Epoch 113/200\n"
     ]
    },
    {
     "name": "stderr",
     "output_type": "stream",
     "text": [
      "                                                                                                                   \r"
     ]
    },
    {
     "name": "stdout",
     "output_type": "stream",
     "text": [
      "\n",
      "Epoch 113/200: \n",
      "Train Acc (Classification) 99.9914%\t Train Loss (Classification) 1.2758\t Learning Rate 0.0000\n"
     ]
    },
    {
     "name": "stderr",
     "output_type": "stream",
     "text": [
      "                                                                                                    \r"
     ]
    },
    {
     "name": "stdout",
     "output_type": "stream",
     "text": [
      "Val Acc (Classification) 83.7807%\t Val Loss (Classification) 2.6047\n"
     ]
    },
    {
     "name": "stderr",
     "output_type": "stream",
     "text": [
      "                                                  \r"
     ]
    },
    {
     "name": "stdout",
     "output_type": "stream",
     "text": [
      "Val Acc (Verification) 40.8333%\t \n",
      "Saved best classification model\n",
      "\n",
      "Epoch 114/200\n"
     ]
    },
    {
     "name": "stderr",
     "output_type": "stream",
     "text": [
      "                                                                                                                   \r"
     ]
    },
    {
     "name": "stdout",
     "output_type": "stream",
     "text": [
      "\n",
      "Epoch 114/200: \n",
      "Train Acc (Classification) 99.9914%\t Train Loss (Classification) 1.2756\t Learning Rate 0.0000\n"
     ]
    },
    {
     "name": "stderr",
     "output_type": "stream",
     "text": [
      "                                                                                                    \r"
     ]
    },
    {
     "name": "stdout",
     "output_type": "stream",
     "text": [
      "Val Acc (Classification) 83.7807%\t Val Loss (Classification) 2.6051\n"
     ]
    },
    {
     "name": "stderr",
     "output_type": "stream",
     "text": [
      "                                                  \r"
     ]
    },
    {
     "name": "stdout",
     "output_type": "stream",
     "text": [
      "Val Acc (Verification) 40.2778%\t \n",
      "Saved best classification model\n",
      "\n",
      "Epoch 115/200\n"
     ]
    },
    {
     "name": "stderr",
     "output_type": "stream",
     "text": [
      "                                                                                                                  \r"
     ]
    },
    {
     "name": "stdout",
     "output_type": "stream",
     "text": [
      "\n",
      "Epoch 115/200: \n",
      "Train Acc (Classification) 99.9900%\t Train Loss (Classification) 1.2756\t Learning Rate 0.0000\n"
     ]
    },
    {
     "name": "stderr",
     "output_type": "stream",
     "text": [
      "                                                                                                    \r"
     ]
    },
    {
     "name": "stdout",
     "output_type": "stream",
     "text": [
      "Val Acc (Classification) 83.7891%\t Val Loss (Classification) 2.6013\n"
     ]
    },
    {
     "name": "stderr",
     "output_type": "stream",
     "text": [
      "                                                  \r"
     ]
    },
    {
     "name": "stdout",
     "output_type": "stream",
     "text": [
      "Val Acc (Verification) 40.8333%\t \n",
      "Saved best classification model\n",
      "\n",
      "Epoch 116/200\n"
     ]
    },
    {
     "name": "stderr",
     "output_type": "stream",
     "text": [
      "                                                                                                                   \r"
     ]
    },
    {
     "name": "stdout",
     "output_type": "stream",
     "text": [
      "\n",
      "Epoch 116/200: \n",
      "Train Acc (Classification) 99.9914%\t Train Loss (Classification) 1.2753\t Learning Rate 0.0000\n"
     ]
    },
    {
     "name": "stderr",
     "output_type": "stream",
     "text": [
      "                                                                                                    \r"
     ]
    },
    {
     "name": "stdout",
     "output_type": "stream",
     "text": [
      "Val Acc (Classification) 83.8142%\t Val Loss (Classification) 2.6032\n"
     ]
    },
    {
     "name": "stderr",
     "output_type": "stream",
     "text": [
      "                                                  \r"
     ]
    },
    {
     "name": "stdout",
     "output_type": "stream",
     "text": [
      "Val Acc (Verification) 40.5556%\t \n",
      "Saved best classification model\n",
      "\n",
      "Epoch 117/200\n"
     ]
    },
    {
     "name": "stderr",
     "output_type": "stream",
     "text": [
      "                                                                                                                   \r"
     ]
    },
    {
     "name": "stdout",
     "output_type": "stream",
     "text": [
      "\n",
      "Epoch 117/200: \n",
      "Train Acc (Classification) 99.9914%\t Train Loss (Classification) 1.2752\t Learning Rate 0.0000\n"
     ]
    },
    {
     "name": "stderr",
     "output_type": "stream",
     "text": [
      "                                                                                                    \r"
     ]
    },
    {
     "name": "stdout",
     "output_type": "stream",
     "text": [
      "Val Acc (Classification) 83.7974%\t Val Loss (Classification) 2.5991\n"
     ]
    },
    {
     "name": "stderr",
     "output_type": "stream",
     "text": [
      "                                                  \r"
     ]
    },
    {
     "name": "stdout",
     "output_type": "stream",
     "text": [
      "Val Acc (Verification) 40.0000%\t \n",
      "Saved best classification model\n",
      "\n",
      "Epoch 118/200\n"
     ]
    },
    {
     "name": "stderr",
     "output_type": "stream",
     "text": [
      "                                                                                                                   \r"
     ]
    },
    {
     "name": "stdout",
     "output_type": "stream",
     "text": [
      "\n",
      "Epoch 118/200: \n",
      "Train Acc (Classification) 99.9914%\t Train Loss (Classification) 1.2752\t Learning Rate 0.0000\n"
     ]
    },
    {
     "name": "stderr",
     "output_type": "stream",
     "text": [
      "                                                                                                    \r"
     ]
    },
    {
     "name": "stdout",
     "output_type": "stream",
     "text": [
      "Val Acc (Classification) 83.8058%\t Val Loss (Classification) 2.6032\n"
     ]
    },
    {
     "name": "stderr",
     "output_type": "stream",
     "text": [
      "                                                  \r"
     ]
    },
    {
     "name": "stdout",
     "output_type": "stream",
     "text": [
      "Val Acc (Verification) 40.0000%\t \n",
      "Saved best classification model\n",
      "\n",
      "Epoch 119/200\n"
     ]
    },
    {
     "name": "stderr",
     "output_type": "stream",
     "text": [
      "                                                                                                                   \r"
     ]
    },
    {
     "name": "stdout",
     "output_type": "stream",
     "text": [
      "\n",
      "Epoch 119/200: \n",
      "Train Acc (Classification) 99.9914%\t Train Loss (Classification) 1.2750\t Learning Rate 0.0000\n"
     ]
    },
    {
     "name": "stderr",
     "output_type": "stream",
     "text": [
      "                                                                                                    \r"
     ]
    },
    {
     "name": "stdout",
     "output_type": "stream",
     "text": [
      "Val Acc (Classification) 83.7974%\t Val Loss (Classification) 2.6019\n"
     ]
    },
    {
     "name": "stderr",
     "output_type": "stream",
     "text": [
      "                                                  \r"
     ]
    },
    {
     "name": "stdout",
     "output_type": "stream",
     "text": [
      "Val Acc (Verification) 40.2778%\t \n",
      "Saved best classification model\n",
      "\n",
      "Epoch 120/200\n"
     ]
    },
    {
     "name": "stderr",
     "output_type": "stream",
     "text": [
      "                                                                                                                   \r"
     ]
    },
    {
     "name": "stdout",
     "output_type": "stream",
     "text": [
      "\n",
      "Epoch 120/200: \n",
      "Train Acc (Classification) 99.9914%\t Train Loss (Classification) 1.2749\t Learning Rate 0.0000\n"
     ]
    },
    {
     "name": "stderr",
     "output_type": "stream",
     "text": [
      "                                                                                                    \r"
     ]
    },
    {
     "name": "stdout",
     "output_type": "stream",
     "text": [
      "Val Acc (Classification) 83.8449%\t Val Loss (Classification) 2.6050\n"
     ]
    },
    {
     "name": "stderr",
     "output_type": "stream",
     "text": [
      "                                                  \r"
     ]
    },
    {
     "name": "stdout",
     "output_type": "stream",
     "text": [
      "Val Acc (Verification) 40.5556%\t \n",
      "Saved best classification model\n",
      "\n",
      "Epoch 121/200\n"
     ]
    },
    {
     "name": "stderr",
     "output_type": "stream",
     "text": [
      "                                                                                                                   \r"
     ]
    },
    {
     "name": "stdout",
     "output_type": "stream",
     "text": [
      "\n",
      "Epoch 121/200: \n",
      "Train Acc (Classification) 99.9914%\t Train Loss (Classification) 1.2748\t Learning Rate 0.0000\n"
     ]
    },
    {
     "name": "stderr",
     "output_type": "stream",
     "text": [
      "                                                                                                    \r"
     ]
    },
    {
     "name": "stdout",
     "output_type": "stream",
     "text": [
      "Val Acc (Classification) 83.8477%\t Val Loss (Classification) 2.6038\n"
     ]
    },
    {
     "name": "stderr",
     "output_type": "stream",
     "text": [
      "                                                  \r"
     ]
    },
    {
     "name": "stdout",
     "output_type": "stream",
     "text": [
      "Val Acc (Verification) 40.5556%\t \n",
      "Saved best classification model\n",
      "\n",
      "Epoch 122/200\n"
     ]
    },
    {
     "name": "stderr",
     "output_type": "stream",
     "text": [
      "                                                                                                                   \r"
     ]
    },
    {
     "name": "stdout",
     "output_type": "stream",
     "text": [
      "\n",
      "Epoch 122/200: \n",
      "Train Acc (Classification) 99.9914%\t Train Loss (Classification) 1.2747\t Learning Rate 0.0000\n"
     ]
    },
    {
     "name": "stderr",
     "output_type": "stream",
     "text": [
      "                                                                                                    \r"
     ]
    },
    {
     "name": "stdout",
     "output_type": "stream",
     "text": [
      "Val Acc (Classification) 83.8504%\t Val Loss (Classification) 2.6031\n"
     ]
    },
    {
     "name": "stderr",
     "output_type": "stream",
     "text": [
      "                                                  \r"
     ]
    },
    {
     "name": "stdout",
     "output_type": "stream",
     "text": [
      "Val Acc (Verification) 40.5556%\t \n",
      "Saved best classification model\n",
      "\n",
      "Epoch 123/200\n"
     ]
    },
    {
     "name": "stderr",
     "output_type": "stream",
     "text": [
      "                                                                                                                   \r"
     ]
    },
    {
     "name": "stdout",
     "output_type": "stream",
     "text": [
      "\n",
      "Epoch 123/200: \n",
      "Train Acc (Classification) 99.9907%\t Train Loss (Classification) 1.2747\t Learning Rate 0.0000\n"
     ]
    },
    {
     "name": "stderr",
     "output_type": "stream",
     "text": [
      "                                                                                                    \r"
     ]
    },
    {
     "name": "stdout",
     "output_type": "stream",
     "text": [
      "Val Acc (Classification) 83.8393%\t Val Loss (Classification) 2.6022\n"
     ]
    },
    {
     "name": "stderr",
     "output_type": "stream",
     "text": [
      "                                                  \r"
     ]
    },
    {
     "name": "stdout",
     "output_type": "stream",
     "text": [
      "Val Acc (Verification) 40.8333%\t \n",
      "Saved best classification model\n",
      "\n",
      "Epoch 124/200\n"
     ]
    },
    {
     "name": "stderr",
     "output_type": "stream",
     "text": [
      "                                                                                                                   \r"
     ]
    },
    {
     "name": "stdout",
     "output_type": "stream",
     "text": [
      "\n",
      "Epoch 124/200: \n",
      "Train Acc (Classification) 99.9914%\t Train Loss (Classification) 1.2746\t Learning Rate 0.0000\n"
     ]
    },
    {
     "name": "stderr",
     "output_type": "stream",
     "text": [
      "                                                                                                    \r"
     ]
    },
    {
     "name": "stdout",
     "output_type": "stream",
     "text": [
      "Val Acc (Classification) 83.8198%\t Val Loss (Classification) 2.6028\n"
     ]
    },
    {
     "name": "stderr",
     "output_type": "stream",
     "text": [
      "                                                  \r"
     ]
    },
    {
     "name": "stdout",
     "output_type": "stream",
     "text": [
      "Val Acc (Verification) 40.8333%\t \n",
      "Saved best classification model\n",
      "\n",
      "Epoch 125/200\n"
     ]
    },
    {
     "name": "stderr",
     "output_type": "stream",
     "text": [
      "                                                                                                                   \r"
     ]
    },
    {
     "name": "stdout",
     "output_type": "stream",
     "text": [
      "\n",
      "Epoch 125/200: \n",
      "Train Acc (Classification) 99.9914%\t Train Loss (Classification) 1.2745\t Learning Rate 0.0000\n"
     ]
    },
    {
     "name": "stderr",
     "output_type": "stream",
     "text": [
      "                                                                                                    \r"
     ]
    },
    {
     "name": "stdout",
     "output_type": "stream",
     "text": [
      "Val Acc (Classification) 83.8421%\t Val Loss (Classification) 2.6005\n"
     ]
    },
    {
     "name": "stderr",
     "output_type": "stream",
     "text": [
      "                                                  \r"
     ]
    },
    {
     "name": "stdout",
     "output_type": "stream",
     "text": [
      "Val Acc (Verification) 41.1111%\t \n",
      "Saved best classification model\n",
      "\n",
      "Epoch 126/200\n"
     ]
    },
    {
     "name": "stderr",
     "output_type": "stream",
     "text": [
      "                                                                                                                   \r"
     ]
    },
    {
     "name": "stdout",
     "output_type": "stream",
     "text": [
      "\n",
      "Epoch 126/200: \n",
      "Train Acc (Classification) 99.9907%\t Train Loss (Classification) 1.2745\t Learning Rate 0.0000\n"
     ]
    },
    {
     "name": "stderr",
     "output_type": "stream",
     "text": [
      "                                                                                                    \r"
     ]
    },
    {
     "name": "stdout",
     "output_type": "stream",
     "text": [
      "Val Acc (Classification) 83.8672%\t Val Loss (Classification) 2.6032\n"
     ]
    },
    {
     "name": "stderr",
     "output_type": "stream",
     "text": [
      "                                                  \r"
     ]
    },
    {
     "name": "stdout",
     "output_type": "stream",
     "text": [
      "Val Acc (Verification) 40.5556%\t \n",
      "Saved best classification model\n",
      "\n",
      "Epoch 127/200\n"
     ]
    },
    {
     "name": "stderr",
     "output_type": "stream",
     "text": [
      "                                                                                                                  \r"
     ]
    },
    {
     "name": "stdout",
     "output_type": "stream",
     "text": [
      "\n",
      "Epoch 127/200: \n",
      "Train Acc (Classification) 99.9907%\t Train Loss (Classification) 1.2743\t Learning Rate 0.0000\n"
     ]
    },
    {
     "name": "stderr",
     "output_type": "stream",
     "text": [
      "                                                                                                    \r"
     ]
    },
    {
     "name": "stdout",
     "output_type": "stream",
     "text": [
      "Val Acc (Classification) 83.8728%\t Val Loss (Classification) 2.6039\n"
     ]
    },
    {
     "name": "stderr",
     "output_type": "stream",
     "text": [
      "                                                  \r"
     ]
    },
    {
     "name": "stdout",
     "output_type": "stream",
     "text": [
      "Val Acc (Verification) 40.5556%\t \n",
      "Saved best classification model\n",
      "\n",
      "Epoch 128/200\n"
     ]
    },
    {
     "name": "stderr",
     "output_type": "stream",
     "text": [
      "                                                                                                                   \r"
     ]
    },
    {
     "name": "stdout",
     "output_type": "stream",
     "text": [
      "\n",
      "Epoch 128/200: \n",
      "Train Acc (Classification) 99.9914%\t Train Loss (Classification) 1.2742\t Learning Rate 0.0000\n"
     ]
    },
    {
     "name": "stderr",
     "output_type": "stream",
     "text": [
      "                                                                                                    \r"
     ]
    },
    {
     "name": "stdout",
     "output_type": "stream",
     "text": [
      "Val Acc (Classification) 83.8728%\t Val Loss (Classification) 2.6032\n"
     ]
    },
    {
     "name": "stderr",
     "output_type": "stream",
     "text": [
      "                                                  \r"
     ]
    },
    {
     "name": "stdout",
     "output_type": "stream",
     "text": [
      "Val Acc (Verification) 40.2778%\t \n",
      "Saved best classification model\n",
      "\n",
      "Epoch 129/200\n"
     ]
    },
    {
     "name": "stderr",
     "output_type": "stream",
     "text": [
      "                                                                                                                   \r"
     ]
    },
    {
     "name": "stdout",
     "output_type": "stream",
     "text": [
      "\n",
      "Epoch 129/200: \n",
      "Train Acc (Classification) 99.9914%\t Train Loss (Classification) 1.2741\t Learning Rate 0.0000\n"
     ]
    },
    {
     "name": "stderr",
     "output_type": "stream",
     "text": [
      "                                                                                                    \r"
     ]
    },
    {
     "name": "stdout",
     "output_type": "stream",
     "text": [
      "Val Acc (Classification) 83.8839%\t Val Loss (Classification) 2.6006\n"
     ]
    },
    {
     "name": "stderr",
     "output_type": "stream",
     "text": [
      "                                                  \r"
     ]
    },
    {
     "name": "stdout",
     "output_type": "stream",
     "text": [
      "Val Acc (Verification) 40.0000%\t \n",
      "Saved best classification model\n",
      "\n",
      "Epoch 130/200\n"
     ]
    },
    {
     "name": "stderr",
     "output_type": "stream",
     "text": [
      "                                                                                                                   \r"
     ]
    },
    {
     "name": "stdout",
     "output_type": "stream",
     "text": [
      "\n",
      "Epoch 130/200: \n",
      "Train Acc (Classification) 99.9914%\t Train Loss (Classification) 1.2740\t Learning Rate 0.0000\n"
     ]
    },
    {
     "name": "stderr",
     "output_type": "stream",
     "text": [
      "                                                                                                    \r"
     ]
    },
    {
     "name": "stdout",
     "output_type": "stream",
     "text": [
      "Val Acc (Classification) 83.8421%\t Val Loss (Classification) 2.6021\n"
     ]
    },
    {
     "name": "stderr",
     "output_type": "stream",
     "text": [
      "                                                  \r"
     ]
    },
    {
     "name": "stdout",
     "output_type": "stream",
     "text": [
      "Val Acc (Verification) 40.5556%\t \n",
      "Saved best classification model\n",
      "\n",
      "Epoch 131/200\n"
     ]
    },
    {
     "name": "stderr",
     "output_type": "stream",
     "text": [
      "                                                                                                                   \r"
     ]
    },
    {
     "name": "stdout",
     "output_type": "stream",
     "text": [
      "\n",
      "Epoch 131/200: \n",
      "Train Acc (Classification) 99.9914%\t Train Loss (Classification) 1.2740\t Learning Rate 0.0000\n"
     ]
    },
    {
     "name": "stderr",
     "output_type": "stream",
     "text": [
      "                                                                                                    \r"
     ]
    },
    {
     "name": "stdout",
     "output_type": "stream",
     "text": [
      "Val Acc (Classification) 83.8560%\t Val Loss (Classification) 2.6042\n"
     ]
    },
    {
     "name": "stderr",
     "output_type": "stream",
     "text": [
      "                                                  \r"
     ]
    },
    {
     "name": "stdout",
     "output_type": "stream",
     "text": [
      "Val Acc (Verification) 40.5556%\t \n",
      "Saved best classification model\n",
      "\n",
      "Epoch 132/200\n"
     ]
    },
    {
     "name": "stderr",
     "output_type": "stream",
     "text": [
      "                                                                                                                   \r"
     ]
    },
    {
     "name": "stdout",
     "output_type": "stream",
     "text": [
      "\n",
      "Epoch 132/200: \n",
      "Train Acc (Classification) 99.9914%\t Train Loss (Classification) 1.2738\t Learning Rate 0.0000\n"
     ]
    },
    {
     "name": "stderr",
     "output_type": "stream",
     "text": [
      "                                                                                                    \r"
     ]
    },
    {
     "name": "stdout",
     "output_type": "stream",
     "text": [
      "Val Acc (Classification) 83.8867%\t Val Loss (Classification) 2.6023\n"
     ]
    },
    {
     "name": "stderr",
     "output_type": "stream",
     "text": [
      "                                                  \r"
     ]
    },
    {
     "name": "stdout",
     "output_type": "stream",
     "text": [
      "Val Acc (Verification) 40.5556%\t \n",
      "Saved best classification model\n",
      "\n",
      "Epoch 133/200\n"
     ]
    },
    {
     "name": "stderr",
     "output_type": "stream",
     "text": [
      "                                                                                                                   \r"
     ]
    },
    {
     "name": "stdout",
     "output_type": "stream",
     "text": [
      "\n",
      "Epoch 133/200: \n",
      "Train Acc (Classification) 99.9914%\t Train Loss (Classification) 1.2738\t Learning Rate 0.0000\n"
     ]
    },
    {
     "name": "stderr",
     "output_type": "stream",
     "text": [
      "                                                                                                    \r"
     ]
    },
    {
     "name": "stdout",
     "output_type": "stream",
     "text": [
      "Val Acc (Classification) 83.8560%\t Val Loss (Classification) 2.6069\n"
     ]
    },
    {
     "name": "stderr",
     "output_type": "stream",
     "text": [
      "                                                  \r"
     ]
    },
    {
     "name": "stdout",
     "output_type": "stream",
     "text": [
      "Val Acc (Verification) 40.5556%\t \n",
      "Saved best classification model\n",
      "\n",
      "Epoch 134/200\n"
     ]
    },
    {
     "name": "stderr",
     "output_type": "stream",
     "text": [
      "                                                                                                                   \r"
     ]
    },
    {
     "name": "stdout",
     "output_type": "stream",
     "text": [
      "\n",
      "Epoch 134/200: \n",
      "Train Acc (Classification) 99.9914%\t Train Loss (Classification) 1.2736\t Learning Rate 0.0000\n"
     ]
    },
    {
     "name": "stderr",
     "output_type": "stream",
     "text": [
      "                                                                                                    \r"
     ]
    },
    {
     "name": "stdout",
     "output_type": "stream",
     "text": [
      "Val Acc (Classification) 83.9062%\t Val Loss (Classification) 2.6030\n"
     ]
    },
    {
     "name": "stderr",
     "output_type": "stream",
     "text": [
      "                                                  \r"
     ]
    },
    {
     "name": "stdout",
     "output_type": "stream",
     "text": [
      "Val Acc (Verification) 40.2778%\t \n",
      "Saved best classification model\n",
      "\n",
      "Epoch 135/200\n"
     ]
    },
    {
     "name": "stderr",
     "output_type": "stream",
     "text": [
      "                                                                                                                   \r"
     ]
    },
    {
     "name": "stdout",
     "output_type": "stream",
     "text": [
      "\n",
      "Epoch 135/200: \n",
      "Train Acc (Classification) 99.9914%\t Train Loss (Classification) 1.2737\t Learning Rate 0.0000\n"
     ]
    },
    {
     "name": "stderr",
     "output_type": "stream",
     "text": [
      "                                                                                                    \r"
     ]
    },
    {
     "name": "stdout",
     "output_type": "stream",
     "text": [
      "Val Acc (Classification) 83.8644%\t Val Loss (Classification) 2.6062\n"
     ]
    },
    {
     "name": "stderr",
     "output_type": "stream",
     "text": [
      "                                                  \r"
     ]
    },
    {
     "name": "stdout",
     "output_type": "stream",
     "text": [
      "Val Acc (Verification) 40.2778%\t \n",
      "Saved best classification model\n",
      "\n",
      "Epoch 136/200\n"
     ]
    },
    {
     "name": "stderr",
     "output_type": "stream",
     "text": [
      "                                                                                                                  \r"
     ]
    },
    {
     "name": "stdout",
     "output_type": "stream",
     "text": [
      "\n",
      "Epoch 136/200: \n",
      "Train Acc (Classification) 99.9907%\t Train Loss (Classification) 1.2735\t Learning Rate 0.0000\n"
     ]
    },
    {
     "name": "stderr",
     "output_type": "stream",
     "text": [
      "                                                                                                    \r"
     ]
    },
    {
     "name": "stdout",
     "output_type": "stream",
     "text": [
      "Val Acc (Classification) 83.8616%\t Val Loss (Classification) 2.6055\n"
     ]
    },
    {
     "name": "stderr",
     "output_type": "stream",
     "text": [
      "                                                  \r"
     ]
    },
    {
     "name": "stdout",
     "output_type": "stream",
     "text": [
      "Val Acc (Verification) 40.2778%\t \n",
      "Saved best classification model\n",
      "\n",
      "Epoch 137/200\n"
     ]
    },
    {
     "name": "stderr",
     "output_type": "stream",
     "text": [
      "                                                                                                                   \r"
     ]
    },
    {
     "name": "stdout",
     "output_type": "stream",
     "text": [
      "\n",
      "Epoch 137/200: \n",
      "Train Acc (Classification) 99.9914%\t Train Loss (Classification) 1.2734\t Learning Rate 0.0000\n"
     ]
    },
    {
     "name": "stderr",
     "output_type": "stream",
     "text": [
      "                                                                                                    \r"
     ]
    },
    {
     "name": "stdout",
     "output_type": "stream",
     "text": [
      "Val Acc (Classification) 83.8839%\t Val Loss (Classification) 2.6042\n"
     ]
    },
    {
     "name": "stderr",
     "output_type": "stream",
     "text": [
      "                                                  \r"
     ]
    },
    {
     "name": "stdout",
     "output_type": "stream",
     "text": [
      "Val Acc (Verification) 40.2778%\t \n",
      "Saved best classification model\n",
      "\n",
      "Epoch 138/200\n"
     ]
    },
    {
     "name": "stderr",
     "output_type": "stream",
     "text": [
      "                                                                                                                  \r"
     ]
    },
    {
     "name": "stdout",
     "output_type": "stream",
     "text": [
      "\n",
      "Epoch 138/200: \n",
      "Train Acc (Classification) 99.9893%\t Train Loss (Classification) 1.2734\t Learning Rate 0.0000\n"
     ]
    },
    {
     "name": "stderr",
     "output_type": "stream",
     "text": [
      "                                                                                                    \r"
     ]
    },
    {
     "name": "stdout",
     "output_type": "stream",
     "text": [
      "Val Acc (Classification) 83.8700%\t Val Loss (Classification) 2.6070\n"
     ]
    },
    {
     "name": "stderr",
     "output_type": "stream",
     "text": [
      "                                                  \r"
     ]
    },
    {
     "name": "stdout",
     "output_type": "stream",
     "text": [
      "Val Acc (Verification) 40.0000%\t \n",
      "Saved best classification model\n",
      "\n",
      "Epoch 139/200\n"
     ]
    },
    {
     "name": "stderr",
     "output_type": "stream",
     "text": [
      "                                                                                                                   \r"
     ]
    },
    {
     "name": "stdout",
     "output_type": "stream",
     "text": [
      "\n",
      "Epoch 139/200: \n",
      "Train Acc (Classification) 99.9914%\t Train Loss (Classification) 1.2733\t Learning Rate 0.0000\n"
     ]
    },
    {
     "name": "stderr",
     "output_type": "stream",
     "text": [
      "                                                                                                    \r"
     ]
    },
    {
     "name": "stdout",
     "output_type": "stream",
     "text": [
      "Val Acc (Classification) 83.8895%\t Val Loss (Classification) 2.6052\n"
     ]
    },
    {
     "name": "stderr",
     "output_type": "stream",
     "text": [
      "                                                  \r"
     ]
    },
    {
     "name": "stdout",
     "output_type": "stream",
     "text": [
      "Val Acc (Verification) 40.0000%\t \n",
      "Saved best classification model\n",
      "\n",
      "Epoch 140/200\n"
     ]
    },
    {
     "name": "stderr",
     "output_type": "stream",
     "text": [
      "                                                                                                                  \r"
     ]
    },
    {
     "name": "stdout",
     "output_type": "stream",
     "text": [
      "\n",
      "Epoch 140/200: \n",
      "Train Acc (Classification) 99.9900%\t Train Loss (Classification) 1.2732\t Learning Rate 0.0000\n"
     ]
    },
    {
     "name": "stderr",
     "output_type": "stream",
     "text": [
      "                                                                                                    \r"
     ]
    },
    {
     "name": "stdout",
     "output_type": "stream",
     "text": [
      "Val Acc (Classification) 83.8979%\t Val Loss (Classification) 2.6051\n"
     ]
    },
    {
     "name": "stderr",
     "output_type": "stream",
     "text": [
      "                                                  \r"
     ]
    },
    {
     "name": "stdout",
     "output_type": "stream",
     "text": [
      "Val Acc (Verification) 40.2778%\t \n",
      "Saved best classification model\n",
      "\n",
      "Epoch 141/200\n"
     ]
    },
    {
     "name": "stderr",
     "output_type": "stream",
     "text": [
      "                                                                                                                   \r"
     ]
    },
    {
     "name": "stdout",
     "output_type": "stream",
     "text": [
      "\n",
      "Epoch 141/200: \n",
      "Train Acc (Classification) 99.9914%\t Train Loss (Classification) 1.2730\t Learning Rate 0.0000\n"
     ]
    },
    {
     "name": "stderr",
     "output_type": "stream",
     "text": [
      "                                                                                                    \r"
     ]
    },
    {
     "name": "stdout",
     "output_type": "stream",
     "text": [
      "Val Acc (Classification) 83.8700%\t Val Loss (Classification) 2.6045\n"
     ]
    },
    {
     "name": "stderr",
     "output_type": "stream",
     "text": [
      "                                                  \r"
     ]
    },
    {
     "name": "stdout",
     "output_type": "stream",
     "text": [
      "Val Acc (Verification) 40.5556%\t \n",
      "Saved best classification model\n",
      "\n",
      "Epoch 142/200\n"
     ]
    },
    {
     "name": "stderr",
     "output_type": "stream",
     "text": [
      "                                                                                                                   \r"
     ]
    },
    {
     "name": "stdout",
     "output_type": "stream",
     "text": [
      "\n",
      "Epoch 142/200: \n",
      "Train Acc (Classification) 99.9914%\t Train Loss (Classification) 1.2730\t Learning Rate 0.0000\n"
     ]
    },
    {
     "name": "stderr",
     "output_type": "stream",
     "text": [
      "                                                                                                    \r"
     ]
    },
    {
     "name": "stdout",
     "output_type": "stream",
     "text": [
      "Val Acc (Classification) 83.8895%\t Val Loss (Classification) 2.6052\n"
     ]
    },
    {
     "name": "stderr",
     "output_type": "stream",
     "text": [
      "                                                  \r"
     ]
    },
    {
     "name": "stdout",
     "output_type": "stream",
     "text": [
      "Val Acc (Verification) 40.0000%\t \n",
      "Saved best classification model\n",
      "\n",
      "Epoch 143/200\n"
     ]
    },
    {
     "name": "stderr",
     "output_type": "stream",
     "text": [
      "                                                                                                                   \r"
     ]
    },
    {
     "name": "stdout",
     "output_type": "stream",
     "text": [
      "\n",
      "Epoch 143/200: \n",
      "Train Acc (Classification) 99.9914%\t Train Loss (Classification) 1.2729\t Learning Rate 0.0000\n"
     ]
    },
    {
     "name": "stderr",
     "output_type": "stream",
     "text": [
      "                                                                                                    \r"
     ]
    },
    {
     "name": "stdout",
     "output_type": "stream",
     "text": [
      "Val Acc (Classification) 83.9090%\t Val Loss (Classification) 2.6042\n"
     ]
    },
    {
     "name": "stderr",
     "output_type": "stream",
     "text": [
      "                                                  \r"
     ]
    },
    {
     "name": "stdout",
     "output_type": "stream",
     "text": [
      "Val Acc (Verification) 39.7222%\t \n",
      "Saved best classification model\n",
      "\n",
      "Epoch 144/200\n"
     ]
    },
    {
     "name": "stderr",
     "output_type": "stream",
     "text": [
      "                                                                                                                  \r"
     ]
    },
    {
     "name": "stdout",
     "output_type": "stream",
     "text": [
      "\n",
      "Epoch 144/200: \n",
      "Train Acc (Classification) 99.9907%\t Train Loss (Classification) 1.2728\t Learning Rate 0.0000\n"
     ]
    },
    {
     "name": "stderr",
     "output_type": "stream",
     "text": [
      "                                                                                                    \r"
     ]
    },
    {
     "name": "stdout",
     "output_type": "stream",
     "text": [
      "Val Acc (Classification) 83.8867%\t Val Loss (Classification) 2.6052\n"
     ]
    },
    {
     "name": "stderr",
     "output_type": "stream",
     "text": [
      "                                                  \r"
     ]
    },
    {
     "name": "stdout",
     "output_type": "stream",
     "text": [
      "Val Acc (Verification) 40.0000%\t \n",
      "Saved best classification model\n",
      "\n",
      "Epoch 145/200\n"
     ]
    },
    {
     "name": "stderr",
     "output_type": "stream",
     "text": [
      "                                                                                                                   \r"
     ]
    },
    {
     "name": "stdout",
     "output_type": "stream",
     "text": [
      "\n",
      "Epoch 145/200: \n",
      "Train Acc (Classification) 99.9914%\t Train Loss (Classification) 1.2727\t Learning Rate 0.0000\n"
     ]
    },
    {
     "name": "stderr",
     "output_type": "stream",
     "text": [
      "                                                                                                    \r"
     ]
    },
    {
     "name": "stdout",
     "output_type": "stream",
     "text": [
      "Val Acc (Classification) 83.8895%\t Val Loss (Classification) 2.6074\n"
     ]
    },
    {
     "name": "stderr",
     "output_type": "stream",
     "text": [
      "                                                  \r"
     ]
    },
    {
     "name": "stdout",
     "output_type": "stream",
     "text": [
      "Val Acc (Verification) 39.7222%\t \n",
      "Saved best classification model\n",
      "\n",
      "Epoch 146/200\n"
     ]
    },
    {
     "name": "stderr",
     "output_type": "stream",
     "text": [
      "                                                                                                                   \r"
     ]
    },
    {
     "name": "stdout",
     "output_type": "stream",
     "text": [
      "\n",
      "Epoch 146/200: \n",
      "Train Acc (Classification) 99.9914%\t Train Loss (Classification) 1.2726\t Learning Rate 0.0000\n"
     ]
    },
    {
     "name": "stderr",
     "output_type": "stream",
     "text": [
      "                                                                                                    \r"
     ]
    },
    {
     "name": "stdout",
     "output_type": "stream",
     "text": [
      "Val Acc (Classification) 83.9090%\t Val Loss (Classification) 2.6055\n"
     ]
    },
    {
     "name": "stderr",
     "output_type": "stream",
     "text": [
      "                                                  \r"
     ]
    },
    {
     "name": "stdout",
     "output_type": "stream",
     "text": [
      "Val Acc (Verification) 39.7222%\t \n",
      "Saved best classification model\n",
      "\n",
      "Epoch 147/200\n"
     ]
    },
    {
     "name": "stderr",
     "output_type": "stream",
     "text": [
      "                                                                                                                   \r"
     ]
    },
    {
     "name": "stdout",
     "output_type": "stream",
     "text": [
      "\n",
      "Epoch 147/200: \n",
      "Train Acc (Classification) 99.9914%\t Train Loss (Classification) 1.2725\t Learning Rate 0.0000\n"
     ]
    },
    {
     "name": "stderr",
     "output_type": "stream",
     "text": [
      "                                                                                                    \r"
     ]
    },
    {
     "name": "stdout",
     "output_type": "stream",
     "text": [
      "Val Acc (Classification) 83.9481%\t Val Loss (Classification) 2.6060\n"
     ]
    },
    {
     "name": "stderr",
     "output_type": "stream",
     "text": [
      "                                                  \r"
     ]
    },
    {
     "name": "stdout",
     "output_type": "stream",
     "text": [
      "Val Acc (Verification) 39.7222%\t \n",
      "Saved best classification model\n",
      "\n",
      "Epoch 148/200\n"
     ]
    },
    {
     "name": "stderr",
     "output_type": "stream",
     "text": [
      "                                                                                                                   \r"
     ]
    },
    {
     "name": "stdout",
     "output_type": "stream",
     "text": [
      "\n",
      "Epoch 148/200: \n",
      "Train Acc (Classification) 99.9914%\t Train Loss (Classification) 1.2726\t Learning Rate 0.0000\n"
     ]
    },
    {
     "name": "stderr",
     "output_type": "stream",
     "text": [
      "                                                                                                    \r"
     ]
    },
    {
     "name": "stdout",
     "output_type": "stream",
     "text": [
      "Val Acc (Classification) 83.9397%\t Val Loss (Classification) 2.6058\n"
     ]
    },
    {
     "name": "stderr",
     "output_type": "stream",
     "text": [
      "                                                  \r"
     ]
    },
    {
     "name": "stdout",
     "output_type": "stream",
     "text": [
      "Val Acc (Verification) 39.7222%\t \n",
      "Saved best classification model\n",
      "\n",
      "Epoch 149/200\n"
     ]
    },
    {
     "name": "stderr",
     "output_type": "stream",
     "text": [
      "                                                                                                                   \r"
     ]
    },
    {
     "name": "stdout",
     "output_type": "stream",
     "text": [
      "\n",
      "Epoch 149/200: \n",
      "Train Acc (Classification) 99.9914%\t Train Loss (Classification) 1.2724\t Learning Rate 0.0000\n"
     ]
    },
    {
     "name": "stderr",
     "output_type": "stream",
     "text": [
      "                                                                                                    \r"
     ]
    },
    {
     "name": "stdout",
     "output_type": "stream",
     "text": [
      "Val Acc (Classification) 83.9202%\t Val Loss (Classification) 2.6085\n"
     ]
    },
    {
     "name": "stderr",
     "output_type": "stream",
     "text": [
      "                                                  \r"
     ]
    },
    {
     "name": "stdout",
     "output_type": "stream",
     "text": [
      "Val Acc (Verification) 40.0000%\t \n",
      "Saved best classification model\n",
      "\n",
      "Epoch 150/200\n"
     ]
    },
    {
     "name": "stderr",
     "output_type": "stream",
     "text": [
      "                                                                                                                   \r"
     ]
    },
    {
     "name": "stdout",
     "output_type": "stream",
     "text": [
      "\n",
      "Epoch 150/200: \n",
      "Train Acc (Classification) 99.9907%\t Train Loss (Classification) 1.2724\t Learning Rate 0.0000\n"
     ]
    },
    {
     "name": "stderr",
     "output_type": "stream",
     "text": [
      "                                                                                                    \r"
     ]
    },
    {
     "name": "stdout",
     "output_type": "stream",
     "text": [
      "Val Acc (Classification) 83.9397%\t Val Loss (Classification) 2.6063\n"
     ]
    },
    {
     "name": "stderr",
     "output_type": "stream",
     "text": [
      "                                                  \r"
     ]
    },
    {
     "name": "stdout",
     "output_type": "stream",
     "text": [
      "Val Acc (Verification) 40.5556%\t \n",
      "Saved best classification model\n",
      "\n",
      "Epoch 151/200\n"
     ]
    },
    {
     "name": "stderr",
     "output_type": "stream",
     "text": [
      "                                                                                                                   \r"
     ]
    },
    {
     "name": "stdout",
     "output_type": "stream",
     "text": [
      "\n",
      "Epoch 151/200: \n",
      "Train Acc (Classification) 99.9914%\t Train Loss (Classification) 1.2723\t Learning Rate 0.0000\n"
     ]
    },
    {
     "name": "stderr",
     "output_type": "stream",
     "text": [
      "                                                                                                    \r"
     ]
    },
    {
     "name": "stdout",
     "output_type": "stream",
     "text": [
      "Val Acc (Classification) 83.9230%\t Val Loss (Classification) 2.6075\n"
     ]
    },
    {
     "name": "stderr",
     "output_type": "stream",
     "text": [
      "                                                  \r"
     ]
    },
    {
     "name": "stdout",
     "output_type": "stream",
     "text": [
      "Val Acc (Verification) 39.7222%\t \n",
      "Saved best classification model\n",
      "\n",
      "Epoch 152/200\n"
     ]
    },
    {
     "name": "stderr",
     "output_type": "stream",
     "text": [
      "                                                                                                                   \r"
     ]
    },
    {
     "name": "stdout",
     "output_type": "stream",
     "text": [
      "\n",
      "Epoch 152/200: \n",
      "Train Acc (Classification) 99.9907%\t Train Loss (Classification) 1.2723\t Learning Rate 0.0000\n"
     ]
    },
    {
     "name": "stderr",
     "output_type": "stream",
     "text": [
      "                                                                                                    \r"
     ]
    },
    {
     "name": "stdout",
     "output_type": "stream",
     "text": [
      "Val Acc (Classification) 83.9788%\t Val Loss (Classification) 2.6058\n"
     ]
    },
    {
     "name": "stderr",
     "output_type": "stream",
     "text": [
      "                                                  \r"
     ]
    },
    {
     "name": "stdout",
     "output_type": "stream",
     "text": [
      "Val Acc (Verification) 40.0000%\t \n",
      "Saved best classification model\n",
      "\n",
      "Epoch 153/200\n"
     ]
    },
    {
     "name": "stderr",
     "output_type": "stream",
     "text": [
      "                                                                                                                   \r"
     ]
    },
    {
     "name": "stdout",
     "output_type": "stream",
     "text": [
      "\n",
      "Epoch 153/200: \n",
      "Train Acc (Classification) 99.9907%\t Train Loss (Classification) 1.2722\t Learning Rate 0.0000\n"
     ]
    },
    {
     "name": "stderr",
     "output_type": "stream",
     "text": [
      "                                                                                                    \r"
     ]
    },
    {
     "name": "stdout",
     "output_type": "stream",
     "text": [
      "Val Acc (Classification) 83.9732%\t Val Loss (Classification) 2.6057\n"
     ]
    },
    {
     "name": "stderr",
     "output_type": "stream",
     "text": [
      "                                                  \r"
     ]
    },
    {
     "name": "stdout",
     "output_type": "stream",
     "text": [
      "Val Acc (Verification) 39.7222%\t \n",
      "Saved best classification model\n",
      "\n",
      "Epoch 154/200\n"
     ]
    },
    {
     "name": "stderr",
     "output_type": "stream",
     "text": [
      "                                                                                                                   \r"
     ]
    },
    {
     "name": "stdout",
     "output_type": "stream",
     "text": [
      "\n",
      "Epoch 154/200: \n",
      "Train Acc (Classification) 99.9914%\t Train Loss (Classification) 1.2720\t Learning Rate 0.0000\n"
     ]
    },
    {
     "name": "stderr",
     "output_type": "stream",
     "text": [
      "                                                                                                    \r"
     ]
    },
    {
     "name": "stdout",
     "output_type": "stream",
     "text": [
      "Val Acc (Classification) 83.9621%\t Val Loss (Classification) 2.6060\n"
     ]
    },
    {
     "name": "stderr",
     "output_type": "stream",
     "text": [
      "                                                  \r"
     ]
    },
    {
     "name": "stdout",
     "output_type": "stream",
     "text": [
      "Val Acc (Verification) 40.0000%\t \n",
      "Saved best classification model\n",
      "\n",
      "Epoch 155/200\n"
     ]
    },
    {
     "name": "stderr",
     "output_type": "stream",
     "text": [
      "                                                                                                                   \r"
     ]
    },
    {
     "name": "stdout",
     "output_type": "stream",
     "text": [
      "\n",
      "Epoch 155/200: \n",
      "Train Acc (Classification) 99.9914%\t Train Loss (Classification) 1.2719\t Learning Rate 0.0000\n"
     ]
    },
    {
     "name": "stderr",
     "output_type": "stream",
     "text": [
      "                                                                                                    \r"
     ]
    },
    {
     "name": "stdout",
     "output_type": "stream",
     "text": [
      "Val Acc (Classification) 83.9704%\t Val Loss (Classification) 2.6034\n"
     ]
    },
    {
     "name": "stderr",
     "output_type": "stream",
     "text": [
      "                                                  \r"
     ]
    },
    {
     "name": "stdout",
     "output_type": "stream",
     "text": [
      "Val Acc (Verification) 39.7222%\t \n",
      "Saved best classification model\n",
      "\n",
      "Epoch 156/200\n"
     ]
    },
    {
     "name": "stderr",
     "output_type": "stream",
     "text": [
      "                                                                                                                   \r"
     ]
    },
    {
     "name": "stdout",
     "output_type": "stream",
     "text": [
      "\n",
      "Epoch 156/200: \n",
      "Train Acc (Classification) 99.9907%\t Train Loss (Classification) 1.2719\t Learning Rate 0.0000\n"
     ]
    },
    {
     "name": "stderr",
     "output_type": "stream",
     "text": [
      "                                                                                                    \r"
     ]
    },
    {
     "name": "stdout",
     "output_type": "stream",
     "text": [
      "Val Acc (Classification) 83.9732%\t Val Loss (Classification) 2.6051\n"
     ]
    },
    {
     "name": "stderr",
     "output_type": "stream",
     "text": [
      "                                                  \r"
     ]
    },
    {
     "name": "stdout",
     "output_type": "stream",
     "text": [
      "Val Acc (Verification) 40.5556%\t \n",
      "Saved best classification model\n",
      "\n",
      "Epoch 157/200\n"
     ]
    },
    {
     "name": "stderr",
     "output_type": "stream",
     "text": [
      "                                                                                                                   \r"
     ]
    },
    {
     "name": "stdout",
     "output_type": "stream",
     "text": [
      "\n",
      "Epoch 157/200: \n",
      "Train Acc (Classification) 99.9914%\t Train Loss (Classification) 1.2718\t Learning Rate 0.0000\n"
     ]
    },
    {
     "name": "stderr",
     "output_type": "stream",
     "text": [
      "                                                                                                    \r"
     ]
    },
    {
     "name": "stdout",
     "output_type": "stream",
     "text": [
      "Val Acc (Classification) 83.9704%\t Val Loss (Classification) 2.6064\n"
     ]
    },
    {
     "name": "stderr",
     "output_type": "stream",
     "text": [
      "                                                  \r"
     ]
    },
    {
     "name": "stdout",
     "output_type": "stream",
     "text": [
      "Val Acc (Verification) 40.0000%\t \n",
      "Saved best classification model\n",
      "\n",
      "Epoch 158/200\n"
     ]
    },
    {
     "name": "stderr",
     "output_type": "stream",
     "text": [
      "                                                                                                                   \r"
     ]
    },
    {
     "name": "stdout",
     "output_type": "stream",
     "text": [
      "\n",
      "Epoch 158/200: \n",
      "Train Acc (Classification) 99.9914%\t Train Loss (Classification) 1.2718\t Learning Rate 0.0000\n"
     ]
    },
    {
     "name": "stderr",
     "output_type": "stream",
     "text": [
      "                                                                                                    \r"
     ]
    },
    {
     "name": "stdout",
     "output_type": "stream",
     "text": [
      "Val Acc (Classification) 83.9732%\t Val Loss (Classification) 2.6059\n"
     ]
    },
    {
     "name": "stderr",
     "output_type": "stream",
     "text": [
      "                                                  \r"
     ]
    },
    {
     "name": "stdout",
     "output_type": "stream",
     "text": [
      "Val Acc (Verification) 40.2778%\t \n",
      "Saved best classification model\n",
      "\n",
      "Epoch 159/200\n"
     ]
    },
    {
     "name": "stderr",
     "output_type": "stream",
     "text": [
      "                                                                                                                   \r"
     ]
    },
    {
     "name": "stdout",
     "output_type": "stream",
     "text": [
      "\n",
      "Epoch 159/200: \n",
      "Train Acc (Classification) 99.9907%\t Train Loss (Classification) 1.2717\t Learning Rate 0.0000\n"
     ]
    },
    {
     "name": "stderr",
     "output_type": "stream",
     "text": [
      "                                                                                                    \r"
     ]
    },
    {
     "name": "stdout",
     "output_type": "stream",
     "text": [
      "Val Acc (Classification) 84.0039%\t Val Loss (Classification) 2.6058\n"
     ]
    },
    {
     "name": "stderr",
     "output_type": "stream",
     "text": [
      "                                                  \r"
     ]
    },
    {
     "name": "stdout",
     "output_type": "stream",
     "text": [
      "Val Acc (Verification) 40.2778%\t \n",
      "Saved best classification model\n",
      "\n",
      "Epoch 160/200\n"
     ]
    },
    {
     "name": "stderr",
     "output_type": "stream",
     "text": [
      "                                                                                                                   \r"
     ]
    },
    {
     "name": "stdout",
     "output_type": "stream",
     "text": [
      "\n",
      "Epoch 160/200: \n",
      "Train Acc (Classification) 99.9914%\t Train Loss (Classification) 1.2717\t Learning Rate 0.0000\n"
     ]
    },
    {
     "name": "stderr",
     "output_type": "stream",
     "text": [
      "                                                                                                    \r"
     ]
    },
    {
     "name": "stdout",
     "output_type": "stream",
     "text": [
      "Val Acc (Classification) 84.0067%\t Val Loss (Classification) 2.6040\n"
     ]
    },
    {
     "name": "stderr",
     "output_type": "stream",
     "text": [
      "                                                  \r"
     ]
    },
    {
     "name": "stdout",
     "output_type": "stream",
     "text": [
      "Val Acc (Verification) 40.2778%\t \n",
      "Saved best classification model\n",
      "\n",
      "Epoch 161/200\n"
     ]
    },
    {
     "name": "stderr",
     "output_type": "stream",
     "text": [
      "                                                                                                                   \r"
     ]
    },
    {
     "name": "stdout",
     "output_type": "stream",
     "text": [
      "\n",
      "Epoch 161/200: \n",
      "Train Acc (Classification) 99.9914%\t Train Loss (Classification) 1.2716\t Learning Rate 0.0000\n"
     ]
    },
    {
     "name": "stderr",
     "output_type": "stream",
     "text": [
      "                                                                                                    \r"
     ]
    },
    {
     "name": "stdout",
     "output_type": "stream",
     "text": [
      "Val Acc (Classification) 83.9704%\t Val Loss (Classification) 2.6055\n"
     ]
    },
    {
     "name": "stderr",
     "output_type": "stream",
     "text": [
      "                                                  \r"
     ]
    },
    {
     "name": "stdout",
     "output_type": "stream",
     "text": [
      "Val Acc (Verification) 40.0000%\t \n",
      "Saved best classification model\n",
      "\n",
      "Epoch 162/200\n"
     ]
    },
    {
     "name": "stderr",
     "output_type": "stream",
     "text": [
      "                                                                                                                   \r"
     ]
    },
    {
     "name": "stdout",
     "output_type": "stream",
     "text": [
      "\n",
      "Epoch 162/200: \n",
      "Train Acc (Classification) 99.9914%\t Train Loss (Classification) 1.2715\t Learning Rate 0.0000\n"
     ]
    },
    {
     "name": "stderr",
     "output_type": "stream",
     "text": [
      "                                                                                                    \r"
     ]
    },
    {
     "name": "stdout",
     "output_type": "stream",
     "text": [
      "Val Acc (Classification) 83.9816%\t Val Loss (Classification) 2.6075\n"
     ]
    },
    {
     "name": "stderr",
     "output_type": "stream",
     "text": [
      "                                                  \r"
     ]
    },
    {
     "name": "stdout",
     "output_type": "stream",
     "text": [
      "Val Acc (Verification) 40.2778%\t \n",
      "Saved best classification model\n",
      "\n",
      "Epoch 163/200\n"
     ]
    },
    {
     "name": "stderr",
     "output_type": "stream",
     "text": [
      "                                                                                                                  \r"
     ]
    },
    {
     "name": "stdout",
     "output_type": "stream",
     "text": [
      "\n",
      "Epoch 163/200: \n",
      "Train Acc (Classification) 99.9907%\t Train Loss (Classification) 1.2714\t Learning Rate 0.0000\n"
     ]
    },
    {
     "name": "stderr",
     "output_type": "stream",
     "text": [
      "                                                                                                    \r"
     ]
    },
    {
     "name": "stdout",
     "output_type": "stream",
     "text": [
      "Val Acc (Classification) 84.0067%\t Val Loss (Classification) 2.6039\n"
     ]
    },
    {
     "name": "stderr",
     "output_type": "stream",
     "text": [
      "                                                  \r"
     ]
    },
    {
     "name": "stdout",
     "output_type": "stream",
     "text": [
      "Val Acc (Verification) 39.7222%\t \n",
      "Saved best classification model\n",
      "\n",
      "Epoch 164/200\n"
     ]
    },
    {
     "name": "stderr",
     "output_type": "stream",
     "text": [
      "                                                                                                                   \r"
     ]
    },
    {
     "name": "stdout",
     "output_type": "stream",
     "text": [
      "\n",
      "Epoch 164/200: \n",
      "Train Acc (Classification) 99.9907%\t Train Loss (Classification) 1.2715\t Learning Rate 0.0000\n"
     ]
    },
    {
     "name": "stderr",
     "output_type": "stream",
     "text": [
      "                                                                                                    \r"
     ]
    },
    {
     "name": "stdout",
     "output_type": "stream",
     "text": [
      "Val Acc (Classification) 83.9676%\t Val Loss (Classification) 2.6054\n"
     ]
    },
    {
     "name": "stderr",
     "output_type": "stream",
     "text": [
      "                                                  \r"
     ]
    },
    {
     "name": "stdout",
     "output_type": "stream",
     "text": [
      "Val Acc (Verification) 40.0000%\t \n",
      "Saved best classification model\n",
      "\n",
      "Epoch 165/200\n"
     ]
    },
    {
     "name": "stderr",
     "output_type": "stream",
     "text": [
      "                                                                                                                   \r"
     ]
    },
    {
     "name": "stdout",
     "output_type": "stream",
     "text": [
      "\n",
      "Epoch 165/200: \n",
      "Train Acc (Classification) 99.9914%\t Train Loss (Classification) 1.2713\t Learning Rate 0.0000\n"
     ]
    },
    {
     "name": "stderr",
     "output_type": "stream",
     "text": [
      "                                                                                                    \r"
     ]
    },
    {
     "name": "stdout",
     "output_type": "stream",
     "text": [
      "Val Acc (Classification) 83.9900%\t Val Loss (Classification) 2.6069\n"
     ]
    },
    {
     "name": "stderr",
     "output_type": "stream",
     "text": [
      "                                                  \r"
     ]
    },
    {
     "name": "stdout",
     "output_type": "stream",
     "text": [
      "Val Acc (Verification) 40.2778%\t \n",
      "Saved best classification model\n",
      "\n",
      "Epoch 166/200\n"
     ]
    },
    {
     "name": "stderr",
     "output_type": "stream",
     "text": [
      "                                                                                                                   \r"
     ]
    },
    {
     "name": "stdout",
     "output_type": "stream",
     "text": [
      "\n",
      "Epoch 166/200: \n",
      "Train Acc (Classification) 99.9914%\t Train Loss (Classification) 1.2713\t Learning Rate 0.0000\n"
     ]
    },
    {
     "name": "stderr",
     "output_type": "stream",
     "text": [
      "                                                                                                    \r"
     ]
    },
    {
     "name": "stdout",
     "output_type": "stream",
     "text": [
      "Val Acc (Classification) 84.0234%\t Val Loss (Classification) 2.6054\n"
     ]
    },
    {
     "name": "stderr",
     "output_type": "stream",
     "text": [
      "                                                  \r"
     ]
    },
    {
     "name": "stdout",
     "output_type": "stream",
     "text": [
      "Val Acc (Verification) 40.2778%\t \n",
      "Saved best classification model\n",
      "\n",
      "Epoch 167/200\n"
     ]
    },
    {
     "name": "stderr",
     "output_type": "stream",
     "text": [
      "                                                                                                                   \r"
     ]
    },
    {
     "name": "stdout",
     "output_type": "stream",
     "text": [
      "\n",
      "Epoch 167/200: \n",
      "Train Acc (Classification) 99.9914%\t Train Loss (Classification) 1.2711\t Learning Rate 0.0000\n"
     ]
    },
    {
     "name": "stderr",
     "output_type": "stream",
     "text": [
      "                                                                                                    \r"
     ]
    },
    {
     "name": "stdout",
     "output_type": "stream",
     "text": [
      "Val Acc (Classification) 84.0067%\t Val Loss (Classification) 2.6099\n"
     ]
    },
    {
     "name": "stderr",
     "output_type": "stream",
     "text": [
      "                                                  \r"
     ]
    },
    {
     "name": "stdout",
     "output_type": "stream",
     "text": [
      "Val Acc (Verification) 40.0000%\t \n",
      "Saved best classification model\n",
      "\n",
      "Epoch 168/200\n"
     ]
    },
    {
     "name": "stderr",
     "output_type": "stream",
     "text": [
      "                                                                                                                   \r"
     ]
    },
    {
     "name": "stdout",
     "output_type": "stream",
     "text": [
      "\n",
      "Epoch 168/200: \n",
      "Train Acc (Classification) 99.9914%\t Train Loss (Classification) 1.2710\t Learning Rate 0.0000\n"
     ]
    },
    {
     "name": "stderr",
     "output_type": "stream",
     "text": [
      "                                                                                                    \r"
     ]
    },
    {
     "name": "stdout",
     "output_type": "stream",
     "text": [
      "Val Acc (Classification) 84.0374%\t Val Loss (Classification) 2.6054\n"
     ]
    },
    {
     "name": "stderr",
     "output_type": "stream",
     "text": [
      "                                                  \r"
     ]
    },
    {
     "name": "stdout",
     "output_type": "stream",
     "text": [
      "Val Acc (Verification) 40.2778%\t \n",
      "Saved best classification model\n",
      "\n",
      "Epoch 169/200\n"
     ]
    },
    {
     "name": "stderr",
     "output_type": "stream",
     "text": [
      "                                                                                                                   \r"
     ]
    },
    {
     "name": "stdout",
     "output_type": "stream",
     "text": [
      "\n",
      "Epoch 169/200: \n",
      "Train Acc (Classification) 99.9914%\t Train Loss (Classification) 1.2710\t Learning Rate 0.0000\n"
     ]
    },
    {
     "name": "stderr",
     "output_type": "stream",
     "text": [
      "                                                                                                    \r"
     ]
    },
    {
     "name": "stdout",
     "output_type": "stream",
     "text": [
      "Val Acc (Classification) 84.0346%\t Val Loss (Classification) 2.6058\n"
     ]
    },
    {
     "name": "stderr",
     "output_type": "stream",
     "text": [
      "                                                  \r"
     ]
    },
    {
     "name": "stdout",
     "output_type": "stream",
     "text": [
      "Val Acc (Verification) 40.2778%\t \n",
      "Saved best classification model\n",
      "\n",
      "Epoch 170/200\n"
     ]
    },
    {
     "name": "stderr",
     "output_type": "stream",
     "text": [
      "                                                                                                                   \r"
     ]
    },
    {
     "name": "stdout",
     "output_type": "stream",
     "text": [
      "\n",
      "Epoch 170/200: \n",
      "Train Acc (Classification) 99.9914%\t Train Loss (Classification) 1.2710\t Learning Rate 0.0000\n"
     ]
    },
    {
     "name": "stderr",
     "output_type": "stream",
     "text": [
      "                                                                                                    \r"
     ]
    },
    {
     "name": "stdout",
     "output_type": "stream",
     "text": [
      "Val Acc (Classification) 83.9955%\t Val Loss (Classification) 2.6067\n"
     ]
    },
    {
     "name": "stderr",
     "output_type": "stream",
     "text": [
      "                                                  \r"
     ]
    },
    {
     "name": "stdout",
     "output_type": "stream",
     "text": [
      "Val Acc (Verification) 40.0000%\t \n",
      "Saved best classification model\n",
      "\n",
      "Epoch 171/200\n"
     ]
    },
    {
     "name": "stderr",
     "output_type": "stream",
     "text": [
      "                                                                                                                  \r"
     ]
    },
    {
     "name": "stdout",
     "output_type": "stream",
     "text": [
      "\n",
      "Epoch 171/200: \n",
      "Train Acc (Classification) 99.9907%\t Train Loss (Classification) 1.2710\t Learning Rate 0.0000\n"
     ]
    },
    {
     "name": "stderr",
     "output_type": "stream",
     "text": [
      "                                                                                                    \r"
     ]
    },
    {
     "name": "stdout",
     "output_type": "stream",
     "text": [
      "Val Acc (Classification) 84.0179%\t Val Loss (Classification) 2.6056\n"
     ]
    },
    {
     "name": "stderr",
     "output_type": "stream",
     "text": [
      "                                                  \r"
     ]
    },
    {
     "name": "stdout",
     "output_type": "stream",
     "text": [
      "Val Acc (Verification) 40.0000%\t \n",
      "Saved best classification model\n",
      "\n",
      "Epoch 172/200\n"
     ]
    },
    {
     "name": "stderr",
     "output_type": "stream",
     "text": [
      "                                                                                                                  \r"
     ]
    },
    {
     "name": "stdout",
     "output_type": "stream",
     "text": [
      "\n",
      "Epoch 172/200: \n",
      "Train Acc (Classification) 99.9907%\t Train Loss (Classification) 1.2708\t Learning Rate 0.0000\n"
     ]
    },
    {
     "name": "stderr",
     "output_type": "stream",
     "text": [
      "                                                                                                    \r"
     ]
    },
    {
     "name": "stdout",
     "output_type": "stream",
     "text": [
      "Val Acc (Classification) 84.0039%\t Val Loss (Classification) 2.6076\n"
     ]
    },
    {
     "name": "stderr",
     "output_type": "stream",
     "text": [
      "                                                  \r"
     ]
    },
    {
     "name": "stdout",
     "output_type": "stream",
     "text": [
      "Val Acc (Verification) 40.2778%\t \n",
      "Saved best classification model\n",
      "\n",
      "Epoch 173/200\n"
     ]
    },
    {
     "name": "stderr",
     "output_type": "stream",
     "text": [
      "                                                                                                                   \r"
     ]
    },
    {
     "name": "stdout",
     "output_type": "stream",
     "text": [
      "\n",
      "Epoch 173/200: \n",
      "Train Acc (Classification) 99.9907%\t Train Loss (Classification) 1.2709\t Learning Rate 0.0000\n"
     ]
    },
    {
     "name": "stderr",
     "output_type": "stream",
     "text": [
      "                                                                                                    \r"
     ]
    },
    {
     "name": "stdout",
     "output_type": "stream",
     "text": [
      "Val Acc (Classification) 84.0206%\t Val Loss (Classification) 2.6095\n"
     ]
    },
    {
     "name": "stderr",
     "output_type": "stream",
     "text": [
      "                                                  \r"
     ]
    },
    {
     "name": "stdout",
     "output_type": "stream",
     "text": [
      "Val Acc (Verification) 40.2778%\t \n",
      "Saved best classification model\n",
      "\n",
      "Epoch 174/200\n"
     ]
    },
    {
     "name": "stderr",
     "output_type": "stream",
     "text": [
      "                                                                                                                   \r"
     ]
    },
    {
     "name": "stdout",
     "output_type": "stream",
     "text": [
      "\n",
      "Epoch 174/200: \n",
      "Train Acc (Classification) 99.9914%\t Train Loss (Classification) 1.2706\t Learning Rate 0.0000\n"
     ]
    },
    {
     "name": "stderr",
     "output_type": "stream",
     "text": [
      "                                                                                                    \r"
     ]
    },
    {
     "name": "stdout",
     "output_type": "stream",
     "text": [
      "Val Acc (Classification) 84.0179%\t Val Loss (Classification) 2.6064\n"
     ]
    },
    {
     "name": "stderr",
     "output_type": "stream",
     "text": [
      "                                                  \r"
     ]
    },
    {
     "name": "stdout",
     "output_type": "stream",
     "text": [
      "Val Acc (Verification) 40.2778%\t \n",
      "Saved best classification model\n",
      "\n",
      "Epoch 175/200\n"
     ]
    },
    {
     "name": "stderr",
     "output_type": "stream",
     "text": [
      "                                                                                                                  \r"
     ]
    },
    {
     "name": "stdout",
     "output_type": "stream",
     "text": [
      "\n",
      "Epoch 175/200: \n",
      "Train Acc (Classification) 99.9907%\t Train Loss (Classification) 1.2707\t Learning Rate 0.0000\n"
     ]
    },
    {
     "name": "stderr",
     "output_type": "stream",
     "text": [
      "                                                                                                    \r"
     ]
    },
    {
     "name": "stdout",
     "output_type": "stream",
     "text": [
      "Val Acc (Classification) 84.0234%\t Val Loss (Classification) 2.6067\n"
     ]
    },
    {
     "name": "stderr",
     "output_type": "stream",
     "text": [
      "                                                  \r"
     ]
    },
    {
     "name": "stdout",
     "output_type": "stream",
     "text": [
      "Val Acc (Verification) 40.5556%\t \n",
      "Saved best classification model\n",
      "\n",
      "Epoch 176/200\n"
     ]
    },
    {
     "name": "stderr",
     "output_type": "stream",
     "text": [
      "                                                                                                                  \r"
     ]
    },
    {
     "name": "stdout",
     "output_type": "stream",
     "text": [
      "\n",
      "Epoch 176/200: \n",
      "Train Acc (Classification) 99.9907%\t Train Loss (Classification) 1.2706\t Learning Rate 0.0000\n"
     ]
    },
    {
     "name": "stderr",
     "output_type": "stream",
     "text": [
      "                                                                                                    \r"
     ]
    },
    {
     "name": "stdout",
     "output_type": "stream",
     "text": [
      "Val Acc (Classification) 84.0374%\t Val Loss (Classification) 2.6047\n"
     ]
    },
    {
     "name": "stderr",
     "output_type": "stream",
     "text": [
      "                                                  \r"
     ]
    },
    {
     "name": "stdout",
     "output_type": "stream",
     "text": [
      "Val Acc (Verification) 40.0000%\t \n",
      "Saved best classification model\n",
      "\n",
      "Epoch 177/200\n"
     ]
    },
    {
     "name": "stderr",
     "output_type": "stream",
     "text": [
      "                                                                                                                   \r"
     ]
    },
    {
     "name": "stdout",
     "output_type": "stream",
     "text": [
      "\n",
      "Epoch 177/200: \n",
      "Train Acc (Classification) 99.9914%\t Train Loss (Classification) 1.2705\t Learning Rate 0.0000\n"
     ]
    },
    {
     "name": "stderr",
     "output_type": "stream",
     "text": [
      "                                                                                                    \r"
     ]
    },
    {
     "name": "stdout",
     "output_type": "stream",
     "text": [
      "Val Acc (Classification) 84.0234%\t Val Loss (Classification) 2.6066\n"
     ]
    },
    {
     "name": "stderr",
     "output_type": "stream",
     "text": [
      "                                                  \r"
     ]
    },
    {
     "name": "stdout",
     "output_type": "stream",
     "text": [
      "Val Acc (Verification) 40.0000%\t \n",
      "Saved best classification model\n",
      "\n",
      "Epoch 178/200\n"
     ]
    },
    {
     "name": "stderr",
     "output_type": "stream",
     "text": [
      "                                                                                                                   \r"
     ]
    },
    {
     "name": "stdout",
     "output_type": "stream",
     "text": [
      "\n",
      "Epoch 178/200: \n",
      "Train Acc (Classification) 99.9914%\t Train Loss (Classification) 1.2704\t Learning Rate 0.0000\n"
     ]
    },
    {
     "name": "stderr",
     "output_type": "stream",
     "text": [
      "                                                                                                    \r"
     ]
    },
    {
     "name": "stdout",
     "output_type": "stream",
     "text": [
      "Val Acc (Classification) 84.0067%\t Val Loss (Classification) 2.6052\n"
     ]
    },
    {
     "name": "stderr",
     "output_type": "stream",
     "text": [
      "                                                  \r"
     ]
    },
    {
     "name": "stdout",
     "output_type": "stream",
     "text": [
      "Val Acc (Verification) 40.2778%\t \n",
      "Saved best classification model\n",
      "\n",
      "Epoch 179/200\n"
     ]
    },
    {
     "name": "stderr",
     "output_type": "stream",
     "text": [
      "                                                                                                                   \r"
     ]
    },
    {
     "name": "stdout",
     "output_type": "stream",
     "text": [
      "\n",
      "Epoch 179/200: \n",
      "Train Acc (Classification) 99.9914%\t Train Loss (Classification) 1.2704\t Learning Rate 0.0000\n"
     ]
    },
    {
     "name": "stderr",
     "output_type": "stream",
     "text": [
      "                                                                                                    \r"
     ]
    },
    {
     "name": "stdout",
     "output_type": "stream",
     "text": [
      "Val Acc (Classification) 84.0458%\t Val Loss (Classification) 2.6067\n"
     ]
    },
    {
     "name": "stderr",
     "output_type": "stream",
     "text": [
      "                                                  \r"
     ]
    },
    {
     "name": "stdout",
     "output_type": "stream",
     "text": [
      "Val Acc (Verification) 40.0000%\t \n",
      "Saved best classification model\n",
      "\n",
      "Epoch 180/200\n"
     ]
    },
    {
     "name": "stderr",
     "output_type": "stream",
     "text": [
      "                                                                                                                   \r"
     ]
    },
    {
     "name": "stdout",
     "output_type": "stream",
     "text": [
      "\n",
      "Epoch 180/200: \n",
      "Train Acc (Classification) 99.9914%\t Train Loss (Classification) 1.2703\t Learning Rate 0.0000\n"
     ]
    },
    {
     "name": "stderr",
     "output_type": "stream",
     "text": [
      "                                                                                                    \r"
     ]
    },
    {
     "name": "stdout",
     "output_type": "stream",
     "text": [
      "Val Acc (Classification) 84.0290%\t Val Loss (Classification) 2.6085\n"
     ]
    },
    {
     "name": "stderr",
     "output_type": "stream",
     "text": [
      "                                                  \r"
     ]
    },
    {
     "name": "stdout",
     "output_type": "stream",
     "text": [
      "Val Acc (Verification) 40.2778%\t \n",
      "Saved best classification model\n",
      "\n",
      "Epoch 181/200\n"
     ]
    },
    {
     "name": "stderr",
     "output_type": "stream",
     "text": [
      "                                                                                                                   \r"
     ]
    },
    {
     "name": "stdout",
     "output_type": "stream",
     "text": [
      "\n",
      "Epoch 181/200: \n",
      "Train Acc (Classification) 99.9914%\t Train Loss (Classification) 1.2703\t Learning Rate 0.0000\n"
     ]
    },
    {
     "name": "stderr",
     "output_type": "stream",
     "text": [
      "                                                                                                    \r"
     ]
    },
    {
     "name": "stdout",
     "output_type": "stream",
     "text": [
      "Val Acc (Classification) 84.0346%\t Val Loss (Classification) 2.6069\n"
     ]
    },
    {
     "name": "stderr",
     "output_type": "stream",
     "text": [
      "                                                  \r"
     ]
    },
    {
     "name": "stdout",
     "output_type": "stream",
     "text": [
      "Val Acc (Verification) 40.2778%\t \n",
      "Saved best classification model\n",
      "\n",
      "Epoch 182/200\n"
     ]
    },
    {
     "name": "stderr",
     "output_type": "stream",
     "text": [
      "                                                                                                                   \r"
     ]
    },
    {
     "name": "stdout",
     "output_type": "stream",
     "text": [
      "\n",
      "Epoch 182/200: \n",
      "Train Acc (Classification) 99.9914%\t Train Loss (Classification) 1.2701\t Learning Rate 0.0000\n"
     ]
    },
    {
     "name": "stderr",
     "output_type": "stream",
     "text": [
      "                                                                                                    \r"
     ]
    },
    {
     "name": "stdout",
     "output_type": "stream",
     "text": [
      "Val Acc (Classification) 84.0374%\t Val Loss (Classification) 2.6054\n"
     ]
    },
    {
     "name": "stderr",
     "output_type": "stream",
     "text": [
      "                                                  \r"
     ]
    },
    {
     "name": "stdout",
     "output_type": "stream",
     "text": [
      "Val Acc (Verification) 39.7222%\t \n",
      "Saved best classification model\n",
      "\n",
      "Epoch 183/200\n"
     ]
    },
    {
     "name": "stderr",
     "output_type": "stream",
     "text": [
      "                                                                                                                  \r"
     ]
    },
    {
     "name": "stdout",
     "output_type": "stream",
     "text": [
      "\n",
      "Epoch 183/200: \n",
      "Train Acc (Classification) 99.9900%\t Train Loss (Classification) 1.2702\t Learning Rate 0.0000\n"
     ]
    },
    {
     "name": "stderr",
     "output_type": "stream",
     "text": [
      "                                                                                                    \r"
     ]
    },
    {
     "name": "stdout",
     "output_type": "stream",
     "text": [
      "Val Acc (Classification) 84.0458%\t Val Loss (Classification) 2.6065\n"
     ]
    },
    {
     "name": "stderr",
     "output_type": "stream",
     "text": [
      "                                                  \r"
     ]
    },
    {
     "name": "stdout",
     "output_type": "stream",
     "text": [
      "Val Acc (Verification) 40.5556%\t \n",
      "Saved best classification model\n",
      "\n",
      "Epoch 184/200\n"
     ]
    },
    {
     "name": "stderr",
     "output_type": "stream",
     "text": [
      "                                                                                                                   \r"
     ]
    },
    {
     "name": "stdout",
     "output_type": "stream",
     "text": [
      "\n",
      "Epoch 184/200: \n",
      "Train Acc (Classification) 99.9914%\t Train Loss (Classification) 1.2701\t Learning Rate 0.0000\n"
     ]
    },
    {
     "name": "stderr",
     "output_type": "stream",
     "text": [
      "                                                                                                    \r"
     ]
    },
    {
     "name": "stdout",
     "output_type": "stream",
     "text": [
      "Val Acc (Classification) 84.0485%\t Val Loss (Classification) 2.6071\n"
     ]
    },
    {
     "name": "stderr",
     "output_type": "stream",
     "text": [
      "                                                  \r"
     ]
    },
    {
     "name": "stdout",
     "output_type": "stream",
     "text": [
      "Val Acc (Verification) 40.2778%\t \n",
      "Saved best classification model\n",
      "\n",
      "Epoch 185/200\n"
     ]
    },
    {
     "name": "stderr",
     "output_type": "stream",
     "text": [
      "                                                                                                                   \r"
     ]
    },
    {
     "name": "stdout",
     "output_type": "stream",
     "text": [
      "\n",
      "Epoch 185/200: \n",
      "Train Acc (Classification) 99.9914%\t Train Loss (Classification) 1.2700\t Learning Rate 0.0000\n"
     ]
    },
    {
     "name": "stderr",
     "output_type": "stream",
     "text": [
      "                                                                                                    \r"
     ]
    },
    {
     "name": "stdout",
     "output_type": "stream",
     "text": [
      "Val Acc (Classification) 84.0569%\t Val Loss (Classification) 2.6064\n"
     ]
    },
    {
     "name": "stderr",
     "output_type": "stream",
     "text": [
      "                                                  \r"
     ]
    },
    {
     "name": "stdout",
     "output_type": "stream",
     "text": [
      "Val Acc (Verification) 40.2778%\t \n",
      "Saved best classification model\n",
      "\n",
      "Epoch 186/200\n"
     ]
    },
    {
     "name": "stderr",
     "output_type": "stream",
     "text": [
      "                                                                                                                  \r"
     ]
    },
    {
     "name": "stdout",
     "output_type": "stream",
     "text": [
      "\n",
      "Epoch 186/200: \n",
      "Train Acc (Classification) 99.9907%\t Train Loss (Classification) 1.2700\t Learning Rate 0.0000\n"
     ]
    },
    {
     "name": "stderr",
     "output_type": "stream",
     "text": [
      "                                                                                                    \r"
     ]
    },
    {
     "name": "stdout",
     "output_type": "stream",
     "text": [
      "Val Acc (Classification) 84.0653%\t Val Loss (Classification) 2.6065\n"
     ]
    },
    {
     "name": "stderr",
     "output_type": "stream",
     "text": [
      "                                                  \r"
     ]
    },
    {
     "name": "stdout",
     "output_type": "stream",
     "text": [
      "Val Acc (Verification) 39.7222%\t \n",
      "Saved best classification model\n",
      "\n",
      "Epoch 187/200\n"
     ]
    },
    {
     "name": "stderr",
     "output_type": "stream",
     "text": [
      "                                                                                                                   \r"
     ]
    },
    {
     "name": "stdout",
     "output_type": "stream",
     "text": [
      "\n",
      "Epoch 187/200: \n",
      "Train Acc (Classification) 99.9914%\t Train Loss (Classification) 1.2700\t Learning Rate 0.0000\n"
     ]
    },
    {
     "name": "stderr",
     "output_type": "stream",
     "text": [
      "                                                                                                    \r"
     ]
    },
    {
     "name": "stdout",
     "output_type": "stream",
     "text": [
      "Val Acc (Classification) 84.1044%\t Val Loss (Classification) 2.6063\n"
     ]
    },
    {
     "name": "stderr",
     "output_type": "stream",
     "text": [
      "                                                  \r"
     ]
    },
    {
     "name": "stdout",
     "output_type": "stream",
     "text": [
      "Val Acc (Verification) 40.0000%\t \n",
      "Saved best classification model\n",
      "\n",
      "Epoch 188/200\n"
     ]
    },
    {
     "name": "stderr",
     "output_type": "stream",
     "text": [
      "                                                                                                                   \r"
     ]
    },
    {
     "name": "stdout",
     "output_type": "stream",
     "text": [
      "\n",
      "Epoch 188/200: \n",
      "Train Acc (Classification) 99.9914%\t Train Loss (Classification) 1.2698\t Learning Rate 0.0000\n"
     ]
    },
    {
     "name": "stderr",
     "output_type": "stream",
     "text": [
      "                                                                                                    \r"
     ]
    },
    {
     "name": "stdout",
     "output_type": "stream",
     "text": [
      "Val Acc (Classification) 84.1211%\t Val Loss (Classification) 2.6047\n"
     ]
    },
    {
     "name": "stderr",
     "output_type": "stream",
     "text": [
      "                                                  \r"
     ]
    },
    {
     "name": "stdout",
     "output_type": "stream",
     "text": [
      "Val Acc (Verification) 40.2778%\t \n",
      "Saved best classification model\n",
      "\n",
      "Epoch 189/200\n"
     ]
    },
    {
     "name": "stderr",
     "output_type": "stream",
     "text": [
      "                                                                                                                   \r"
     ]
    },
    {
     "name": "stdout",
     "output_type": "stream",
     "text": [
      "\n",
      "Epoch 189/200: \n",
      "Train Acc (Classification) 99.9914%\t Train Loss (Classification) 1.2698\t Learning Rate 0.0000\n"
     ]
    },
    {
     "name": "stderr",
     "output_type": "stream",
     "text": [
      "                                                                                                    \r"
     ]
    },
    {
     "name": "stdout",
     "output_type": "stream",
     "text": [
      "Val Acc (Classification) 84.0988%\t Val Loss (Classification) 2.6072\n"
     ]
    },
    {
     "name": "stderr",
     "output_type": "stream",
     "text": [
      "                                                  \r"
     ]
    },
    {
     "name": "stdout",
     "output_type": "stream",
     "text": [
      "Val Acc (Verification) 40.2778%\t \n",
      "Saved best classification model\n",
      "\n",
      "Epoch 190/200\n"
     ]
    },
    {
     "name": "stderr",
     "output_type": "stream",
     "text": [
      "                                                                                                                   \r"
     ]
    },
    {
     "name": "stdout",
     "output_type": "stream",
     "text": [
      "\n",
      "Epoch 190/200: \n",
      "Train Acc (Classification) 99.9914%\t Train Loss (Classification) 1.2697\t Learning Rate 0.0000\n"
     ]
    },
    {
     "name": "stderr",
     "output_type": "stream",
     "text": [
      "                                                                                                    \r"
     ]
    },
    {
     "name": "stdout",
     "output_type": "stream",
     "text": [
      "Val Acc (Classification) 84.0848%\t Val Loss (Classification) 2.6063\n"
     ]
    },
    {
     "name": "stderr",
     "output_type": "stream",
     "text": [
      "                                                  \r"
     ]
    },
    {
     "name": "stdout",
     "output_type": "stream",
     "text": [
      "Val Acc (Verification) 40.5556%\t \n",
      "Saved best classification model\n",
      "\n",
      "Epoch 191/200\n"
     ]
    },
    {
     "name": "stderr",
     "output_type": "stream",
     "text": [
      "                                                                                                                   \r"
     ]
    },
    {
     "name": "stdout",
     "output_type": "stream",
     "text": [
      "\n",
      "Epoch 191/200: \n",
      "Train Acc (Classification) 99.9914%\t Train Loss (Classification) 1.2697\t Learning Rate 0.0000\n"
     ]
    },
    {
     "name": "stderr",
     "output_type": "stream",
     "text": [
      "                                                                                                    \r"
     ]
    },
    {
     "name": "stdout",
     "output_type": "stream",
     "text": [
      "Val Acc (Classification) 84.0681%\t Val Loss (Classification) 2.6054\n"
     ]
    },
    {
     "name": "stderr",
     "output_type": "stream",
     "text": [
      "                                                  \r"
     ]
    },
    {
     "name": "stdout",
     "output_type": "stream",
     "text": [
      "Val Acc (Verification) 40.5556%\t \n",
      "Saved best classification model\n",
      "\n",
      "Epoch 192/200\n"
     ]
    },
    {
     "name": "stderr",
     "output_type": "stream",
     "text": [
      "                                                                                                                   \r"
     ]
    },
    {
     "name": "stdout",
     "output_type": "stream",
     "text": [
      "\n",
      "Epoch 192/200: \n",
      "Train Acc (Classification) 99.9914%\t Train Loss (Classification) 1.2696\t Learning Rate 0.0000\n"
     ]
    },
    {
     "name": "stderr",
     "output_type": "stream",
     "text": [
      "                                                                                                    \r"
     ]
    },
    {
     "name": "stdout",
     "output_type": "stream",
     "text": [
      "Val Acc (Classification) 84.0681%\t Val Loss (Classification) 2.6057\n"
     ]
    },
    {
     "name": "stderr",
     "output_type": "stream",
     "text": [
      "                                                  \r"
     ]
    },
    {
     "name": "stdout",
     "output_type": "stream",
     "text": [
      "Val Acc (Verification) 40.5556%\t \n",
      "Saved best classification model\n",
      "\n",
      "Epoch 193/200\n"
     ]
    },
    {
     "name": "stderr",
     "output_type": "stream",
     "text": [
      "                                                                                                                   \r"
     ]
    },
    {
     "name": "stdout",
     "output_type": "stream",
     "text": [
      "\n",
      "Epoch 193/200: \n",
      "Train Acc (Classification) 99.9914%\t Train Loss (Classification) 1.2695\t Learning Rate 0.0000\n"
     ]
    },
    {
     "name": "stderr",
     "output_type": "stream",
     "text": [
      "                                                                                                    \r"
     ]
    },
    {
     "name": "stdout",
     "output_type": "stream",
     "text": [
      "Val Acc (Classification) 84.0485%\t Val Loss (Classification) 2.6097\n"
     ]
    },
    {
     "name": "stderr",
     "output_type": "stream",
     "text": [
      "                                                  \r"
     ]
    },
    {
     "name": "stdout",
     "output_type": "stream",
     "text": [
      "Val Acc (Verification) 40.2778%\t \n",
      "Saved best classification model\n",
      "\n",
      "Epoch 194/200\n"
     ]
    },
    {
     "name": "stderr",
     "output_type": "stream",
     "text": [
      "                                                                                                                   \r"
     ]
    },
    {
     "name": "stdout",
     "output_type": "stream",
     "text": [
      "\n",
      "Epoch 194/200: \n",
      "Train Acc (Classification) 99.9914%\t Train Loss (Classification) 1.2695\t Learning Rate 0.0000\n"
     ]
    },
    {
     "name": "stderr",
     "output_type": "stream",
     "text": [
      "                                                                                                    \r"
     ]
    },
    {
     "name": "stdout",
     "output_type": "stream",
     "text": [
      "Val Acc (Classification) 84.0876%\t Val Loss (Classification) 2.6070\n"
     ]
    },
    {
     "name": "stderr",
     "output_type": "stream",
     "text": [
      "                                                  \r"
     ]
    },
    {
     "name": "stdout",
     "output_type": "stream",
     "text": [
      "Val Acc (Verification) 40.2778%\t \n",
      "Saved best classification model\n",
      "\n",
      "Epoch 195/200\n"
     ]
    },
    {
     "name": "stderr",
     "output_type": "stream",
     "text": [
      "                                                                                                                   \r"
     ]
    },
    {
     "name": "stdout",
     "output_type": "stream",
     "text": [
      "\n",
      "Epoch 195/200: \n",
      "Train Acc (Classification) 99.9914%\t Train Loss (Classification) 1.2694\t Learning Rate 0.0000\n"
     ]
    },
    {
     "name": "stderr",
     "output_type": "stream",
     "text": [
      "                                                                                                    \r"
     ]
    },
    {
     "name": "stdout",
     "output_type": "stream",
     "text": [
      "Val Acc (Classification) 84.1016%\t Val Loss (Classification) 2.6064\n"
     ]
    },
    {
     "name": "stderr",
     "output_type": "stream",
     "text": [
      "                                                  \r"
     ]
    },
    {
     "name": "stdout",
     "output_type": "stream",
     "text": [
      "Val Acc (Verification) 40.5556%\t \n",
      "Saved best classification model\n",
      "\n",
      "Epoch 196/200\n"
     ]
    },
    {
     "name": "stderr",
     "output_type": "stream",
     "text": [
      "                                                                                                                   \r"
     ]
    },
    {
     "name": "stdout",
     "output_type": "stream",
     "text": [
      "\n",
      "Epoch 196/200: \n",
      "Train Acc (Classification) 99.9914%\t Train Loss (Classification) 1.2694\t Learning Rate 0.0000\n"
     ]
    },
    {
     "name": "stderr",
     "output_type": "stream",
     "text": [
      "                                                                                                    \r"
     ]
    },
    {
     "name": "stdout",
     "output_type": "stream",
     "text": [
      "Val Acc (Classification) 84.0932%\t Val Loss (Classification) 2.6073\n"
     ]
    },
    {
     "name": "stderr",
     "output_type": "stream",
     "text": [
      "                                                  \r"
     ]
    },
    {
     "name": "stdout",
     "output_type": "stream",
     "text": [
      "Val Acc (Verification) 40.5556%\t \n",
      "Saved best classification model\n",
      "\n",
      "Epoch 197/200\n"
     ]
    },
    {
     "name": "stderr",
     "output_type": "stream",
     "text": [
      "                                                                                                                   \r"
     ]
    },
    {
     "name": "stdout",
     "output_type": "stream",
     "text": [
      "\n",
      "Epoch 197/200: \n",
      "Train Acc (Classification) 99.9914%\t Train Loss (Classification) 1.2693\t Learning Rate 0.0000\n"
     ]
    },
    {
     "name": "stderr",
     "output_type": "stream",
     "text": [
      "                                                                                                    \r"
     ]
    },
    {
     "name": "stdout",
     "output_type": "stream",
     "text": [
      "Val Acc (Classification) 84.1127%\t Val Loss (Classification) 2.6067\n"
     ]
    },
    {
     "name": "stderr",
     "output_type": "stream",
     "text": [
      "                                                  \r"
     ]
    },
    {
     "name": "stdout",
     "output_type": "stream",
     "text": [
      "Val Acc (Verification) 40.2778%\t \n",
      "Saved best classification model\n",
      "\n",
      "Epoch 198/200\n"
     ]
    },
    {
     "name": "stderr",
     "output_type": "stream",
     "text": [
      "                                                                                                                  \r"
     ]
    },
    {
     "name": "stdout",
     "output_type": "stream",
     "text": [
      "\n",
      "Epoch 198/200: \n",
      "Train Acc (Classification) 99.9907%\t Train Loss (Classification) 1.2692\t Learning Rate 0.0000\n"
     ]
    },
    {
     "name": "stderr",
     "output_type": "stream",
     "text": [
      "                                                                                                    \r"
     ]
    },
    {
     "name": "stdout",
     "output_type": "stream",
     "text": [
      "Val Acc (Classification) 84.1127%\t Val Loss (Classification) 2.6060\n"
     ]
    },
    {
     "name": "stderr",
     "output_type": "stream",
     "text": [
      "                                                  \r"
     ]
    },
    {
     "name": "stdout",
     "output_type": "stream",
     "text": [
      "Val Acc (Verification) 40.2778%\t \n",
      "Saved best classification model\n",
      "\n",
      "Epoch 199/200\n"
     ]
    },
    {
     "name": "stderr",
     "output_type": "stream",
     "text": [
      "                                                                                                                   \r"
     ]
    },
    {
     "name": "stdout",
     "output_type": "stream",
     "text": [
      "\n",
      "Epoch 199/200: \n",
      "Train Acc (Classification) 99.9914%\t Train Loss (Classification) 1.2692\t Learning Rate 0.0000\n"
     ]
    },
    {
     "name": "stderr",
     "output_type": "stream",
     "text": [
      "                                                                                                    \r"
     ]
    },
    {
     "name": "stdout",
     "output_type": "stream",
     "text": [
      "Val Acc (Classification) 84.1267%\t Val Loss (Classification) 2.6048\n"
     ]
    },
    {
     "name": "stderr",
     "output_type": "stream",
     "text": [
      "                                                  \r"
     ]
    },
    {
     "name": "stdout",
     "output_type": "stream",
     "text": [
      "Val Acc (Verification) 40.5556%\t \n",
      "Saved best classification model\n",
      "\n",
      "Epoch 200/200\n"
     ]
    },
    {
     "name": "stderr",
     "output_type": "stream",
     "text": [
      "                                                                                                                   \r"
     ]
    },
    {
     "name": "stdout",
     "output_type": "stream",
     "text": [
      "\n",
      "Epoch 200/200: \n",
      "Train Acc (Classification) 99.9914%\t Train Loss (Classification) 1.2692\t Learning Rate 0.0000\n"
     ]
    },
    {
     "name": "stderr",
     "output_type": "stream",
     "text": [
      "                                                                                                    \r"
     ]
    },
    {
     "name": "stdout",
     "output_type": "stream",
     "text": [
      "Val Acc (Classification) 84.1406%\t Val Loss (Classification) 2.6034\n"
     ]
    },
    {
     "name": "stderr",
     "output_type": "stream",
     "text": [
      "                                                  \r"
     ]
    },
    {
     "name": "stdout",
     "output_type": "stream",
     "text": [
      "Val Acc (Verification) 40.5556%\t \n",
      "Saved best classification model\n"
     ]
    },
    {
     "data": {
      "application/vnd.jupyter.widget-view+json": {
       "model_id": "eb31a773f70747ebb80b399a74fb8334",
       "version_major": 2,
       "version_minor": 0
      },
      "text/plain": [
       "VBox(children=(Label(value='0.000 MB of 0.014 MB uploaded\\r'), FloatProgress(value=0.0, max=1.0)))"
      ]
     },
     "metadata": {},
     "output_type": "display_data"
    },
    {
     "name": "stderr",
     "output_type": "stream",
     "text": [
      "\u001b[34m\u001b[1mwandb\u001b[0m: \u001b[32m\u001b[41mERROR\u001b[0m Control-C detected -- Run data was not synced\n"
     ]
    }
   ],
   "source": [
    "best_class_acc      = 0.0\n",
    "best_ver_acc        = 0.0\n",
    "\n",
    "for epoch in range(config['epochs']):\n",
    "\n",
    "    print(\"\\nEpoch {}/{}\".format(epoch+1, config['epochs']))\n",
    "\n",
    "    curr_lr = float(optimizer.param_groups[0]['lr'])\n",
    "\n",
    "    train_acc, train_loss = train(model, train_loader, optimizer, criterion)\n",
    "\n",
    "    print(\"\\nEpoch {}/{}: \\nTrain Acc (Classification) {:.04f}%\\t Train Loss (Classification) {:.04f}\\t Learning Rate {:.04f}\".format(\n",
    "        epoch + 1, config['epochs'], train_acc, train_loss, curr_lr))\n",
    "\n",
    "    val_acc, val_loss = validate(model, valid_loader, criterion)\n",
    "    print(\"Val Acc (Classification) {:.04f}%\\t Val Loss (Classification) {:.04f}\".format(val_acc, val_loss))\n",
    "    scheduler.step(val_loss)\n",
    "    ver_acc, pred_id_strings = eval_verification(unknown_dev_images, known_images,\n",
    "                                                 model, similarity_metric, config['batch_size'], mode='val')\n",
    "\n",
    "    print(\"Val Acc (Verification) {:.04f}%\\t \".format(ver_acc))\n",
    "\n",
    "    wandb.log({\"train_classification_acc\": train_acc,\n",
    "                \"train_classification_loss\":train_loss,\n",
    "                \"val_classification_acc\": val_acc,\n",
    "                \"val_classification_loss\": val_loss,\n",
    "                \"val_verification_acc\": ver_acc,\n",
    "                \"learning_rate\": curr_lr})\n",
    "\n",
    "    # If you are using a scheduler in your train function within your iteration loop,\n",
    "    # How will you step your scheduler ?\n",
    "    \n",
    "\n",
    "    if val_acc >= best_class_acc:\n",
    "        best_valid_acc = val_acc\n",
    "        torch.save({'model_state_dict':model.state_dict(),\n",
    "                    'optimizer_state_dict':optimizer.state_dict(),\n",
    "                    'scheduler_state_dict':scheduler.state_dict(),\n",
    "                    'val_acc': val_acc,\n",
    "                    'epoch': epoch}, './checkpoint_classification.pth')\n",
    "        # wandb.save('checkpoint_verification.pth')\n",
    "        print(\"Saved best classification model\")\n",
    "\n",
    "    if ver_acc >= best_ver_acc:\n",
    "        best_ver_acc = ver_acc\n",
    "        torch.save({'model_state_dict':model.state_dict(),\n",
    "                    'optimizer_state_dict':optimizer.state_dict(),\n",
    "                    'scheduler_state_dict':scheduler.state_dict(),\n",
    "                    'val_acc': ver_acc,\n",
    "                    'epoch': epoch}, './checkpoint_verification.pth')\n",
    "        # wandb.save('checkpoint_verification.pth')\n",
    "        print(\"Saved verification model\")\n",
    "\n",
    "### Finish your wandb run\n",
    "run.finish()"
   ]
  },
  {
   "cell_type": "code",
   "execution_count": 18,
   "id": "d7ed77b8-27f5-47b2-88c1-46952c8c1a8a",
   "metadata": {},
   "outputs": [
    {
     "data": {
      "text/plain": [
       "4"
      ]
     },
     "execution_count": 18,
     "metadata": {},
     "output_type": "execute_result"
    }
   ],
   "source": [
    "torch.cuda.device_count()"
   ]
  },
  {
   "cell_type": "code",
   "execution_count": 19,
   "id": "f635529a-4ec2-48a4-95ee-3dea883c12aa",
   "metadata": {},
   "outputs": [],
   "source": [
    "def test(model,dataloader): # TODO: Run to finish predicting on the test set.\n",
    "\n",
    "  model.eval()\n",
    "  batch_bar = tqdm(total=len(dataloader), dynamic_ncols=True, position=0, leave=False, desc='Test')\n",
    "  test_results = []\n",
    "\n",
    "  for i, (images) in enumerate(dataloader):\n",
    "\n",
    "      images = images.to(DEVICE)\n",
    "\n",
    "      with torch.inference_mode():\n",
    "        outputs = model(images)\n",
    "\n",
    "      outputs = torch.argmax(outputs, axis=1).detach().cpu().numpy().tolist()\n",
    "      test_results.extend(outputs)\n",
    "\n",
    "      batch_bar.update()\n",
    "\n",
    "  batch_bar.close()\n",
    "  return test_results"
   ]
  },
  {
   "cell_type": "code",
   "execution_count": 20,
   "id": "4a26fc68-77ec-4ab1-b6c4-a6eff00d8185",
   "metadata": {},
   "outputs": [
    {
     "name": "stderr",
     "output_type": "stream",
     "text": [
      "                                                     \r"
     ]
    }
   ],
   "source": [
    "test_results = test(model, test_loader)"
   ]
  },
  {
   "cell_type": "code",
   "execution_count": 21,
   "id": "267b96e5-85a2-46f5-8515-92434473e5bb",
   "metadata": {},
   "outputs": [
    {
     "name": "stderr",
     "output_type": "stream",
     "text": [
      "                                                   \r"
     ]
    }
   ],
   "source": [
    "pred_id_strings = eval_verification(unknown_test_images, known_images,\n",
    "                                                 model, similarity_metric, config['batch_size'], mode='test')"
   ]
  },
  {
   "cell_type": "code",
   "execution_count": 22,
   "id": "84aa4aa2-6c4e-4cc3-960b-70579c371adf",
   "metadata": {},
   "outputs": [],
   "source": [
    "# TODO: Run to write the results in the files and submit to Kaggle\n",
    "# You only have 10 Kaggle submissions per day\n",
    "\n",
    "with open(\"classification_early_submission.csv\", \"w+\") as f:\n",
    "    f.write(\"id,label\\n\")\n",
    "    for i in range(len(test_dataset)):\n",
    "        f.write(\"{},{}\\n\".format(str(i).zfill(6) + \".jpg\", test_results[i]))\n",
    "\n",
    "with open(\"verification_early_submission.csv\", \"w+\") as f:\n",
    "    f.write(\"id,label\\n\")\n",
    "    for i in range(len(pred_id_strings)):\n",
    "        f.write(\"{},{}\\n\".format(i, pred_id_strings[i]))"
   ]
  },
  {
   "cell_type": "code",
   "execution_count": 23,
   "id": "418d3a5d-09a7-4c4f-8d64-e2c6e8fdf14a",
   "metadata": {},
   "outputs": [],
   "source": [
    "!chmod 600 /root/.kaggle/kaggle.json"
   ]
  },
  {
   "cell_type": "code",
   "execution_count": 26,
   "id": "03857908-89a9-41aa-9570-51eb5ea7d993",
   "metadata": {},
   "outputs": [
    {
     "name": "stdout",
     "output_type": "stream",
     "text": [
      "Warning: Looks like you're using an outdated API Version, please consider updating (server 1.6.7 / client 1.5.8)\n",
      "  0%|                                                | 0.00/542k [00:00<?, ?B/s]^C\n",
      "  0%|                                                | 0.00/542k [00:35<?, ?B/s]\n",
      "User cancelled operation\n",
      "Warning: Looks like you're using an outdated API Version, please consider updating (server 1.6.7 / client 1.5.8)\n",
      "  0%|                                               | 0.00/8.34k [00:00<?, ?B/s]^C\n",
      "  0%|                                               | 0.00/8.34k [00:07<?, ?B/s]\n",
      "User cancelled operation\n"
     ]
    }
   ],
   "source": [
    "!kaggle competitions submit -c 11785-hw2p2-face-recognition-slack -f classification_early_submission.csv -m \"Message\"\n",
    "!kaggle competitions submit -c 11785-hw2p2-face-verification-slack -f verification_early_submission.csv -m \"Message\""
   ]
  },
  {
   "cell_type": "code",
   "execution_count": null,
   "id": "4d607aea-9628-4d5e-b0ef-2ac36f5584d5",
   "metadata": {},
   "outputs": [],
   "source": []
  }
 ],
 "metadata": {
  "kernelspec": {
   "display_name": "Python 3 (ipykernel)",
   "language": "python",
   "name": "python3"
  },
  "language_info": {
   "codemirror_mode": {
    "name": "ipython",
    "version": 3
   },
   "file_extension": ".py",
   "mimetype": "text/x-python",
   "name": "python",
   "nbconvert_exporter": "python",
   "pygments_lexer": "ipython3",
   "version": "3.10.8"
  }
 },
 "nbformat": 4,
 "nbformat_minor": 5
}
