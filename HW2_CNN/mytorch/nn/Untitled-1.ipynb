{
 "cells": [
  {
   "cell_type": "code",
   "execution_count": 48,
   "metadata": {},
   "outputs": [
    {
     "name": "stdout",
     "output_type": "stream",
     "text": [
      "[[[2. 2. 2. 2. 2. 2.]\n",
      "  [2. 2. 2. 2. 2. 2.]]\n",
      "\n",
      " [[2. 2. 2. 2. 2. 2.]\n",
      "  [2. 2. 2. 2. 2. 2.]]]\n"
     ]
    }
   ],
   "source": [
    "import numpy as np\n",
    "\n",
    "\n",
    "\"\"\"\n",
    "Argument:\n",
    "    A (np.array): (batch_size, in_channels, input_size)\n",
    "    W (out_channels, in_channels, kernel_size)\n",
    "Return:\n",
    "    Z (np.array): (batch_size, out_channels, output_size)\n",
    "\"\"\"\n",
    "A = np.ones((2, 3, 7))\n",
    "W = np.ones((2, 3, 2))\n",
    "Z = np.ones((A.shape[0], W.shape[0], A.shape[2] - W.shape[2] + 1))\n",
    "for i in range(A.shape[0]):\n",
    "    for j in range(Z.shape[2]):\n",
    "        tmp = A[i, ..., j:j + W.shape[2]]\n",
    "        Z[i,...,j] = np.tensordot(tmp, W, axes = ([0, 1],[1, 2])).shape\n",
    "print(Z)        \n"
   ]
  },
  {
   "cell_type": "code",
   "execution_count": 47,
   "metadata": {},
   "outputs": [
    {
     "name": "stdout",
     "output_type": "stream",
     "text": [
      "[[[3. 3. 3. 3. 3. 3.]\n",
      "  [3. 3. 3. 3. 3. 3.]]\n",
      "\n",
      " [[3. 3. 3. 3. 3. 3.]\n",
      "  [3. 3. 3. 3. 3. 3.]]]\n"
     ]
    }
   ],
   "source": [
    "print(Z+1)"
   ]
  }
 ],
 "metadata": {
  "kernelspec": {
   "display_name": "Python 3",
   "language": "python",
   "name": "python3"
  },
  "language_info": {
   "codemirror_mode": {
    "name": "ipython",
    "version": 3
   },
   "file_extension": ".py",
   "mimetype": "text/x-python",
   "name": "python",
   "nbconvert_exporter": "python",
   "pygments_lexer": "ipython3",
   "version": "3.11.2"
  }
 },
 "nbformat": 4,
 "nbformat_minor": 2
}
